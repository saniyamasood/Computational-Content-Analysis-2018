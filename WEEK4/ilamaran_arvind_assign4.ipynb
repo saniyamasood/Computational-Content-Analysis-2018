{
 "cells": [
  {
   "cell_type": "code",
   "execution_count": 1,
   "metadata": {
    "collapsed": true
   },
   "outputs": [],
   "source": [
    "#Special module written for this class\n",
    "#This provides access to data and to helper functions from previous weeks\n",
    "#Make sure you update it before starting this notebook\n",
    "import lucem_illud #pip install -U git+git://github.com/Computational-Content-Analysis-2018/lucem_illud.git\n",
    "\n",
    "#All these packages need to be installed from pip\n",
    "import gensim#For word2vec, etc\n",
    "import requests #For downloading our datasets\n",
    "import nltk #For stop words and stemmers\n",
    "import numpy as np #For arrays\n",
    "import pandas #Gives us DataFrames\n",
    "import matplotlib.pyplot as plt #For graphics\n",
    "import seaborn #Makes the graphics look nicer\n",
    "import sklearn.metrics.pairwise #For cosine similarity\n",
    "import sklearn.manifold #For T-SNE\n",
    "import sklearn.decomposition #For PCA\n",
    "\n",
    "#gensim uses a couple of deprecated features\n",
    "#we can't do anything about them so lets ignore them \n",
    "import warnings\n",
    "warnings.filterwarnings(\"ignore\", category=DeprecationWarning) \n",
    "\n",
    "#This 'magic' command makes the plots work better\n",
    "#in the notebook, don't use it outside of a notebook.\n",
    "#Also you can ignore the warning\n",
    "%matplotlib inline\n",
    "\n",
    "import os #For looking through files\n",
    "import os.path #For managing file paths"
   ]
  },
  {
   "cell_type": "markdown",
   "metadata": {},
   "source": [
    "Construct cells immediately below this that **build a word2vec model** with your corpus. Interrogate word relationships in the resulting space, including **estimating 90% confidence intervals** for specific word cosine distances of interest. **Plot a subset of your words**. What do these word relationships reveal about the social and cultural game underlying your corpus? What was surprising--what violated your prior understanding of the corpus? What was expected--what confirmed your knowledge about this domain?"
   ]
  },
  {
   "cell_type": "code",
   "execution_count": 3,
   "metadata": {},
   "outputs": [
    {
     "data": {
      "text/html": [
       "<div>\n",
       "<style>\n",
       "    .dataframe thead tr:only-child th {\n",
       "        text-align: right;\n",
       "    }\n",
       "\n",
       "    .dataframe thead th {\n",
       "        text-align: left;\n",
       "    }\n",
       "\n",
       "    .dataframe tbody tr th {\n",
       "        vertical-align: top;\n",
       "    }\n",
       "</style>\n",
       "<table border=\"1\" class=\"dataframe\">\n",
       "  <thead>\n",
       "    <tr style=\"text-align: right;\">\n",
       "      <th></th>\n",
       "      <th>uuid</th>\n",
       "      <th>ord_in_thread</th>\n",
       "      <th>author</th>\n",
       "      <th>published</th>\n",
       "      <th>title</th>\n",
       "      <th>text</th>\n",
       "      <th>language</th>\n",
       "      <th>crawled</th>\n",
       "      <th>site_url</th>\n",
       "      <th>country</th>\n",
       "      <th>domain_rank</th>\n",
       "      <th>thread_title</th>\n",
       "      <th>spam_score</th>\n",
       "      <th>main_img_url</th>\n",
       "      <th>replies_count</th>\n",
       "      <th>participants_count</th>\n",
       "      <th>likes</th>\n",
       "      <th>comments</th>\n",
       "      <th>shares</th>\n",
       "      <th>type</th>\n",
       "    </tr>\n",
       "  </thead>\n",
       "  <tbody>\n",
       "    <tr>\n",
       "      <th>0</th>\n",
       "      <td>6a175f46bcd24d39b3e962ad0f29936721db70db</td>\n",
       "      <td>0</td>\n",
       "      <td>Barracuda Brigade</td>\n",
       "      <td>2016-10-26T21:41:00.000+03:00</td>\n",
       "      <td>Muslims BUSTED: They Stole Millions In Gov’t B...</td>\n",
       "      <td>Print They should pay all the back all the mon...</td>\n",
       "      <td>english</td>\n",
       "      <td>2016-10-27T01:49:27.168+03:00</td>\n",
       "      <td>100percentfedup.com</td>\n",
       "      <td>US</td>\n",
       "      <td>25689.0</td>\n",
       "      <td>Muslims BUSTED: They Stole Millions In Gov’t B...</td>\n",
       "      <td>0.000</td>\n",
       "      <td>http://bb4sp.com/wp-content/uploads/2016/10/Fu...</td>\n",
       "      <td>0</td>\n",
       "      <td>1</td>\n",
       "      <td>0</td>\n",
       "      <td>0</td>\n",
       "      <td>0</td>\n",
       "      <td>bias</td>\n",
       "    </tr>\n",
       "    <tr>\n",
       "      <th>1</th>\n",
       "      <td>2bdc29d12605ef9cf3f09f9875040a7113be5d5b</td>\n",
       "      <td>0</td>\n",
       "      <td>reasoning with facts</td>\n",
       "      <td>2016-10-29T08:47:11.259+03:00</td>\n",
       "      <td>Re: Why Did Attorney General Loretta Lynch Ple...</td>\n",
       "      <td>Why Did Attorney General Loretta Lynch Plead T...</td>\n",
       "      <td>english</td>\n",
       "      <td>2016-10-29T08:47:11.259+03:00</td>\n",
       "      <td>100percentfedup.com</td>\n",
       "      <td>US</td>\n",
       "      <td>25689.0</td>\n",
       "      <td>Re: Why Did Attorney General Loretta Lynch Ple...</td>\n",
       "      <td>0.000</td>\n",
       "      <td>http://bb4sp.com/wp-content/uploads/2016/10/Fu...</td>\n",
       "      <td>0</td>\n",
       "      <td>1</td>\n",
       "      <td>0</td>\n",
       "      <td>0</td>\n",
       "      <td>0</td>\n",
       "      <td>bias</td>\n",
       "    </tr>\n",
       "    <tr>\n",
       "      <th>2</th>\n",
       "      <td>c70e149fdd53de5e61c29281100b9de0ed268bc3</td>\n",
       "      <td>0</td>\n",
       "      <td>Barracuda Brigade</td>\n",
       "      <td>2016-10-31T01:41:49.479+02:00</td>\n",
       "      <td>BREAKING: Weiner Cooperating With FBI On Hilla...</td>\n",
       "      <td>Red State : \\nFox News Sunday reported this mo...</td>\n",
       "      <td>english</td>\n",
       "      <td>2016-10-31T01:41:49.479+02:00</td>\n",
       "      <td>100percentfedup.com</td>\n",
       "      <td>US</td>\n",
       "      <td>25689.0</td>\n",
       "      <td>BREAKING: Weiner Cooperating With FBI On Hilla...</td>\n",
       "      <td>0.000</td>\n",
       "      <td>http://bb4sp.com/wp-content/uploads/2016/10/Fu...</td>\n",
       "      <td>0</td>\n",
       "      <td>1</td>\n",
       "      <td>0</td>\n",
       "      <td>0</td>\n",
       "      <td>0</td>\n",
       "      <td>bias</td>\n",
       "    </tr>\n",
       "    <tr>\n",
       "      <th>3</th>\n",
       "      <td>7cf7c15731ac2a116dd7f629bd57ea468ed70284</td>\n",
       "      <td>0</td>\n",
       "      <td>Fed Up</td>\n",
       "      <td>2016-11-01T05:22:00.000+02:00</td>\n",
       "      <td>PIN DROP SPEECH BY FATHER OF DAUGHTER Kidnappe...</td>\n",
       "      <td>Email Kayla Mueller was a prisoner and torture...</td>\n",
       "      <td>english</td>\n",
       "      <td>2016-11-01T15:46:26.304+02:00</td>\n",
       "      <td>100percentfedup.com</td>\n",
       "      <td>US</td>\n",
       "      <td>25689.0</td>\n",
       "      <td>PIN DROP SPEECH BY FATHER OF DAUGHTER Kidnappe...</td>\n",
       "      <td>0.068</td>\n",
       "      <td>http://100percentfedup.com/wp-content/uploads/...</td>\n",
       "      <td>0</td>\n",
       "      <td>0</td>\n",
       "      <td>0</td>\n",
       "      <td>0</td>\n",
       "      <td>0</td>\n",
       "      <td>bias</td>\n",
       "    </tr>\n",
       "    <tr>\n",
       "      <th>4</th>\n",
       "      <td>0206b54719c7e241ffe0ad4315b808290dbe6c0f</td>\n",
       "      <td>0</td>\n",
       "      <td>Fed Up</td>\n",
       "      <td>2016-11-01T21:56:00.000+02:00</td>\n",
       "      <td>FANTASTIC! TRUMP'S 7 POINT PLAN To Reform Heal...</td>\n",
       "      <td>Email HEALTHCARE REFORM TO MAKE AMERICA GREAT ...</td>\n",
       "      <td>english</td>\n",
       "      <td>2016-11-01T23:59:42.266+02:00</td>\n",
       "      <td>100percentfedup.com</td>\n",
       "      <td>US</td>\n",
       "      <td>25689.0</td>\n",
       "      <td>FANTASTIC! TRUMP'S 7 POINT PLAN To Reform Heal...</td>\n",
       "      <td>0.865</td>\n",
       "      <td>http://100percentfedup.com/wp-content/uploads/...</td>\n",
       "      <td>0</td>\n",
       "      <td>0</td>\n",
       "      <td>0</td>\n",
       "      <td>0</td>\n",
       "      <td>0</td>\n",
       "      <td>bias</td>\n",
       "    </tr>\n",
       "  </tbody>\n",
       "</table>\n",
       "</div>"
      ],
      "text/plain": [
       "                                       uuid  ord_in_thread  \\\n",
       "0  6a175f46bcd24d39b3e962ad0f29936721db70db              0   \n",
       "1  2bdc29d12605ef9cf3f09f9875040a7113be5d5b              0   \n",
       "2  c70e149fdd53de5e61c29281100b9de0ed268bc3              0   \n",
       "3  7cf7c15731ac2a116dd7f629bd57ea468ed70284              0   \n",
       "4  0206b54719c7e241ffe0ad4315b808290dbe6c0f              0   \n",
       "\n",
       "                 author                      published  \\\n",
       "0     Barracuda Brigade  2016-10-26T21:41:00.000+03:00   \n",
       "1  reasoning with facts  2016-10-29T08:47:11.259+03:00   \n",
       "2     Barracuda Brigade  2016-10-31T01:41:49.479+02:00   \n",
       "3                Fed Up  2016-11-01T05:22:00.000+02:00   \n",
       "4                Fed Up  2016-11-01T21:56:00.000+02:00   \n",
       "\n",
       "                                               title  \\\n",
       "0  Muslims BUSTED: They Stole Millions In Gov’t B...   \n",
       "1  Re: Why Did Attorney General Loretta Lynch Ple...   \n",
       "2  BREAKING: Weiner Cooperating With FBI On Hilla...   \n",
       "3  PIN DROP SPEECH BY FATHER OF DAUGHTER Kidnappe...   \n",
       "4  FANTASTIC! TRUMP'S 7 POINT PLAN To Reform Heal...   \n",
       "\n",
       "                                                text language  \\\n",
       "0  Print They should pay all the back all the mon...  english   \n",
       "1  Why Did Attorney General Loretta Lynch Plead T...  english   \n",
       "2  Red State : \\nFox News Sunday reported this mo...  english   \n",
       "3  Email Kayla Mueller was a prisoner and torture...  english   \n",
       "4  Email HEALTHCARE REFORM TO MAKE AMERICA GREAT ...  english   \n",
       "\n",
       "                         crawled             site_url country  domain_rank  \\\n",
       "0  2016-10-27T01:49:27.168+03:00  100percentfedup.com      US      25689.0   \n",
       "1  2016-10-29T08:47:11.259+03:00  100percentfedup.com      US      25689.0   \n",
       "2  2016-10-31T01:41:49.479+02:00  100percentfedup.com      US      25689.0   \n",
       "3  2016-11-01T15:46:26.304+02:00  100percentfedup.com      US      25689.0   \n",
       "4  2016-11-01T23:59:42.266+02:00  100percentfedup.com      US      25689.0   \n",
       "\n",
       "                                        thread_title  spam_score  \\\n",
       "0  Muslims BUSTED: They Stole Millions In Gov’t B...       0.000   \n",
       "1  Re: Why Did Attorney General Loretta Lynch Ple...       0.000   \n",
       "2  BREAKING: Weiner Cooperating With FBI On Hilla...       0.000   \n",
       "3  PIN DROP SPEECH BY FATHER OF DAUGHTER Kidnappe...       0.068   \n",
       "4  FANTASTIC! TRUMP'S 7 POINT PLAN To Reform Heal...       0.865   \n",
       "\n",
       "                                        main_img_url  replies_count  \\\n",
       "0  http://bb4sp.com/wp-content/uploads/2016/10/Fu...              0   \n",
       "1  http://bb4sp.com/wp-content/uploads/2016/10/Fu...              0   \n",
       "2  http://bb4sp.com/wp-content/uploads/2016/10/Fu...              0   \n",
       "3  http://100percentfedup.com/wp-content/uploads/...              0   \n",
       "4  http://100percentfedup.com/wp-content/uploads/...              0   \n",
       "\n",
       "   participants_count  likes  comments  shares  type  \n",
       "0                   1      0         0       0  bias  \n",
       "1                   1      0         0       0  bias  \n",
       "2                   1      0         0       0  bias  \n",
       "3                   0      0         0       0  bias  \n",
       "4                   0      0         0       0  bias  "
      ]
     },
     "execution_count": 3,
     "metadata": {},
     "output_type": "execute_result"
    }
   ],
   "source": [
    "all_news = pandas.read_csv(\"fake.csv\")\n",
    "all_news.head(5)"
   ]
  },
  {
   "cell_type": "code",
   "execution_count": 4,
   "metadata": {},
   "outputs": [
    {
     "name": "stdout",
     "output_type": "stream",
     "text": [
      "Types and counts of stories type\n",
      "bias            443\n",
      "bs            11492\n",
      "conspiracy      430\n",
      "fake             19\n",
      "hate            246\n",
      "junksci         102\n",
      "satire          146\n",
      "state           121\n",
      "dtype: int64\n"
     ]
    }
   ],
   "source": [
    "print(\"Types and counts of stories\", all_news.groupby([\"type\"]).size())\n"
   ]
  },
  {
   "cell_type": "code",
   "execution_count": 5,
   "metadata": {},
   "outputs": [
    {
     "data": {
      "text/plain": [
       "<matplotlib.axes._subplots.AxesSubplot at 0x1a244df080>"
      ]
     },
     "execution_count": 5,
     "metadata": {},
     "output_type": "execute_result"
    },
    {
     "data": {
      "image/png": "[encoded data removed]",
      "text/plain": [
       "<matplotlib.figure.Figure at 0x1a244c5668>"
      ]
     },
     "metadata": {},
     "output_type": "display_data"
    }
   ],
   "source": [
    "all_news.groupby(['type']).size().plot(kind='barh')"
   ]
  },
  {
   "cell_type": "code",
   "execution_count": 6,
   "metadata": {
    "collapsed": true
   },
   "outputs": [],
   "source": [
    "#fake_news = all_news[all_news[\"type\"] == \"fake\"]"
   ]
  },
  {
   "cell_type": "code",
   "execution_count": 14,
   "metadata": {},
   "outputs": [],
   "source": [
    "\n",
    "# Fill any blank fields\n",
    "all_news.title.fillna(\"\", inplace=True)\n",
    "all_news.text.fillna(\"\", inplace=True)"
   ]
  },
  {
   "cell_type": "markdown",
   "metadata": {},
   "source": [
    "There is some issue with the Lucem package. Therefore, I am declaring the necessary functions below."
   ]
  },
  {
   "cell_type": "code",
   "execution_count": 15,
   "metadata": {},
   "outputs": [],
   "source": [
    "stop_words_basic = nltk.corpus.stopwords.words('english')\n",
    "stemmer_basic = nltk.stem.snowball.SnowballStemmer('english')\n",
    "lemmer_basic = nltk.stem.WordNetLemmatizer()\n",
    "\n",
    "\n",
    "def normalizeTokens(tokenLst,stopwordLst = None,stemmer = None,lemmer = None):\n",
    "    #We can use a generator here as we just need to iterate over it\n",
    "\n",
    "    #Lowering the case and removing non-words\n",
    "    workingIter = (w.lower() for w in tokenLst if w.isalpha())\n",
    "\n",
    "    #Now we can use the semmer, if provided\n",
    "    if stemmer is not None:\n",
    "        workingIter = (stemmer.stem(w) for w in workingIter)\n",
    "\n",
    "    #And the lemmer\n",
    "    if lemmer is not None:\n",
    "        workingIter = (lemmer.lemmatize(w) for w in workingIter)\n",
    "\n",
    "    #And remove the stopwords\n",
    "    if stopwordLst is not None:\n",
    "        workingIter = (w for w in workingIter if w not in stopwordLst)\n",
    "    #We will return a list with the stopwords removed\n",
    "    return list(workingIter)"
   ]
  },
  {
   "cell_type": "code",
   "execution_count": 16,
   "metadata": {},
   "outputs": [
    {
     "data": {
      "text/html": [
       "<div>\n",
       "<style>\n",
       "    .dataframe thead tr:only-child th {\n",
       "        text-align: right;\n",
       "    }\n",
       "\n",
       "    .dataframe thead th {\n",
       "        text-align: left;\n",
       "    }\n",
       "\n",
       "    .dataframe tbody tr th {\n",
       "        vertical-align: top;\n",
       "    }\n",
       "</style>\n",
       "<table border=\"1\" class=\"dataframe\">\n",
       "  <thead>\n",
       "    <tr style=\"text-align: right;\">\n",
       "      <th></th>\n",
       "      <th>uuid</th>\n",
       "      <th>ord_in_thread</th>\n",
       "      <th>author</th>\n",
       "      <th>published</th>\n",
       "      <th>title</th>\n",
       "      <th>text</th>\n",
       "      <th>language</th>\n",
       "      <th>crawled</th>\n",
       "      <th>site_url</th>\n",
       "      <th>country</th>\n",
       "      <th>...</th>\n",
       "      <th>spam_score</th>\n",
       "      <th>main_img_url</th>\n",
       "      <th>replies_count</th>\n",
       "      <th>participants_count</th>\n",
       "      <th>likes</th>\n",
       "      <th>comments</th>\n",
       "      <th>shares</th>\n",
       "      <th>type</th>\n",
       "      <th>tokenized_sents</th>\n",
       "      <th>normalized_sents</th>\n",
       "    </tr>\n",
       "  </thead>\n",
       "  <tbody>\n",
       "    <tr>\n",
       "      <th>0</th>\n",
       "      <td>6a175f46bcd24d39b3e962ad0f29936721db70db</td>\n",
       "      <td>0</td>\n",
       "      <td>Barracuda Brigade</td>\n",
       "      <td>2016-10-26T21:41:00.000+03:00</td>\n",
       "      <td>Muslims BUSTED: They Stole Millions In Gov’t B...</td>\n",
       "      <td>Print They should pay all the back all the mon...</td>\n",
       "      <td>english</td>\n",
       "      <td>2016-10-27T01:49:27.168+03:00</td>\n",
       "      <td>100percentfedup.com</td>\n",
       "      <td>US</td>\n",
       "      <td>...</td>\n",
       "      <td>0.000</td>\n",
       "      <td>http://bb4sp.com/wp-content/uploads/2016/10/Fu...</td>\n",
       "      <td>0</td>\n",
       "      <td>1</td>\n",
       "      <td>0</td>\n",
       "      <td>0</td>\n",
       "      <td>0</td>\n",
       "      <td>bias</td>\n",
       "      <td>[[Print, They, should, pay, all, the, back, al...</td>\n",
       "      <td>[[print, pay, back, money, plus, interest], [e...</td>\n",
       "    </tr>\n",
       "    <tr>\n",
       "      <th>1</th>\n",
       "      <td>2bdc29d12605ef9cf3f09f9875040a7113be5d5b</td>\n",
       "      <td>0</td>\n",
       "      <td>reasoning with facts</td>\n",
       "      <td>2016-10-29T08:47:11.259+03:00</td>\n",
       "      <td>Re: Why Did Attorney General Loretta Lynch Ple...</td>\n",
       "      <td>Why Did Attorney General Loretta Lynch Plead T...</td>\n",
       "      <td>english</td>\n",
       "      <td>2016-10-29T08:47:11.259+03:00</td>\n",
       "      <td>100percentfedup.com</td>\n",
       "      <td>US</td>\n",
       "      <td>...</td>\n",
       "      <td>0.000</td>\n",
       "      <td>http://bb4sp.com/wp-content/uploads/2016/10/Fu...</td>\n",
       "      <td>0</td>\n",
       "      <td>1</td>\n",
       "      <td>0</td>\n",
       "      <td>0</td>\n",
       "      <td>0</td>\n",
       "      <td>bias</td>\n",
       "      <td>[[Why, Did, Attorney, General, Loretta, Lynch,...</td>\n",
       "      <td>[[attorney, general, loretta, lynch, plead, fi...</td>\n",
       "    </tr>\n",
       "    <tr>\n",
       "      <th>2</th>\n",
       "      <td>c70e149fdd53de5e61c29281100b9de0ed268bc3</td>\n",
       "      <td>0</td>\n",
       "      <td>Barracuda Brigade</td>\n",
       "      <td>2016-10-31T01:41:49.479+02:00</td>\n",
       "      <td>BREAKING: Weiner Cooperating With FBI On Hilla...</td>\n",
       "      <td>Red State : \\nFox News Sunday reported this mo...</td>\n",
       "      <td>english</td>\n",
       "      <td>2016-10-31T01:41:49.479+02:00</td>\n",
       "      <td>100percentfedup.com</td>\n",
       "      <td>US</td>\n",
       "      <td>...</td>\n",
       "      <td>0.000</td>\n",
       "      <td>http://bb4sp.com/wp-content/uploads/2016/10/Fu...</td>\n",
       "      <td>0</td>\n",
       "      <td>1</td>\n",
       "      <td>0</td>\n",
       "      <td>0</td>\n",
       "      <td>0</td>\n",
       "      <td>bias</td>\n",
       "      <td>[[Red, State, :, Fox, News, Sunday, reported, ...</td>\n",
       "      <td>[[red, state, fox, news, sunday, reported, mor...</td>\n",
       "    </tr>\n",
       "    <tr>\n",
       "      <th>3</th>\n",
       "      <td>7cf7c15731ac2a116dd7f629bd57ea468ed70284</td>\n",
       "      <td>0</td>\n",
       "      <td>Fed Up</td>\n",
       "      <td>2016-11-01T05:22:00.000+02:00</td>\n",
       "      <td>PIN DROP SPEECH BY FATHER OF DAUGHTER Kidnappe...</td>\n",
       "      <td>Email Kayla Mueller was a prisoner and torture...</td>\n",
       "      <td>english</td>\n",
       "      <td>2016-11-01T15:46:26.304+02:00</td>\n",
       "      <td>100percentfedup.com</td>\n",
       "      <td>US</td>\n",
       "      <td>...</td>\n",
       "      <td>0.068</td>\n",
       "      <td>http://100percentfedup.com/wp-content/uploads/...</td>\n",
       "      <td>0</td>\n",
       "      <td>0</td>\n",
       "      <td>0</td>\n",
       "      <td>0</td>\n",
       "      <td>0</td>\n",
       "      <td>bias</td>\n",
       "      <td>[[Email, Kayla, Mueller, was, a, prisoner, and...</td>\n",
       "      <td>[[email, kayla, mueller, prisoner, tortured, i...</td>\n",
       "    </tr>\n",
       "    <tr>\n",
       "      <th>4</th>\n",
       "      <td>0206b54719c7e241ffe0ad4315b808290dbe6c0f</td>\n",
       "      <td>0</td>\n",
       "      <td>Fed Up</td>\n",
       "      <td>2016-11-01T21:56:00.000+02:00</td>\n",
       "      <td>FANTASTIC! TRUMP'S 7 POINT PLAN To Reform Heal...</td>\n",
       "      <td>Email HEALTHCARE REFORM TO MAKE AMERICA GREAT ...</td>\n",
       "      <td>english</td>\n",
       "      <td>2016-11-01T23:59:42.266+02:00</td>\n",
       "      <td>100percentfedup.com</td>\n",
       "      <td>US</td>\n",
       "      <td>...</td>\n",
       "      <td>0.865</td>\n",
       "      <td>http://100percentfedup.com/wp-content/uploads/...</td>\n",
       "      <td>0</td>\n",
       "      <td>0</td>\n",
       "      <td>0</td>\n",
       "      <td>0</td>\n",
       "      <td>0</td>\n",
       "      <td>bias</td>\n",
       "      <td>[[Email, HEALTHCARE, REFORM, TO, MAKE, AMERICA...</td>\n",
       "      <td>[[email, healthcare, reform, make, america, gr...</td>\n",
       "    </tr>\n",
       "  </tbody>\n",
       "</table>\n",
       "<p>5 rows × 22 columns</p>\n",
       "</div>"
      ],
      "text/plain": [
       "                                       uuid  ord_in_thread  \\\n",
       "0  6a175f46bcd24d39b3e962ad0f29936721db70db              0   \n",
       "1  2bdc29d12605ef9cf3f09f9875040a7113be5d5b              0   \n",
       "2  c70e149fdd53de5e61c29281100b9de0ed268bc3              0   \n",
       "3  7cf7c15731ac2a116dd7f629bd57ea468ed70284              0   \n",
       "4  0206b54719c7e241ffe0ad4315b808290dbe6c0f              0   \n",
       "\n",
       "                 author                      published  \\\n",
       "0     Barracuda Brigade  2016-10-26T21:41:00.000+03:00   \n",
       "1  reasoning with facts  2016-10-29T08:47:11.259+03:00   \n",
       "2     Barracuda Brigade  2016-10-31T01:41:49.479+02:00   \n",
       "3                Fed Up  2016-11-01T05:22:00.000+02:00   \n",
       "4                Fed Up  2016-11-01T21:56:00.000+02:00   \n",
       "\n",
       "                                               title  \\\n",
       "0  Muslims BUSTED: They Stole Millions In Gov’t B...   \n",
       "1  Re: Why Did Attorney General Loretta Lynch Ple...   \n",
       "2  BREAKING: Weiner Cooperating With FBI On Hilla...   \n",
       "3  PIN DROP SPEECH BY FATHER OF DAUGHTER Kidnappe...   \n",
       "4  FANTASTIC! TRUMP'S 7 POINT PLAN To Reform Heal...   \n",
       "\n",
       "                                                text language  \\\n",
       "0  Print They should pay all the back all the mon...  english   \n",
       "1  Why Did Attorney General Loretta Lynch Plead T...  english   \n",
       "2  Red State : \\nFox News Sunday reported this mo...  english   \n",
       "3  Email Kayla Mueller was a prisoner and torture...  english   \n",
       "4  Email HEALTHCARE REFORM TO MAKE AMERICA GREAT ...  english   \n",
       "\n",
       "                         crawled             site_url country  \\\n",
       "0  2016-10-27T01:49:27.168+03:00  100percentfedup.com      US   \n",
       "1  2016-10-29T08:47:11.259+03:00  100percentfedup.com      US   \n",
       "2  2016-10-31T01:41:49.479+02:00  100percentfedup.com      US   \n",
       "3  2016-11-01T15:46:26.304+02:00  100percentfedup.com      US   \n",
       "4  2016-11-01T23:59:42.266+02:00  100percentfedup.com      US   \n",
       "\n",
       "                         ...                          spam_score  \\\n",
       "0                        ...                               0.000   \n",
       "1                        ...                               0.000   \n",
       "2                        ...                               0.000   \n",
       "3                        ...                               0.068   \n",
       "4                        ...                               0.865   \n",
       "\n",
       "                                        main_img_url  replies_count  \\\n",
       "0  http://bb4sp.com/wp-content/uploads/2016/10/Fu...              0   \n",
       "1  http://bb4sp.com/wp-content/uploads/2016/10/Fu...              0   \n",
       "2  http://bb4sp.com/wp-content/uploads/2016/10/Fu...              0   \n",
       "3  http://100percentfedup.com/wp-content/uploads/...              0   \n",
       "4  http://100percentfedup.com/wp-content/uploads/...              0   \n",
       "\n",
       "  participants_count  likes  comments  shares  type  \\\n",
       "0                  1      0         0       0  bias   \n",
       "1                  1      0         0       0  bias   \n",
       "2                  1      0         0       0  bias   \n",
       "3                  0      0         0       0  bias   \n",
       "4                  0      0         0       0  bias   \n",
       "\n",
       "                                     tokenized_sents  \\\n",
       "0  [[Print, They, should, pay, all, the, back, al...   \n",
       "1  [[Why, Did, Attorney, General, Loretta, Lynch,...   \n",
       "2  [[Red, State, :, Fox, News, Sunday, reported, ...   \n",
       "3  [[Email, Kayla, Mueller, was, a, prisoner, and...   \n",
       "4  [[Email, HEALTHCARE, REFORM, TO, MAKE, AMERICA...   \n",
       "\n",
       "                                    normalized_sents  \n",
       "0  [[print, pay, back, money, plus, interest], [e...  \n",
       "1  [[attorney, general, loretta, lynch, plead, fi...  \n",
       "2  [[red, state, fox, news, sunday, reported, mor...  \n",
       "3  [[email, kayla, mueller, prisoner, tortured, i...  \n",
       "4  [[email, healthcare, reform, make, america, gr...  \n",
       "\n",
       "[5 rows x 22 columns]"
      ]
     },
     "execution_count": 16,
     "metadata": {},
     "output_type": "execute_result"
    }
   ],
   "source": [
    "#Apply our functions, notice each row is a list of lists now\n",
    "all_news['tokenized_sents'] = all_news['text'].apply(lambda x: \n",
    "                                                               [nltk.word_tokenize(s) for s in nltk.sent_tokenize(x)])\n",
    "all_news['normalized_sents'] = all_news['tokenized_sents'].apply(lambda x: \n",
    "                                                                           [normalizeTokens(s, \n",
    "                                                                                           stopwordLst = stop_words_basic, \n",
    "                                                                                           stemmer = None) \n",
    "                                                                            for s in x])\n",
    "\n",
    "all_news[:5]"
   ]
  },
  {
   "cell_type": "markdown",
   "metadata": {},
   "source": [
    "# Word2Vec\n",
    "\n",
    "We will be using the gensim implementation of [Word2Vec](https://radimrehurek.com/gensim/models/word2vec.html#gensim.models.word2vec.Word2Vec).\n",
    "\n",
    "To load our data, we give all the sentences to the trainer. We just need to add the words as a list of sentences"
   ]
  },
  {
   "cell_type": "code",
   "execution_count": 17,
   "metadata": {
    "collapsed": true
   },
   "outputs": [],
   "source": [
    "all_news_W2V = gensim.models.word2vec.Word2Vec(all_news['normalized_sents'].sum())"
   ]
  },
  {
   "cell_type": "markdown",
   "metadata": {},
   "source": [
    "Taking a preliminary look..."
   ]
  },
  {
   "cell_type": "code",
   "execution_count": 28,
   "metadata": {},
   "outputs": [
    {
     "name": "stdout",
     "output_type": "stream",
     "text": [
      "A 100 dimesional vector:\n"
     ]
    },
    {
     "data": {
      "text/plain": [
       "array([ 0.02612005,  1.33090055, -0.42821753, -0.22536232, -0.69750863,\n",
       "       -1.19530785, -0.40748772,  0.95551348, -1.66085005,  2.07719684,\n",
       "        0.61895263, -1.06222034, -1.62382233,  0.8373419 , -0.40438166,\n",
       "        1.03203869,  1.62072361,  0.81675327, -0.11761047,  0.58405179,\n",
       "       -1.48736823, -0.28385627, -0.18710454, -0.97844899, -1.22849965,\n",
       "        0.58394849,  0.74322653,  1.28429985,  0.09963571, -1.36879599,\n",
       "       -0.998833  , -0.11128613,  0.37058502, -1.16836894,  0.45738551,\n",
       "        0.55778539,  0.11758573, -0.18227276,  1.33373821,  0.22491725,\n",
       "        0.24126039, -0.39255154, -0.08555374, -0.61051488, -0.10112283,\n",
       "        1.22644675,  0.13196972,  0.00487288, -1.365798  ,  0.19166808,\n",
       "       -0.88047713, -1.41260505,  0.23002547,  2.29325175, -0.62495416,\n",
       "       -1.32352006, -1.56146801,  0.14945138,  1.64142537,  0.68462253,\n",
       "        0.68680573,  0.11384588, -0.61737299,  0.29991022,  0.42595518,\n",
       "       -0.56549358, -0.44072545,  0.27689657,  2.28878856,  0.79719758,\n",
       "        1.26575112,  1.43686986,  1.47066057, -0.22250588, -0.9393326 ,\n",
       "       -1.57605135,  0.39468539,  0.87163711,  0.69144863,  1.66283882,\n",
       "       -1.3425436 , -0.2366197 ,  0.84471995, -0.31346947,  1.13136363,\n",
       "       -0.65557957, -0.76718336, -0.2380221 , -0.35455298, -1.52199233,\n",
       "       -0.23691809,  0.72640538,  1.1817981 ,  1.48680377, -0.08243323,\n",
       "        0.66854692,  0.12542145,  0.15427458, -1.35466874,  0.27558568], dtype=float32)"
      ]
     },
     "execution_count": 28,
     "metadata": {},
     "output_type": "execute_result"
    }
   ],
   "source": [
    "print(\"A {} dimesional vector:\".format(all_news_W2V['fake'].shape[0]))\n",
    "all_news_W2V['fake']"
   ]
  },
  {
   "cell_type": "markdown",
   "metadata": {},
   "source": [
    "Then, `index2word` lets you translate from the matrix to words"
   ]
  },
  {
   "cell_type": "code",
   "execution_count": 26,
   "metadata": {},
   "outputs": [
    {
     "data": {
      "text/plain": [
       "'foreign'"
      ]
     },
     "execution_count": 26,
     "metadata": {},
     "output_type": "execute_result"
    }
   ],
   "source": [
    "all_news_W2V.wv.index2word[111]"
   ]
  },
  {
   "cell_type": "markdown",
   "metadata": {},
   "source": [
    "Now we can look at a few things that come from the word vectors. The first is to find similar vectors (cosine similarity):"
   ]
  },
  {
   "cell_type": "code",
   "execution_count": 46,
   "metadata": {},
   "outputs": [
    {
     "data": {
      "text/plain": [
       "[('hilary', 0.6899990439414978),\n",
       " ('mrs', 0.6114938259124756),\n",
       " ('hawkishness', 0.5717636942863464),\n",
       " ('scandal', 0.5286740064620972),\n",
       " ('killary', 0.512967050075531),\n",
       " ('scandals', 0.5060487985610962),\n",
       " ('hrc', 0.5011767745018005),\n",
       " ('aides', 0.4810004234313965),\n",
       " ('hilliary', 0.47696414589881897),\n",
       " ('transact', 0.47541433572769165)]"
      ]
     },
     "execution_count": 46,
     "metadata": {},
     "output_type": "execute_result"
    }
   ],
   "source": [
    "all_news_W2V.most_similar('hillary')"
   ]
  },
  {
   "cell_type": "code",
   "execution_count": 30,
   "metadata": {
    "collapsed": true
   },
   "outputs": [],
   "source": [
    "def cos_difference(embedding,word1,word2):\n",
    "    return sklearn.metrics.pairwise.cosine_similarity(embedding[word1].reshape(1,-1),embedding[word2].reshape(1,-1))"
   ]
  },
  {
   "cell_type": "code",
   "execution_count": 32,
   "metadata": {},
   "outputs": [
    {
     "data": {
      "text/plain": [
       "array([[-2.]], dtype=float32)"
      ]
     },
     "execution_count": 32,
     "metadata": {},
     "output_type": "execute_result"
    }
   ],
   "source": [
    "cos_difference(all_news_W2V, 'fake', 'president')"
   ]
  },
  {
   "cell_type": "markdown",
   "metadata": {},
   "source": [
    "We can also find which word least matches the others within a word set (cosine similarity):"
   ]
  },
  {
   "cell_type": "code",
   "execution_count": 37,
   "metadata": {},
   "outputs": [
    {
     "data": {
      "text/plain": [
       "'president'"
      ]
     },
     "execution_count": 37,
     "metadata": {},
     "output_type": "execute_result"
    }
   ],
   "source": [
    "all_news_W2V.doesnt_match(['false', 'fake', 'president', 'clinton', 'republican'])"
   ]
  },
  {
   "cell_type": "markdown",
   "metadata": {},
   "source": [
    "It is interesting to note that in the corpus of fake news analyzed, the most dissimilar word from the list presented above is `president`. The observation is interesting because given that `republican` is in the word list, it should have been intuitively the odd word out. But the fact that `clinton` or `republican` does not stand out says that Clinton may be associated more with negative narratives as shown in the result above.  "
   ]
  },
  {
   "cell_type": "markdown",
   "metadata": {},
   "source": [
    "Find which word best matches the result of a semantic *equation* (here, we seek the words whose vectors best fit the missing entry from the equation: **X + Y - Z = _**."
   ]
  },
  {
   "cell_type": "code",
   "execution_count": 52,
   "metadata": {},
   "outputs": [
    {
     "data": {
      "text/plain": [
       "[('liberal', 0.5741316080093384),\n",
       " ('progressive', 0.5161784887313843),\n",
       " ('leftist', 0.5140464901924133),\n",
       " ('promoted', 0.4814240634441376),\n",
       " ('libertarian', 0.47943657636642456),\n",
       " ('touted', 0.462809681892395),\n",
       " ('centrist', 0.4616529941558838),\n",
       " ('politics', 0.45008179545402527),\n",
       " ('legalise', 0.44649243354797363),\n",
       " ('prominent', 0.444642037153244)]"
      ]
     },
     "execution_count": 52,
     "metadata": {},
     "output_type": "execute_result"
    }
   ],
   "source": [
    "all_news_W2V.most_similar(positive=['hillary', 'conservative'], negative = ['trump'])"
   ]
  },
  {
   "cell_type": "markdown",
   "metadata": {},
   "source": [
    "The most intuitive check is as we find, Hillary is to Liberal and Progressive as Trump is to conservatives. It is interesting to note that `libertarian` also somehow features in this relation."
   ]
  },
  {
   "cell_type": "markdown",
   "metadata": {},
   "source": [
    "What happens instead we consider Trump as a centrist? What would that make Hillary?"
   ]
  },
  {
   "cell_type": "code",
   "execution_count": 55,
   "metadata": {},
   "outputs": [
    {
     "data": {
      "text/plain": [
       "[('promoted', 0.5403199791908264),\n",
       " ('leaning', 0.5367637872695923),\n",
       " ('funders', 0.5330397486686707),\n",
       " ('favoring', 0.5261191129684448),\n",
       " ('dynasty', 0.5217596888542175),\n",
       " ('arenas', 0.5153677463531494),\n",
       " ('leftist', 0.5055137872695923),\n",
       " ('warmongering', 0.49962323904037476),\n",
       " ('interventionists', 0.4959533214569092),\n",
       " ('achilles', 0.49420449137687683)]"
      ]
     },
     "execution_count": 55,
     "metadata": {},
     "output_type": "execute_result"
    }
   ],
   "source": [
    "all_news_W2V.most_similar(positive=['hillary', 'centrist'], negative = ['trump'])"
   ]
  },
  {
   "cell_type": "markdown",
   "metadata": {},
   "source": [
    "We see that the closest relevant match is where Hillary is related to `leftist`."
   ]
  },
  {
   "cell_type": "markdown",
   "metadata": {},
   "source": [
    "Looking at their relationships to `war`. If we assume Trump is strongly related to `war`, how does Hillary fare? Also notice the most simlar words to Hillary. They all reflect the terms usually associated with "
   ]
  },
  {
   "cell_type": "code",
   "execution_count": 56,
   "metadata": {},
   "outputs": [
    {
     "data": {
      "text/plain": [
       "[('wars', 0.5764915943145752),\n",
       " ('invasion', 0.4332573711872101),\n",
       " ('ww', 0.4286503195762634),\n",
       " ('libya', 0.4176904559135437),\n",
       " ('unindicted', 0.40638211369514465),\n",
       " ('wmd', 0.40280210971832275),\n",
       " ('disarmament', 0.39761435985565186),\n",
       " ('intervention', 0.39214906096458435),\n",
       " ('reign', 0.39159247279167175),\n",
       " ('afghanistan', 0.38882529735565186)]"
      ]
     },
     "execution_count": 56,
     "metadata": {},
     "output_type": "execute_result"
    }
   ],
   "source": [
    "all_news_W2V.most_similar(positive=['hillary', 'war'], negative = ['trump'])"
   ]
  },
  {
   "cell_type": "markdown",
   "metadata": {},
   "source": [
    "Not very different. Both Hillary and Trump are therefore associated with `war`. "
   ]
  },
  {
   "cell_type": "markdown",
   "metadata": {},
   "source": [
    " But how do we argue that these are stable distances or associations?"
   ]
  },
  {
   "cell_type": "markdown",
   "metadata": {},
   "source": [
    "## Establishing Credible or Confidence Intervals\n"
   ]
  },
  {
   "cell_type": "markdown",
   "metadata": {},
   "source": [
    "### Bootstrapping approach"
   ]
  },
  {
   "cell_type": "markdown",
   "metadata": {},
   "source": [
    "We propose well-established bootstrapping and subsampling methods to nonparametrically demonstrate the stability and significance of word associations within our embedding model. These allow us to establish conservative confidence intervals to both (a) distances between words in a model and (b) projections of words onto an induced dimension (e.g., man-woman). If we assume that the texts (e.g., newspapers, books) underlying our word embedding model are observations drawn from an independent and identically distributed (i.i.d.) population of cultural observations, then bootstrapping allows us to estimate the variance of word distances and projections by measuring those properties through sampling the empirical distribution of texts with replacement (Efron and Tibshirani 1994; Efron 2003). Operationally, if we wanted to bootstrap a 90% confidence interval of a word-word distance or word-dimension projection, we would sample a corpus the same size as the original corpus, but with replacement, 20 times, estimate word embedding models on each sample. Then we take the 2nd order (2nd smallest) statistic $s_{(2)}$--either distance or projection--as our confidence interval’s lower bound, and 19th order statistic $s_{(19)}$ as its upper bound. The distance between $s_{(2)}$ and $s_{(19)}$ across 20 bootstrap samples span the 5th to the 95th percentiles of the statistic’s variance, bounding the 90th confidence interval. A 95% confidence interval would span $s_{(2)}$ and $s_{(39)}$ in word embedding distances or projections estimated on 40 bootstrap samples of a corpus, tracing the 2.5th to 97.5th percentiles. "
   ]
  },
  {
   "cell_type": "code",
   "execution_count": 60,
   "metadata": {},
   "outputs": [],
   "source": [
    "all_news_df=all_news[:1000]"
   ]
  },
  {
   "cell_type": "code",
   "execution_count": 61,
   "metadata": {},
   "outputs": [
    {
     "data": {
      "text/plain": [
       "[-3.6893488e+19,\n",
       " -3.6893488e+19,\n",
       " -2.0,\n",
       " -2.0,\n",
       " -2.0,\n",
       " -1.0842022e-19,\n",
       " -1.0842022e-19,\n",
       " -1.0842022e-19,\n",
       " 0.0,\n",
       " 0.0,\n",
       " 0.0,\n",
       " 0.0,\n",
       " 0.0,\n",
       " 0.0,\n",
       " 0.0,\n",
       " 0.0,\n",
       " 0.0,\n",
       " 2.0,\n",
       " 2.0,\n",
       " 3.6893488e+19]"
      ]
     },
     "execution_count": 61,
     "metadata": {},
     "output_type": "execute_result"
    }
   ],
   "source": [
    "estimatesB=[]\n",
    "for x in range(20):\n",
    "    all_news_W2VB = gensim.models.word2vec.Word2Vec(all_news_df['normalized_sents'].sample(frac=1.0, replace=True).sum())\n",
    "    try:\n",
    "        estimatesB.append(cos_difference(all_news_W2VB, 'fake', 'trump')[0,0])\n",
    "    except KeyError:\n",
    "        #Missing one of the words from the vocab\n",
    "        pass\n",
    "                                                      \n",
    "estimatesB.sort()         \n",
    "estimatesB"
   ]
  },
  {
   "cell_type": "code",
   "execution_count": 62,
   "metadata": {},
   "outputs": [
    {
     "name": "stdout",
     "output_type": "stream",
     "text": [
      "The 90% confidence interval for the cosine distance between fake and trump is:\n",
      " -3.68935e+19 2.0\n"
     ]
    }
   ],
   "source": [
    "print(\"The 90% confidence interval for the cosine distance between fake and trump is:\\n\",estimatesB[1], estimatesB[-2])"
   ]
  },
  {
   "cell_type": "markdown",
   "metadata": {},
   "source": [
    "### Subsampling approach"
   ]
  },
  {
   "cell_type": "markdown",
   "metadata": {},
   "source": [
    "If the corpus is large, then we may take a subsampling approach, which randomly partitions the corpus into non-overlapping samples, then estimates the word-embedding models on these subsets and calculates confidence intervals as a function of the empirical distribution of distance or projection statistics and number of texts in the subsample (Politis and Romano 1997). Subsampling requires the same i.i.d. assumption as the bootrap (Politis and Romano 1992; Politis and Romano 1994). For 90% confidence intervals, we randomly partition the corpus into 20 subcorpora, then calculate $B^k=\\sqrt{\\tau_k}\\left(s^k-\\bar{s}\\right)$ for each $k$th sample, where $k$ is the number of texts and $s^k$ is the embedding distance or projection for the $k$th sample, and $\\bar{s}$ is the average statistic for all samples. The 90% confidence interval spans the 5th to 95th percentile variances, inscribed by $\\bar{s}-\\frac{B_{(19)}^k}{\\sqrt{\\tau}}$ and $\\bar{s}-\\frac{B_{(2)}^k}{\\sqrt{\\tau}}$, where $\\tau$ the number of texts in the total corpus and $s$ is the average statistic across all subsamples. As with bootrapping, a 95% confidence interval would require 40 subsamples; a 99% confidence would require 200 (.5th to 99.5th percentiles)."
   ]
  },
  {
   "cell_type": "code",
   "execution_count": 67,
   "metadata": {},
   "outputs": [
    {
     "name": "stdout",
     "output_type": "stream",
     "text": [
      "[  2.00000000e+00  -3.68934881e+19  -2.00000000e+00   1.08420217e-19\n",
      "  -3.68934881e+19   2.00000000e+00   2.00000000e+00  -2.00000000e+00\n",
      "   0.00000000e+00  -2.00000000e+00   0.00000000e+00  -3.68934881e+19\n",
      "   1.08420217e-19  -3.68934881e+19  -2.00000000e+00   0.00000000e+00\n",
      "  -2.00000000e+00   2.00000000e+00   3.68934881e+19  -3.68934881e+19\n",
      "   1.08420217e-19   3.68934881e+19   1.08420217e-19  -2.00000000e+00\n",
      "   0.00000000e+00   0.00000000e+00   1.08420217e-19   2.00000000e+00\n",
      "   1.08420217e-19  -1.08420217e-19  -1.08420217e-19   3.68934881e+19\n",
      "  -3.68934881e+19  -1.08420217e-19  -1.08420217e-19   2.00000000e+00\n",
      "  -1.08420217e-19   3.68934881e+19   0.00000000e+00   2.00000000e+00]\n",
      "[ 311.  339.  337.  311.  329.  305.  306.  324.  315.  307.  336.  332.\n",
      "  289.  319.  346.  391.  330.  318.  331.  310.  342.  313.  346.  319.\n",
      "  320.  334.  333.  336.  323.  356.  294.  318.  324.  333.  330.  333.\n",
      "  316.  327.  287.  329.]\n"
     ]
    }
   ],
   "source": [
    "n_samples = 40\n",
    "sample_indices = np.random.randint(0,n_samples,(len(all_news),))\n",
    "\n",
    "s_k =np.array([])\n",
    "tau_k=np.array([])\n",
    "\n",
    "for i in range(n_samples):\n",
    "    sample_w2v = gensim.models.word2vec.Word2Vec(all_news[sample_indices == i]['normalized_sents'].sum())\n",
    "    try:\n",
    "        #Need to use words present in most samples\n",
    "        s_k = np.append(s_k, cos_difference(sample_w2v, 'fake', 'trump')[0,0])\n",
    "    except KeyError:\n",
    "        pass\n",
    "    else:\n",
    "        tau_k = np.append(tau_k, len(all_news[sample_indices == i]))\n",
    "\n",
    "print(s_k)\n",
    "print(tau_k)\n",
    "\n",
    "tau = tau_k.sum()\n",
    "s = s_k.mean()\n",
    "B_k = np.sqrt(tau_k) * s_k-s_k.mean()"
   ]
  },
  {
   "cell_type": "code",
   "execution_count": 68,
   "metadata": {},
   "outputs": [
    {
     "name": "stdout",
     "output_type": "stream",
     "text": [
      "The 90% confidence interval for the cosine distance between war and responsibility is:\n",
      " -1.86085389449e+18 4.09706511717e+18\n"
     ]
    }
   ],
   "source": [
    "print(\"The 90% confidence interval for the cosine distance between war and responsibility is:\\n\",s-B_k[-2]/np.sqrt(tau), s-B_k[1]/np.sqrt(tau))"
   ]
  },
  {
   "cell_type": "markdown",
   "metadata": {},
   "source": [
    "We can also save the vectors for later use:"
   ]
  },
  {
   "cell_type": "code",
   "execution_count": 69,
   "metadata": {
    "collapsed": true
   },
   "outputs": [],
   "source": [
    "all_news_W2V.save(\"all_news_WORD2Vec.mm\")"
   ]
  },
  {
   "cell_type": "markdown",
   "metadata": {},
   "source": [
    "## Visualize"
   ]
  },
  {
   "cell_type": "markdown",
   "metadata": {},
   "source": [
    "We can also use dimension reduction to visulize the vectors. We will start by selecting a subset we want to plot. Let's look at the top words from the set:"
   ]
  },
  {
   "cell_type": "code",
   "execution_count": 70,
   "metadata": {
    "collapsed": true
   },
   "outputs": [],
   "source": [
    "numWords = 150\n",
    "targetWords = all_news_W2V.wv.index2word[:numWords]"
   ]
  },
  {
   "cell_type": "markdown",
   "metadata": {},
   "source": [
    "We can then extract their vectors and create our own smaller matrix that preserved the distances from the original:"
   ]
  },
  {
   "cell_type": "code",
   "execution_count": 71,
   "metadata": {},
   "outputs": [
    {
     "data": {
      "text/plain": [
       "array([[-0.43040457, -0.32920691, -0.39360851, ..., -0.15577826,\n",
       "        -1.9054414 ,  1.79086816],\n",
       "       [ 0.17062843,  0.82252777, -0.23969658, ...,  0.70840609,\n",
       "         0.19444622,  0.64292282],\n",
       "       [ 1.26005721, -0.34116974,  2.06491232, ...,  1.35954535,\n",
       "         1.10911584,  0.18412621],\n",
       "       ..., \n",
       "       [ 1.39822114,  0.22574516, -0.970469  , ...,  1.47110951,\n",
       "        -0.08786713,  0.79464781],\n",
       "       [-1.30598497, -0.25498083, -2.37850618, ...,  1.37476039,\n",
       "        -0.57630676,  1.64248228],\n",
       "       [ 0.03219613, -1.86950493,  0.07434556, ...,  1.19267642,\n",
       "        -0.92637616,  0.38299125]], dtype=float32)"
      ]
     },
     "execution_count": 71,
     "metadata": {},
     "output_type": "execute_result"
    }
   ],
   "source": [
    "wordsSubMatrix = []\n",
    "for word in targetWords:\n",
    "    wordsSubMatrix.append(all_news_W2V[word])\n",
    "wordsSubMatrix = np.array(wordsSubMatrix)\n",
    "wordsSubMatrix"
   ]
  },
  {
   "cell_type": "markdown",
   "metadata": {},
   "source": [
    "Then we can use PCA to reduce the dimesions (e.g., to 50), and T-SNE to project them down to the two we will visualize. We note that this is nondeterministic process, and so you can repeat and achieve alternative projectsions/visualizations of the words:"
   ]
  },
  {
   "cell_type": "code",
   "execution_count": 72,
   "metadata": {
    "collapsed": true
   },
   "outputs": [],
   "source": [
    "pcaWords = sklearn.decomposition.PCA(n_components = 50).fit(wordsSubMatrix)\n",
    "reducedPCA_data = pcaWords.transform(wordsSubMatrix)\n",
    "#T-SNE is theoretically better, but you should experiment\n",
    "tsneWords = sklearn.manifold.TSNE(n_components = 2, early_exaggeration = 25).fit_transform(reducedPCA_data)"
   ]
  },
  {
   "cell_type": "markdown",
   "metadata": {},
   "source": [
    "We now can plot the points"
   ]
  },
  {
   "cell_type": "code",
   "execution_count": 77,
   "metadata": {},
   "outputs": [
    {
     "data": {
      "image/png": "[encoded data removed]",
      "text/plain": [
       "<matplotlib.figure.Figure at 0x1a5f012be0>"
      ]
     },
     "metadata": {},
     "output_type": "display_data"
    }
   ],
   "source": [
    "fig = plt.figure(figsize = (35,40))\n",
    "ax = fig.add_subplot(111)\n",
    "ax.set_frame_on(False)\n",
    "plt.scatter(tsneWords[:, 0], tsneWords[:, 1], alpha = 0)#Making the points invisible \n",
    "for i, word in enumerate(targetWords):\n",
    "    ax.annotate(word, \n",
    "                (tsneWords[:, 0][i],tsneWords[:, 1][i]), \n",
    "                size =  25 * (numWords - i) / numWords, \n",
    "                alpha = .8 * (numWords - i) / numWords + .2)\n",
    "plt.xticks(())\n",
    "plt.yticks(())\n",
    "plt.show()"
   ]
  },
  {
   "cell_type": "markdown",
   "metadata": {},
   "source": [
    "## Insert analysis of the graph here."
   ]
  },
  {
   "cell_type": "markdown",
   "metadata": {},
   "source": [
    "Construct cells immediately below this that **build a doc2vec model** with your corpus. **Interrogate** document and word relationships in the resulting space. **Construct a heatmap** that plots the distances between a subset of your documents against each other, and against a set of informative words. **Find distances between every document in your corpus and a word or query of interest**. What do these doc-doc proximities reveal about your corpus? What do these word-doc proximities highlight? Demonstrate and document one reasonable way to select a defensible subset of query-relevant documents for subsequent analysis."
   ]
  },
  {
   "cell_type": "markdown",
   "metadata": {},
   "source": [
    "## Doc2Vec"
   ]
  },
  {
   "cell_type": "code",
   "execution_count": 108,
   "metadata": {},
   "outputs": [
    {
     "data": {
      "text/html": [
       "<div>\n",
       "<style>\n",
       "    .dataframe thead tr:only-child th {\n",
       "        text-align: right;\n",
       "    }\n",
       "\n",
       "    .dataframe thead th {\n",
       "        text-align: left;\n",
       "    }\n",
       "\n",
       "    .dataframe tbody tr th {\n",
       "        vertical-align: top;\n",
       "    }\n",
       "</style>\n",
       "<table border=\"1\" class=\"dataframe\">\n",
       "  <thead>\n",
       "    <tr style=\"text-align: right;\">\n",
       "      <th></th>\n",
       "      <th>ord_in_thread</th>\n",
       "      <th>author</th>\n",
       "      <th>published</th>\n",
       "      <th>title</th>\n",
       "      <th>text</th>\n",
       "      <th>language</th>\n",
       "      <th>crawled</th>\n",
       "      <th>site_url</th>\n",
       "      <th>country</th>\n",
       "      <th>domain_rank</th>\n",
       "      <th>thread_title</th>\n",
       "      <th>spam_score</th>\n",
       "      <th>main_img_url</th>\n",
       "      <th>replies_count</th>\n",
       "      <th>participants_count</th>\n",
       "      <th>likes</th>\n",
       "      <th>comments</th>\n",
       "      <th>shares</th>\n",
       "      <th>type</th>\n",
       "    </tr>\n",
       "    <tr>\n",
       "      <th>uuid</th>\n",
       "      <th></th>\n",
       "      <th></th>\n",
       "      <th></th>\n",
       "      <th></th>\n",
       "      <th></th>\n",
       "      <th></th>\n",
       "      <th></th>\n",
       "      <th></th>\n",
       "      <th></th>\n",
       "      <th></th>\n",
       "      <th></th>\n",
       "      <th></th>\n",
       "      <th></th>\n",
       "      <th></th>\n",
       "      <th></th>\n",
       "      <th></th>\n",
       "      <th></th>\n",
       "      <th></th>\n",
       "      <th></th>\n",
       "    </tr>\n",
       "  </thead>\n",
       "  <tbody>\n",
       "    <tr>\n",
       "      <th>6a175f46bcd24d39b3e962ad0f29936721db70db</th>\n",
       "      <td>0</td>\n",
       "      <td>Barracuda Brigade</td>\n",
       "      <td>2016-10-26T21:41:00.000+03:00</td>\n",
       "      <td>Muslims BUSTED: They Stole Millions In Gov’t B...</td>\n",
       "      <td>Print They should pay all the back all the mon...</td>\n",
       "      <td>english</td>\n",
       "      <td>2016-10-27T01:49:27.168+03:00</td>\n",
       "      <td>100percentfedup.com</td>\n",
       "      <td>US</td>\n",
       "      <td>25689.0</td>\n",
       "      <td>Muslims BUSTED: They Stole Millions In Gov’t B...</td>\n",
       "      <td>0.000</td>\n",
       "      <td>http://bb4sp.com/wp-content/uploads/2016/10/Fu...</td>\n",
       "      <td>0</td>\n",
       "      <td>1</td>\n",
       "      <td>0</td>\n",
       "      <td>0</td>\n",
       "      <td>0</td>\n",
       "      <td>bias</td>\n",
       "    </tr>\n",
       "    <tr>\n",
       "      <th>2bdc29d12605ef9cf3f09f9875040a7113be5d5b</th>\n",
       "      <td>0</td>\n",
       "      <td>reasoning with facts</td>\n",
       "      <td>2016-10-29T08:47:11.259+03:00</td>\n",
       "      <td>Re: Why Did Attorney General Loretta Lynch Ple...</td>\n",
       "      <td>Why Did Attorney General Loretta Lynch Plead T...</td>\n",
       "      <td>english</td>\n",
       "      <td>2016-10-29T08:47:11.259+03:00</td>\n",
       "      <td>100percentfedup.com</td>\n",
       "      <td>US</td>\n",
       "      <td>25689.0</td>\n",
       "      <td>Re: Why Did Attorney General Loretta Lynch Ple...</td>\n",
       "      <td>0.000</td>\n",
       "      <td>http://bb4sp.com/wp-content/uploads/2016/10/Fu...</td>\n",
       "      <td>0</td>\n",
       "      <td>1</td>\n",
       "      <td>0</td>\n",
       "      <td>0</td>\n",
       "      <td>0</td>\n",
       "      <td>bias</td>\n",
       "    </tr>\n",
       "    <tr>\n",
       "      <th>c70e149fdd53de5e61c29281100b9de0ed268bc3</th>\n",
       "      <td>0</td>\n",
       "      <td>Barracuda Brigade</td>\n",
       "      <td>2016-10-31T01:41:49.479+02:00</td>\n",
       "      <td>BREAKING: Weiner Cooperating With FBI On Hilla...</td>\n",
       "      <td>Red State : \\nFox News Sunday reported this mo...</td>\n",
       "      <td>english</td>\n",
       "      <td>2016-10-31T01:41:49.479+02:00</td>\n",
       "      <td>100percentfedup.com</td>\n",
       "      <td>US</td>\n",
       "      <td>25689.0</td>\n",
       "      <td>BREAKING: Weiner Cooperating With FBI On Hilla...</td>\n",
       "      <td>0.000</td>\n",
       "      <td>http://bb4sp.com/wp-content/uploads/2016/10/Fu...</td>\n",
       "      <td>0</td>\n",
       "      <td>1</td>\n",
       "      <td>0</td>\n",
       "      <td>0</td>\n",
       "      <td>0</td>\n",
       "      <td>bias</td>\n",
       "    </tr>\n",
       "    <tr>\n",
       "      <th>7cf7c15731ac2a116dd7f629bd57ea468ed70284</th>\n",
       "      <td>0</td>\n",
       "      <td>Fed Up</td>\n",
       "      <td>2016-11-01T05:22:00.000+02:00</td>\n",
       "      <td>PIN DROP SPEECH BY FATHER OF DAUGHTER Kidnappe...</td>\n",
       "      <td>Email Kayla Mueller was a prisoner and torture...</td>\n",
       "      <td>english</td>\n",
       "      <td>2016-11-01T15:46:26.304+02:00</td>\n",
       "      <td>100percentfedup.com</td>\n",
       "      <td>US</td>\n",
       "      <td>25689.0</td>\n",
       "      <td>PIN DROP SPEECH BY FATHER OF DAUGHTER Kidnappe...</td>\n",
       "      <td>0.068</td>\n",
       "      <td>http://100percentfedup.com/wp-content/uploads/...</td>\n",
       "      <td>0</td>\n",
       "      <td>0</td>\n",
       "      <td>0</td>\n",
       "      <td>0</td>\n",
       "      <td>0</td>\n",
       "      <td>bias</td>\n",
       "    </tr>\n",
       "    <tr>\n",
       "      <th>0206b54719c7e241ffe0ad4315b808290dbe6c0f</th>\n",
       "      <td>0</td>\n",
       "      <td>Fed Up</td>\n",
       "      <td>2016-11-01T21:56:00.000+02:00</td>\n",
       "      <td>FANTASTIC! TRUMP'S 7 POINT PLAN To Reform Heal...</td>\n",
       "      <td>Email HEALTHCARE REFORM TO MAKE AMERICA GREAT ...</td>\n",
       "      <td>english</td>\n",
       "      <td>2016-11-01T23:59:42.266+02:00</td>\n",
       "      <td>100percentfedup.com</td>\n",
       "      <td>US</td>\n",
       "      <td>25689.0</td>\n",
       "      <td>FANTASTIC! TRUMP'S 7 POINT PLAN To Reform Heal...</td>\n",
       "      <td>0.865</td>\n",
       "      <td>http://100percentfedup.com/wp-content/uploads/...</td>\n",
       "      <td>0</td>\n",
       "      <td>0</td>\n",
       "      <td>0</td>\n",
       "      <td>0</td>\n",
       "      <td>0</td>\n",
       "      <td>bias</td>\n",
       "    </tr>\n",
       "    <tr>\n",
       "      <th>8f30f5ea14c9d5914a9fe4f55ab2581772af4c31</th>\n",
       "      <td>0</td>\n",
       "      <td>Barracuda Brigade</td>\n",
       "      <td>2016-11-02T16:31:28.550+02:00</td>\n",
       "      <td>Hillary Goes Absolutely Berserk On Protester A...</td>\n",
       "      <td>Print Hillary goes absolutely berserk! She exp...</td>\n",
       "      <td>english</td>\n",
       "      <td>2016-11-02T16:31:28.550+02:00</td>\n",
       "      <td>100percentfedup.com</td>\n",
       "      <td>US</td>\n",
       "      <td>25689.0</td>\n",
       "      <td>Hillary Goes Absolutely Berserk On Protester A...</td>\n",
       "      <td>0.000</td>\n",
       "      <td>http://bb4sp.com/wp-content/uploads/2016/11/Fu...</td>\n",
       "      <td>0</td>\n",
       "      <td>1</td>\n",
       "      <td>0</td>\n",
       "      <td>0</td>\n",
       "      <td>0</td>\n",
       "      <td>bias</td>\n",
       "    </tr>\n",
       "    <tr>\n",
       "      <th>d3cc0fe38f41a59f7c48f8c3528ca5f74193148f</th>\n",
       "      <td>0</td>\n",
       "      <td>Fed Up</td>\n",
       "      <td>2016-11-04T19:40:00.000+02:00</td>\n",
       "      <td>BREAKING! NYPD Ready To Make Arrests In Weiner...</td>\n",
       "      <td>BREAKING! NYPD Ready To Make Arrests In Weiner...</td>\n",
       "      <td>english</td>\n",
       "      <td>2016-11-05T02:13:46.065+02:00</td>\n",
       "      <td>100percentfedup.com</td>\n",
       "      <td>US</td>\n",
       "      <td>25689.0</td>\n",
       "      <td>BREAKING! NYPD Ready To Make Arrests In Weiner...</td>\n",
       "      <td>0.701</td>\n",
       "      <td>http://100percentfedup.com/wp-content/uploads/...</td>\n",
       "      <td>0</td>\n",
       "      <td>0</td>\n",
       "      <td>0</td>\n",
       "      <td>0</td>\n",
       "      <td>0</td>\n",
       "      <td>bias</td>\n",
       "    </tr>\n",
       "    <tr>\n",
       "      <th>b4bbf8b5c19e8864f5257832a58b81ef4ed2d4e4</th>\n",
       "      <td>0</td>\n",
       "      <td>Fed Up</td>\n",
       "      <td>2016-11-05T01:19:00.000+02:00</td>\n",
       "      <td>WOW! WHISTLEBLOWER TELLS CHILLING STORY Of Mas...</td>\n",
       "      <td>BREAKING! NYPD Ready To Make Arrests In Weiner...</td>\n",
       "      <td>english</td>\n",
       "      <td>2016-11-05T05:59:07.458+02:00</td>\n",
       "      <td>100percentfedup.com</td>\n",
       "      <td>US</td>\n",
       "      <td>25689.0</td>\n",
       "      <td>WOW! WHISTLEBLOWER TELLS CHILLING STORY Of Mas...</td>\n",
       "      <td>0.188</td>\n",
       "      <td>http://100percentfedup.com/wp-content/uploads/...</td>\n",
       "      <td>0</td>\n",
       "      <td>0</td>\n",
       "      <td>0</td>\n",
       "      <td>0</td>\n",
       "      <td>0</td>\n",
       "      <td>bias</td>\n",
       "    </tr>\n",
       "    <tr>\n",
       "      <th>a19aabaa5a61eb8bc22fadaaa003e5fbba5c4bf6</th>\n",
       "      <td>0</td>\n",
       "      <td>Fed Up</td>\n",
       "      <td>2016-11-06T23:54:00.000+02:00</td>\n",
       "      <td>BREAKING: CLINTON CLEARED...Was This A Coordin...</td>\n",
       "      <td>\\nLimbaugh said that the revelations in the Wi...</td>\n",
       "      <td>english</td>\n",
       "      <td>2016-11-07T10:20:06.409+02:00</td>\n",
       "      <td>100percentfedup.com</td>\n",
       "      <td>US</td>\n",
       "      <td>25689.0</td>\n",
       "      <td>BREAKING: CLINTON CLEARED...Was This A Coordin...</td>\n",
       "      <td>0.144</td>\n",
       "      <td>http://100percentfedup.com/wp-content/uploads/...</td>\n",
       "      <td>0</td>\n",
       "      <td>0</td>\n",
       "      <td>0</td>\n",
       "      <td>0</td>\n",
       "      <td>0</td>\n",
       "      <td>bias</td>\n",
       "    </tr>\n",
       "    <tr>\n",
       "      <th>f54d8e13010d0a79893995ee65360ad4b38b5a35</th>\n",
       "      <td>0</td>\n",
       "      <td>Fed Up</td>\n",
       "      <td>2016-11-07T02:43:00.000+02:00</td>\n",
       "      <td>EVIL HILLARY SUPPORTERS Yell \"F*ck Trump\"…Burn...</td>\n",
       "      <td>Email \\nThese people are sick and evil. They w...</td>\n",
       "      <td>english</td>\n",
       "      <td>2016-11-07T10:20:27.252+02:00</td>\n",
       "      <td>100percentfedup.com</td>\n",
       "      <td>US</td>\n",
       "      <td>25689.0</td>\n",
       "      <td>EVIL HILLARY SUPPORTERS Yell \"F*ck Trump\"…Burn...</td>\n",
       "      <td>0.995</td>\n",
       "      <td>http://100percentfedup.com/wp-content/uploads/...</td>\n",
       "      <td>0</td>\n",
       "      <td>0</td>\n",
       "      <td>0</td>\n",
       "      <td>0</td>\n",
       "      <td>0</td>\n",
       "      <td>bias</td>\n",
       "    </tr>\n",
       "  </tbody>\n",
       "</table>\n",
       "</div>"
      ],
      "text/plain": [
       "                                          ord_in_thread                author  \\\n",
       "uuid                                                                            \n",
       "6a175f46bcd24d39b3e962ad0f29936721db70db              0     Barracuda Brigade   \n",
       "2bdc29d12605ef9cf3f09f9875040a7113be5d5b              0  reasoning with facts   \n",
       "c70e149fdd53de5e61c29281100b9de0ed268bc3              0     Barracuda Brigade   \n",
       "7cf7c15731ac2a116dd7f629bd57ea468ed70284              0                Fed Up   \n",
       "0206b54719c7e241ffe0ad4315b808290dbe6c0f              0                Fed Up   \n",
       "8f30f5ea14c9d5914a9fe4f55ab2581772af4c31              0     Barracuda Brigade   \n",
       "d3cc0fe38f41a59f7c48f8c3528ca5f74193148f              0                Fed Up   \n",
       "b4bbf8b5c19e8864f5257832a58b81ef4ed2d4e4              0                Fed Up   \n",
       "a19aabaa5a61eb8bc22fadaaa003e5fbba5c4bf6              0                Fed Up   \n",
       "f54d8e13010d0a79893995ee65360ad4b38b5a35              0                Fed Up   \n",
       "\n",
       "                                                              published  \\\n",
       "uuid                                                                      \n",
       "6a175f46bcd24d39b3e962ad0f29936721db70db  2016-10-26T21:41:00.000+03:00   \n",
       "2bdc29d12605ef9cf3f09f9875040a7113be5d5b  2016-10-29T08:47:11.259+03:00   \n",
       "c70e149fdd53de5e61c29281100b9de0ed268bc3  2016-10-31T01:41:49.479+02:00   \n",
       "7cf7c15731ac2a116dd7f629bd57ea468ed70284  2016-11-01T05:22:00.000+02:00   \n",
       "0206b54719c7e241ffe0ad4315b808290dbe6c0f  2016-11-01T21:56:00.000+02:00   \n",
       "8f30f5ea14c9d5914a9fe4f55ab2581772af4c31  2016-11-02T16:31:28.550+02:00   \n",
       "d3cc0fe38f41a59f7c48f8c3528ca5f74193148f  2016-11-04T19:40:00.000+02:00   \n",
       "b4bbf8b5c19e8864f5257832a58b81ef4ed2d4e4  2016-11-05T01:19:00.000+02:00   \n",
       "a19aabaa5a61eb8bc22fadaaa003e5fbba5c4bf6  2016-11-06T23:54:00.000+02:00   \n",
       "f54d8e13010d0a79893995ee65360ad4b38b5a35  2016-11-07T02:43:00.000+02:00   \n",
       "\n",
       "                                                                                      title  \\\n",
       "uuid                                                                                          \n",
       "6a175f46bcd24d39b3e962ad0f29936721db70db  Muslims BUSTED: They Stole Millions In Gov’t B...   \n",
       "2bdc29d12605ef9cf3f09f9875040a7113be5d5b  Re: Why Did Attorney General Loretta Lynch Ple...   \n",
       "c70e149fdd53de5e61c29281100b9de0ed268bc3  BREAKING: Weiner Cooperating With FBI On Hilla...   \n",
       "7cf7c15731ac2a116dd7f629bd57ea468ed70284  PIN DROP SPEECH BY FATHER OF DAUGHTER Kidnappe...   \n",
       "0206b54719c7e241ffe0ad4315b808290dbe6c0f  FANTASTIC! TRUMP'S 7 POINT PLAN To Reform Heal...   \n",
       "8f30f5ea14c9d5914a9fe4f55ab2581772af4c31  Hillary Goes Absolutely Berserk On Protester A...   \n",
       "d3cc0fe38f41a59f7c48f8c3528ca5f74193148f  BREAKING! NYPD Ready To Make Arrests In Weiner...   \n",
       "b4bbf8b5c19e8864f5257832a58b81ef4ed2d4e4  WOW! WHISTLEBLOWER TELLS CHILLING STORY Of Mas...   \n",
       "a19aabaa5a61eb8bc22fadaaa003e5fbba5c4bf6  BREAKING: CLINTON CLEARED...Was This A Coordin...   \n",
       "f54d8e13010d0a79893995ee65360ad4b38b5a35  EVIL HILLARY SUPPORTERS Yell \"F*ck Trump\"…Burn...   \n",
       "\n",
       "                                                                                       text  \\\n",
       "uuid                                                                                          \n",
       "6a175f46bcd24d39b3e962ad0f29936721db70db  Print They should pay all the back all the mon...   \n",
       "2bdc29d12605ef9cf3f09f9875040a7113be5d5b  Why Did Attorney General Loretta Lynch Plead T...   \n",
       "c70e149fdd53de5e61c29281100b9de0ed268bc3  Red State : \\nFox News Sunday reported this mo...   \n",
       "7cf7c15731ac2a116dd7f629bd57ea468ed70284  Email Kayla Mueller was a prisoner and torture...   \n",
       "0206b54719c7e241ffe0ad4315b808290dbe6c0f  Email HEALTHCARE REFORM TO MAKE AMERICA GREAT ...   \n",
       "8f30f5ea14c9d5914a9fe4f55ab2581772af4c31  Print Hillary goes absolutely berserk! She exp...   \n",
       "d3cc0fe38f41a59f7c48f8c3528ca5f74193148f  BREAKING! NYPD Ready To Make Arrests In Weiner...   \n",
       "b4bbf8b5c19e8864f5257832a58b81ef4ed2d4e4  BREAKING! NYPD Ready To Make Arrests In Weiner...   \n",
       "a19aabaa5a61eb8bc22fadaaa003e5fbba5c4bf6  \\nLimbaugh said that the revelations in the Wi...   \n",
       "f54d8e13010d0a79893995ee65360ad4b38b5a35  Email \\nThese people are sick and evil. They w...   \n",
       "\n",
       "                                         language  \\\n",
       "uuid                                                \n",
       "6a175f46bcd24d39b3e962ad0f29936721db70db  english   \n",
       "2bdc29d12605ef9cf3f09f9875040a7113be5d5b  english   \n",
       "c70e149fdd53de5e61c29281100b9de0ed268bc3  english   \n",
       "7cf7c15731ac2a116dd7f629bd57ea468ed70284  english   \n",
       "0206b54719c7e241ffe0ad4315b808290dbe6c0f  english   \n",
       "8f30f5ea14c9d5914a9fe4f55ab2581772af4c31  english   \n",
       "d3cc0fe38f41a59f7c48f8c3528ca5f74193148f  english   \n",
       "b4bbf8b5c19e8864f5257832a58b81ef4ed2d4e4  english   \n",
       "a19aabaa5a61eb8bc22fadaaa003e5fbba5c4bf6  english   \n",
       "f54d8e13010d0a79893995ee65360ad4b38b5a35  english   \n",
       "\n",
       "                                                                crawled  \\\n",
       "uuid                                                                      \n",
       "6a175f46bcd24d39b3e962ad0f29936721db70db  2016-10-27T01:49:27.168+03:00   \n",
       "2bdc29d12605ef9cf3f09f9875040a7113be5d5b  2016-10-29T08:47:11.259+03:00   \n",
       "c70e149fdd53de5e61c29281100b9de0ed268bc3  2016-10-31T01:41:49.479+02:00   \n",
       "7cf7c15731ac2a116dd7f629bd57ea468ed70284  2016-11-01T15:46:26.304+02:00   \n",
       "0206b54719c7e241ffe0ad4315b808290dbe6c0f  2016-11-01T23:59:42.266+02:00   \n",
       "8f30f5ea14c9d5914a9fe4f55ab2581772af4c31  2016-11-02T16:31:28.550+02:00   \n",
       "d3cc0fe38f41a59f7c48f8c3528ca5f74193148f  2016-11-05T02:13:46.065+02:00   \n",
       "b4bbf8b5c19e8864f5257832a58b81ef4ed2d4e4  2016-11-05T05:59:07.458+02:00   \n",
       "a19aabaa5a61eb8bc22fadaaa003e5fbba5c4bf6  2016-11-07T10:20:06.409+02:00   \n",
       "f54d8e13010d0a79893995ee65360ad4b38b5a35  2016-11-07T10:20:27.252+02:00   \n",
       "\n",
       "                                                     site_url country  \\\n",
       "uuid                                                                    \n",
       "6a175f46bcd24d39b3e962ad0f29936721db70db  100percentfedup.com      US   \n",
       "2bdc29d12605ef9cf3f09f9875040a7113be5d5b  100percentfedup.com      US   \n",
       "c70e149fdd53de5e61c29281100b9de0ed268bc3  100percentfedup.com      US   \n",
       "7cf7c15731ac2a116dd7f629bd57ea468ed70284  100percentfedup.com      US   \n",
       "0206b54719c7e241ffe0ad4315b808290dbe6c0f  100percentfedup.com      US   \n",
       "8f30f5ea14c9d5914a9fe4f55ab2581772af4c31  100percentfedup.com      US   \n",
       "d3cc0fe38f41a59f7c48f8c3528ca5f74193148f  100percentfedup.com      US   \n",
       "b4bbf8b5c19e8864f5257832a58b81ef4ed2d4e4  100percentfedup.com      US   \n",
       "a19aabaa5a61eb8bc22fadaaa003e5fbba5c4bf6  100percentfedup.com      US   \n",
       "f54d8e13010d0a79893995ee65360ad4b38b5a35  100percentfedup.com      US   \n",
       "\n",
       "                                          domain_rank  \\\n",
       "uuid                                                    \n",
       "6a175f46bcd24d39b3e962ad0f29936721db70db      25689.0   \n",
       "2bdc29d12605ef9cf3f09f9875040a7113be5d5b      25689.0   \n",
       "c70e149fdd53de5e61c29281100b9de0ed268bc3      25689.0   \n",
       "7cf7c15731ac2a116dd7f629bd57ea468ed70284      25689.0   \n",
       "0206b54719c7e241ffe0ad4315b808290dbe6c0f      25689.0   \n",
       "8f30f5ea14c9d5914a9fe4f55ab2581772af4c31      25689.0   \n",
       "d3cc0fe38f41a59f7c48f8c3528ca5f74193148f      25689.0   \n",
       "b4bbf8b5c19e8864f5257832a58b81ef4ed2d4e4      25689.0   \n",
       "a19aabaa5a61eb8bc22fadaaa003e5fbba5c4bf6      25689.0   \n",
       "f54d8e13010d0a79893995ee65360ad4b38b5a35      25689.0   \n",
       "\n",
       "                                                                               thread_title  \\\n",
       "uuid                                                                                          \n",
       "6a175f46bcd24d39b3e962ad0f29936721db70db  Muslims BUSTED: They Stole Millions In Gov’t B...   \n",
       "2bdc29d12605ef9cf3f09f9875040a7113be5d5b  Re: Why Did Attorney General Loretta Lynch Ple...   \n",
       "c70e149fdd53de5e61c29281100b9de0ed268bc3  BREAKING: Weiner Cooperating With FBI On Hilla...   \n",
       "7cf7c15731ac2a116dd7f629bd57ea468ed70284  PIN DROP SPEECH BY FATHER OF DAUGHTER Kidnappe...   \n",
       "0206b54719c7e241ffe0ad4315b808290dbe6c0f  FANTASTIC! TRUMP'S 7 POINT PLAN To Reform Heal...   \n",
       "8f30f5ea14c9d5914a9fe4f55ab2581772af4c31  Hillary Goes Absolutely Berserk On Protester A...   \n",
       "d3cc0fe38f41a59f7c48f8c3528ca5f74193148f  BREAKING! NYPD Ready To Make Arrests In Weiner...   \n",
       "b4bbf8b5c19e8864f5257832a58b81ef4ed2d4e4  WOW! WHISTLEBLOWER TELLS CHILLING STORY Of Mas...   \n",
       "a19aabaa5a61eb8bc22fadaaa003e5fbba5c4bf6  BREAKING: CLINTON CLEARED...Was This A Coordin...   \n",
       "f54d8e13010d0a79893995ee65360ad4b38b5a35  EVIL HILLARY SUPPORTERS Yell \"F*ck Trump\"…Burn...   \n",
       "\n",
       "                                          spam_score  \\\n",
       "uuid                                                   \n",
       "6a175f46bcd24d39b3e962ad0f29936721db70db       0.000   \n",
       "2bdc29d12605ef9cf3f09f9875040a7113be5d5b       0.000   \n",
       "c70e149fdd53de5e61c29281100b9de0ed268bc3       0.000   \n",
       "7cf7c15731ac2a116dd7f629bd57ea468ed70284       0.068   \n",
       "0206b54719c7e241ffe0ad4315b808290dbe6c0f       0.865   \n",
       "8f30f5ea14c9d5914a9fe4f55ab2581772af4c31       0.000   \n",
       "d3cc0fe38f41a59f7c48f8c3528ca5f74193148f       0.701   \n",
       "b4bbf8b5c19e8864f5257832a58b81ef4ed2d4e4       0.188   \n",
       "a19aabaa5a61eb8bc22fadaaa003e5fbba5c4bf6       0.144   \n",
       "f54d8e13010d0a79893995ee65360ad4b38b5a35       0.995   \n",
       "\n",
       "                                                                               main_img_url  \\\n",
       "uuid                                                                                          \n",
       "6a175f46bcd24d39b3e962ad0f29936721db70db  http://bb4sp.com/wp-content/uploads/2016/10/Fu...   \n",
       "2bdc29d12605ef9cf3f09f9875040a7113be5d5b  http://bb4sp.com/wp-content/uploads/2016/10/Fu...   \n",
       "c70e149fdd53de5e61c29281100b9de0ed268bc3  http://bb4sp.com/wp-content/uploads/2016/10/Fu...   \n",
       "7cf7c15731ac2a116dd7f629bd57ea468ed70284  http://100percentfedup.com/wp-content/uploads/...   \n",
       "0206b54719c7e241ffe0ad4315b808290dbe6c0f  http://100percentfedup.com/wp-content/uploads/...   \n",
       "8f30f5ea14c9d5914a9fe4f55ab2581772af4c31  http://bb4sp.com/wp-content/uploads/2016/11/Fu...   \n",
       "d3cc0fe38f41a59f7c48f8c3528ca5f74193148f  http://100percentfedup.com/wp-content/uploads/...   \n",
       "b4bbf8b5c19e8864f5257832a58b81ef4ed2d4e4  http://100percentfedup.com/wp-content/uploads/...   \n",
       "a19aabaa5a61eb8bc22fadaaa003e5fbba5c4bf6  http://100percentfedup.com/wp-content/uploads/...   \n",
       "f54d8e13010d0a79893995ee65360ad4b38b5a35  http://100percentfedup.com/wp-content/uploads/...   \n",
       "\n",
       "                                          replies_count  participants_count  \\\n",
       "uuid                                                                          \n",
       "6a175f46bcd24d39b3e962ad0f29936721db70db              0                   1   \n",
       "2bdc29d12605ef9cf3f09f9875040a7113be5d5b              0                   1   \n",
       "c70e149fdd53de5e61c29281100b9de0ed268bc3              0                   1   \n",
       "7cf7c15731ac2a116dd7f629bd57ea468ed70284              0                   0   \n",
       "0206b54719c7e241ffe0ad4315b808290dbe6c0f              0                   0   \n",
       "8f30f5ea14c9d5914a9fe4f55ab2581772af4c31              0                   1   \n",
       "d3cc0fe38f41a59f7c48f8c3528ca5f74193148f              0                   0   \n",
       "b4bbf8b5c19e8864f5257832a58b81ef4ed2d4e4              0                   0   \n",
       "a19aabaa5a61eb8bc22fadaaa003e5fbba5c4bf6              0                   0   \n",
       "f54d8e13010d0a79893995ee65360ad4b38b5a35              0                   0   \n",
       "\n",
       "                                          likes  comments  shares  type  \n",
       "uuid                                                                     \n",
       "6a175f46bcd24d39b3e962ad0f29936721db70db      0         0       0  bias  \n",
       "2bdc29d12605ef9cf3f09f9875040a7113be5d5b      0         0       0  bias  \n",
       "c70e149fdd53de5e61c29281100b9de0ed268bc3      0         0       0  bias  \n",
       "7cf7c15731ac2a116dd7f629bd57ea468ed70284      0         0       0  bias  \n",
       "0206b54719c7e241ffe0ad4315b808290dbe6c0f      0         0       0  bias  \n",
       "8f30f5ea14c9d5914a9fe4f55ab2581772af4c31      0         0       0  bias  \n",
       "d3cc0fe38f41a59f7c48f8c3528ca5f74193148f      0         0       0  bias  \n",
       "b4bbf8b5c19e8864f5257832a58b81ef4ed2d4e4      0         0       0  bias  \n",
       "a19aabaa5a61eb8bc22fadaaa003e5fbba5c4bf6      0         0       0  bias  \n",
       "f54d8e13010d0a79893995ee65360ad4b38b5a35      0         0       0  bias  "
      ]
     },
     "execution_count": 108,
     "metadata": {},
     "output_type": "execute_result"
    }
   ],
   "source": [
    "apsDF = pandas.read_csv('fake.csv', index_col = 0,parse_dates=True)"
   ]
  },
  {
   "cell_type": "markdown",
   "metadata": {},
   "source": [
    "We will load these as documents into Word2Vec, but first we need to normalize and pick some tags"
   ]
  },
  {
   "cell_type": "code",
   "execution_count": 109,
   "metadata": {
    "collapsed": true
   },
   "outputs": [],
   "source": [
    "keywords=['corruption','scandal','war','trump','hillary','republicans','liberal','military','russia','money','washington']"
   ]
  },
  {
   "cell_type": "code",
   "execution_count": 123,
   "metadata": {},
   "outputs": [],
   "source": [
    "apsDF['text'] = apsDF['text'].astype(str)"
   ]
  },
  {
   "cell_type": "code",
   "execution_count": 125,
   "metadata": {
    "scrolled": true
   },
   "outputs": [
    {
     "data": {
      "text/html": [
       "<div>\n",
       "<style>\n",
       "    .dataframe thead tr:only-child th {\n",
       "        text-align: right;\n",
       "    }\n",
       "\n",
       "    .dataframe thead th {\n",
       "        text-align: left;\n",
       "    }\n",
       "\n",
       "    .dataframe tbody tr th {\n",
       "        vertical-align: top;\n",
       "    }\n",
       "</style>\n",
       "<table border=\"1\" class=\"dataframe\">\n",
       "  <thead>\n",
       "    <tr style=\"text-align: right;\">\n",
       "      <th></th>\n",
       "      <th>ord_in_thread</th>\n",
       "      <th>author</th>\n",
       "      <th>published</th>\n",
       "      <th>title</th>\n",
       "      <th>text</th>\n",
       "      <th>language</th>\n",
       "      <th>crawled</th>\n",
       "      <th>site_url</th>\n",
       "      <th>country</th>\n",
       "      <th>domain_rank</th>\n",
       "      <th>...</th>\n",
       "      <th>replies_count</th>\n",
       "      <th>participants_count</th>\n",
       "      <th>likes</th>\n",
       "      <th>comments</th>\n",
       "      <th>shares</th>\n",
       "      <th>type</th>\n",
       "      <th>tokenized_words</th>\n",
       "      <th>normalized_words</th>\n",
       "      <th>year</th>\n",
       "      <th>uuid</th>\n",
       "    </tr>\n",
       "    <tr>\n",
       "      <th>uuid</th>\n",
       "      <th></th>\n",
       "      <th></th>\n",
       "      <th></th>\n",
       "      <th></th>\n",
       "      <th></th>\n",
       "      <th></th>\n",
       "      <th></th>\n",
       "      <th></th>\n",
       "      <th></th>\n",
       "      <th></th>\n",
       "      <th></th>\n",
       "      <th></th>\n",
       "      <th></th>\n",
       "      <th></th>\n",
       "      <th></th>\n",
       "      <th></th>\n",
       "      <th></th>\n",
       "      <th></th>\n",
       "      <th></th>\n",
       "      <th></th>\n",
       "      <th></th>\n",
       "    </tr>\n",
       "  </thead>\n",
       "  <tbody>\n",
       "    <tr>\n",
       "      <th>6a175f46bcd24d39b3e962ad0f29936721db70db</th>\n",
       "      <td>0</td>\n",
       "      <td>Barracuda Brigade</td>\n",
       "      <td>2016-10-26 18:41:00.000</td>\n",
       "      <td>Muslims BUSTED: They Stole Millions In Gov’t B...</td>\n",
       "      <td>Print They should pay all the back all the mon...</td>\n",
       "      <td>english</td>\n",
       "      <td>2016-10-27T01:49:27.168+03:00</td>\n",
       "      <td>100percentfedup.com</td>\n",
       "      <td>US</td>\n",
       "      <td>25689.0</td>\n",
       "      <td>...</td>\n",
       "      <td>0</td>\n",
       "      <td>1</td>\n",
       "      <td>0</td>\n",
       "      <td>0</td>\n",
       "      <td>0</td>\n",
       "      <td>bias</td>\n",
       "      <td>[Print, They, should, pay, all, the, back, all...</td>\n",
       "      <td>[print, pay, back, money, plus, interest, enti...</td>\n",
       "      <td>2016</td>\n",
       "      <td>6a175f46bcd24d39b3e962ad0f29936721db70db</td>\n",
       "    </tr>\n",
       "    <tr>\n",
       "      <th>2bdc29d12605ef9cf3f09f9875040a7113be5d5b</th>\n",
       "      <td>0</td>\n",
       "      <td>reasoning with facts</td>\n",
       "      <td>2016-10-29 05:47:11.259</td>\n",
       "      <td>Re: Why Did Attorney General Loretta Lynch Ple...</td>\n",
       "      <td>Why Did Attorney General Loretta Lynch Plead T...</td>\n",
       "      <td>english</td>\n",
       "      <td>2016-10-29T08:47:11.259+03:00</td>\n",
       "      <td>100percentfedup.com</td>\n",
       "      <td>US</td>\n",
       "      <td>25689.0</td>\n",
       "      <td>...</td>\n",
       "      <td>0</td>\n",
       "      <td>1</td>\n",
       "      <td>0</td>\n",
       "      <td>0</td>\n",
       "      <td>0</td>\n",
       "      <td>bias</td>\n",
       "      <td>[Why, Did, Attorney, General, Loretta, Lynch, ...</td>\n",
       "      <td>[attorney, general, loretta, lynch, plead, fif...</td>\n",
       "      <td>2016</td>\n",
       "      <td>2bdc29d12605ef9cf3f09f9875040a7113be5d5b</td>\n",
       "    </tr>\n",
       "    <tr>\n",
       "      <th>c70e149fdd53de5e61c29281100b9de0ed268bc3</th>\n",
       "      <td>0</td>\n",
       "      <td>Barracuda Brigade</td>\n",
       "      <td>2016-10-30 23:41:49.479</td>\n",
       "      <td>BREAKING: Weiner Cooperating With FBI On Hilla...</td>\n",
       "      <td>Red State : \\nFox News Sunday reported this mo...</td>\n",
       "      <td>english</td>\n",
       "      <td>2016-10-31T01:41:49.479+02:00</td>\n",
       "      <td>100percentfedup.com</td>\n",
       "      <td>US</td>\n",
       "      <td>25689.0</td>\n",
       "      <td>...</td>\n",
       "      <td>0</td>\n",
       "      <td>1</td>\n",
       "      <td>0</td>\n",
       "      <td>0</td>\n",
       "      <td>0</td>\n",
       "      <td>bias</td>\n",
       "      <td>[Red, State, :, Fox, News, Sunday, reported, t...</td>\n",
       "      <td>[red, state, fox, news, sunday, reported, morn...</td>\n",
       "      <td>2016</td>\n",
       "      <td>c70e149fdd53de5e61c29281100b9de0ed268bc3</td>\n",
       "    </tr>\n",
       "  </tbody>\n",
       "</table>\n",
       "<p>3 rows × 23 columns</p>\n",
       "</div>"
      ],
      "text/plain": [
       "                                          ord_in_thread                author  \\\n",
       "uuid                                                                            \n",
       "6a175f46bcd24d39b3e962ad0f29936721db70db              0     Barracuda Brigade   \n",
       "2bdc29d12605ef9cf3f09f9875040a7113be5d5b              0  reasoning with facts   \n",
       "c70e149fdd53de5e61c29281100b9de0ed268bc3              0     Barracuda Brigade   \n",
       "\n",
       "                                                       published  \\\n",
       "uuid                                                               \n",
       "6a175f46bcd24d39b3e962ad0f29936721db70db 2016-10-26 18:41:00.000   \n",
       "2bdc29d12605ef9cf3f09f9875040a7113be5d5b 2016-10-29 05:47:11.259   \n",
       "c70e149fdd53de5e61c29281100b9de0ed268bc3 2016-10-30 23:41:49.479   \n",
       "\n",
       "                                                                                      title  \\\n",
       "uuid                                                                                          \n",
       "6a175f46bcd24d39b3e962ad0f29936721db70db  Muslims BUSTED: They Stole Millions In Gov’t B...   \n",
       "2bdc29d12605ef9cf3f09f9875040a7113be5d5b  Re: Why Did Attorney General Loretta Lynch Ple...   \n",
       "c70e149fdd53de5e61c29281100b9de0ed268bc3  BREAKING: Weiner Cooperating With FBI On Hilla...   \n",
       "\n",
       "                                                                                       text  \\\n",
       "uuid                                                                                          \n",
       "6a175f46bcd24d39b3e962ad0f29936721db70db  Print They should pay all the back all the mon...   \n",
       "2bdc29d12605ef9cf3f09f9875040a7113be5d5b  Why Did Attorney General Loretta Lynch Plead T...   \n",
       "c70e149fdd53de5e61c29281100b9de0ed268bc3  Red State : \\nFox News Sunday reported this mo...   \n",
       "\n",
       "                                         language  \\\n",
       "uuid                                                \n",
       "6a175f46bcd24d39b3e962ad0f29936721db70db  english   \n",
       "2bdc29d12605ef9cf3f09f9875040a7113be5d5b  english   \n",
       "c70e149fdd53de5e61c29281100b9de0ed268bc3  english   \n",
       "\n",
       "                                                                crawled  \\\n",
       "uuid                                                                      \n",
       "6a175f46bcd24d39b3e962ad0f29936721db70db  2016-10-27T01:49:27.168+03:00   \n",
       "2bdc29d12605ef9cf3f09f9875040a7113be5d5b  2016-10-29T08:47:11.259+03:00   \n",
       "c70e149fdd53de5e61c29281100b9de0ed268bc3  2016-10-31T01:41:49.479+02:00   \n",
       "\n",
       "                                                     site_url country  \\\n",
       "uuid                                                                    \n",
       "6a175f46bcd24d39b3e962ad0f29936721db70db  100percentfedup.com      US   \n",
       "2bdc29d12605ef9cf3f09f9875040a7113be5d5b  100percentfedup.com      US   \n",
       "c70e149fdd53de5e61c29281100b9de0ed268bc3  100percentfedup.com      US   \n",
       "\n",
       "                                          domain_rank  \\\n",
       "uuid                                                    \n",
       "6a175f46bcd24d39b3e962ad0f29936721db70db      25689.0   \n",
       "2bdc29d12605ef9cf3f09f9875040a7113be5d5b      25689.0   \n",
       "c70e149fdd53de5e61c29281100b9de0ed268bc3      25689.0   \n",
       "\n",
       "                                                            ...                     \\\n",
       "uuid                                                        ...                      \n",
       "6a175f46bcd24d39b3e962ad0f29936721db70db                    ...                      \n",
       "2bdc29d12605ef9cf3f09f9875040a7113be5d5b                    ...                      \n",
       "c70e149fdd53de5e61c29281100b9de0ed268bc3                    ...                      \n",
       "\n",
       "                                         replies_count  participants_count  \\\n",
       "uuid                                                                         \n",
       "6a175f46bcd24d39b3e962ad0f29936721db70db             0                   1   \n",
       "2bdc29d12605ef9cf3f09f9875040a7113be5d5b             0                   1   \n",
       "c70e149fdd53de5e61c29281100b9de0ed268bc3             0                   1   \n",
       "\n",
       "                                         likes  comments  shares  type  \\\n",
       "uuid                                                                     \n",
       "6a175f46bcd24d39b3e962ad0f29936721db70db     0         0       0  bias   \n",
       "2bdc29d12605ef9cf3f09f9875040a7113be5d5b     0         0       0  bias   \n",
       "c70e149fdd53de5e61c29281100b9de0ed268bc3     0         0       0  bias   \n",
       "\n",
       "                                                                            tokenized_words  \\\n",
       "uuid                                                                                          \n",
       "6a175f46bcd24d39b3e962ad0f29936721db70db  [Print, They, should, pay, all, the, back, all...   \n",
       "2bdc29d12605ef9cf3f09f9875040a7113be5d5b  [Why, Did, Attorney, General, Loretta, Lynch, ...   \n",
       "c70e149fdd53de5e61c29281100b9de0ed268bc3  [Red, State, :, Fox, News, Sunday, reported, t...   \n",
       "\n",
       "                                                                           normalized_words  \\\n",
       "uuid                                                                                          \n",
       "6a175f46bcd24d39b3e962ad0f29936721db70db  [print, pay, back, money, plus, interest, enti...   \n",
       "2bdc29d12605ef9cf3f09f9875040a7113be5d5b  [attorney, general, loretta, lynch, plead, fif...   \n",
       "c70e149fdd53de5e61c29281100b9de0ed268bc3  [red, state, fox, news, sunday, reported, morn...   \n",
       "\n",
       "                                          year  \\\n",
       "uuid                                             \n",
       "6a175f46bcd24d39b3e962ad0f29936721db70db  2016   \n",
       "2bdc29d12605ef9cf3f09f9875040a7113be5d5b  2016   \n",
       "c70e149fdd53de5e61c29281100b9de0ed268bc3  2016   \n",
       "\n",
       "                                                                              uuid  \n",
       "uuid                                                                                \n",
       "6a175f46bcd24d39b3e962ad0f29936721db70db  6a175f46bcd24d39b3e962ad0f29936721db70db  \n",
       "2bdc29d12605ef9cf3f09f9875040a7113be5d5b  2bdc29d12605ef9cf3f09f9875040a7113be5d5b  \n",
       "c70e149fdd53de5e61c29281100b9de0ed268bc3  c70e149fdd53de5e61c29281100b9de0ed268bc3  \n",
       "\n",
       "[3 rows x 23 columns]"
      ]
     },
     "execution_count": 125,
     "metadata": {},
     "output_type": "execute_result"
    }
   ],
   "source": [
    "apsDF['uuid'] = apsDF.index\n",
    "apsDF[:3]"
   ]
  },
  {
   "cell_type": "code",
   "execution_count": 111,
   "metadata": {},
   "outputs": [],
   "source": [
    "apsDF['tokenized_words'] = apsDF['text'].apply(lambda x: nltk.word_tokenize(x))\n",
    "apsDF['normalized_words'] = apsDF['tokenized_words'].apply(lambda x: normalizeTokens(x, stopwordLst = stop_words_basic, stemmer = None))"
   ]
  },
  {
   "cell_type": "code",
   "execution_count": 112,
   "metadata": {},
   "outputs": [],
   "source": [
    "\n",
    "apsDF['published'] = pandas.to_datetime(apsDF['published'])"
   ]
  },
  {
   "cell_type": "code",
   "execution_count": 116,
   "metadata": {},
   "outputs": [],
   "source": [
    "apsDF['year'] = apsDF['published'].dt.year"
   ]
  },
  {
   "cell_type": "code",
   "execution_count": 127,
   "metadata": {},
   "outputs": [],
   "source": [
    "taggedDocs = []\n",
    "for index, row in apsDF.iterrows():\n",
    "    #Just doing a simple keyword assignment\n",
    "    docKeywords = [s for s in keywords if s in row['normalized_words']]\n",
    "    docKeywords.append(row['year'])\n",
    "    docKeywords.append(row['uuid']) #This lets us extract individual documnets since doi's are unique\n",
    "    taggedDocs.append(gensim.models.doc2vec.LabeledSentence(words = row['normalized_words'], tags = docKeywords))\n",
    "apsDF['TaggedAbstracts'] = taggedDocs"
   ]
  },
  {
   "cell_type": "markdown",
   "metadata": {},
   "source": [
    "Now we can train a Doc2Vec model:"
   ]
  },
  {
   "cell_type": "code",
   "execution_count": 128,
   "metadata": {},
   "outputs": [],
   "source": [
    "apsD2V = gensim.models.doc2vec.Doc2Vec(apsDF['TaggedAbstracts'], size = 100) #Limiting to 100 dimensions"
   ]
  },
  {
   "cell_type": "markdown",
   "metadata": {},
   "source": [
    "We can get vectors for the tags/documents, just as we did with words. Documents are actually the centroids (high dimensional average points) of their words. "
   ]
  },
  {
   "cell_type": "code",
   "execution_count": 129,
   "metadata": {},
   "outputs": [
    {
     "data": {
      "text/plain": [
       "array([ -5.36512409e-04,  -2.83471029e-03,  -2.95130350e-03,\n",
       "        -2.43438524e-03,   3.82370106e-03,   5.80217806e-04,\n",
       "         4.82952734e-03,   2.43127183e-03,   4.29227203e-03,\n",
       "         3.92109714e-03,  -1.82123960e-03,   3.59846489e-03,\n",
       "         4.86076856e-03,  -2.59437668e-03,   1.01060292e-03,\n",
       "         3.05103743e-03,   1.27421808e-03,  -1.72845530e-03,\n",
       "         1.06189388e-03,   4.71823942e-03,  -3.10668349e-03,\n",
       "         1.79886678e-03,   4.20692796e-03,  -2.04140623e-03,\n",
       "        -1.97567209e-03,   3.01587768e-03,   6.02856628e-04,\n",
       "        -4.28162003e-03,   1.14112270e-04,   2.06927699e-03,\n",
       "         3.09022097e-03,   1.37844158e-03,   1.51125994e-03,\n",
       "        -4.19977959e-03,  -1.49345712e-03,  -3.78670520e-03,\n",
       "        -2.06097518e-03,   4.75562131e-03,  -2.74707703e-03,\n",
       "         5.90845826e-04,  -2.70095631e-03,  -4.62776981e-03,\n",
       "         3.08844703e-03,   2.91088060e-03,   4.65481402e-03,\n",
       "        -3.39321257e-03,  -4.19439282e-03,   1.32104580e-03,\n",
       "        -4.20558453e-03,   2.44203885e-03,   1.77917347e-04,\n",
       "        -2.60792649e-03,   1.88828877e-03,  -1.17651070e-05,\n",
       "         4.23600012e-03,   2.72378256e-03,   2.00031279e-03,\n",
       "         4.34046751e-03,   1.80225086e-03,  -4.71768202e-03,\n",
       "         2.53225584e-03,   4.63357056e-03,  -3.16815078e-03,\n",
       "         1.62743661e-03,  -1.70440151e-04,   2.05654604e-03,\n",
       "         4.69649723e-03,  -1.57489441e-03,   1.78906193e-03,\n",
       "         3.30294948e-04,  -1.72042241e-03,   1.41261402e-03,\n",
       "         1.11090078e-03,   1.45864487e-03,   4.45138663e-03,\n",
       "         4.83988877e-03,  -1.35515234e-03,   4.94195847e-03,\n",
       "        -4.10497375e-03,  -1.13667361e-03,   3.53621528e-03,\n",
       "         3.67825874e-03,  -7.60872150e-04,  -4.77859285e-03,\n",
       "         4.40048287e-03,  -4.31380840e-03,   4.30009142e-03,\n",
       "        -4.06145165e-03,  -1.57241453e-03,   7.86407443e-04,\n",
       "         1.05539351e-04,  -2.58848141e-03,  -4.75541269e-03,\n",
       "         2.38508102e-03,   4.71473951e-03,  -4.78159264e-03,\n",
       "        -7.22850615e-04,  -4.98563843e-03,   4.48046398e-04,\n",
       "        -2.31817923e-03], dtype=float32)"
      ]
     },
     "execution_count": 129,
     "metadata": {},
     "output_type": "execute_result"
    }
   ],
   "source": [
    "apsD2V.docvecs[1952]"
   ]
  },
  {
   "cell_type": "markdown",
   "metadata": {},
   "source": [
    "We can still use the ``most_similar`` command to perform simple semantic equations:"
   ]
  },
  {
   "cell_type": "code",
   "execution_count": 144,
   "metadata": {},
   "outputs": [
    {
     "data": {
      "text/plain": [
       "[('villains', 0.6823616623878479),\n",
       " ('proclaim', 0.6786845922470093),\n",
       " ('appalled', 0.6712843179702759),\n",
       " ('detest', 0.6703437566757202),\n",
       " ('misogyny', 0.658176064491272)]"
      ]
     },
     "execution_count": 144,
     "metadata": {},
     "output_type": "execute_result"
    }
   ],
   "source": [
    "apsD2V.most_similar(positive = ['hilary','liberal'], negative = ['scandal'], topn = 5)"
   ]
  },
  {
   "cell_type": "markdown",
   "metadata": {},
   "source": [
    "We observe that **Hillary**+**liberal**-**scandal** equals `villains`. Given that the corpus is fake news archive, this observation is not surprising."
   ]
  },
  {
   "cell_type": "code",
   "execution_count": 149,
   "metadata": {},
   "outputs": [
    {
     "data": {
      "text/plain": [
       "[('fdef8bba74e059a710927a8152a23d4daac095dc', 0.6403086185455322),\n",
       " ('36b16df7e441b3fa7dc335f98c203001d7795edb', 0.6360424160957336),\n",
       " ('74451b836723cf4535f7508df2abf2575061a844', 0.6291022300720215),\n",
       " ('a80e6162ca532e96b922287cd6d6e58cdfe02611', 0.6197515726089478),\n",
       " ('059f9f913ae6c7f27db8c532cd4884cc21b6aff4', 0.6178446412086487)]"
      ]
     },
     "execution_count": 149,
     "metadata": {},
     "output_type": "execute_result"
    }
   ],
   "source": [
    "apsD2V.docvecs.most_similar([ apsD2V['fake'] ], topn=5 )"
   ]
  },
  {
   "cell_type": "markdown",
   "metadata": {},
   "source": [
    "Now let's plot some words and documents against one another with a heatmap:"
   ]
  },
  {
   "cell_type": "code",
   "execution_count": 152,
   "metadata": {},
   "outputs": [],
   "source": [
    "heatmapMatrix = []\n",
    "for tagOuter in keywords:\n",
    "    column = []\n",
    "    tagVec = apsD2V.docvecs[tagOuter].reshape(1, -1)\n",
    "    for tagInner in keywords:\n",
    "        column.append(sklearn.metrics.pairwise.cosine_similarity(tagVec, apsD2V.docvecs[tagInner].reshape(1, -1))[0][0])\n",
    "    heatmapMatrix.append(column)\n",
    "heatmapMatrix = np.array(heatmapMatrix)"
   ]
  },
  {
   "cell_type": "code",
   "execution_count": 153,
   "metadata": {},
   "outputs": [
    {
     "data": {
      "image/png": "[encoded data removed]",
      "text/plain": [
       "<matplotlib.figure.Figure at 0x1a7dcdf7b8>"
      ]
     },
     "metadata": {},
     "output_type": "display_data"
    }
   ],
   "source": [
    "fig, ax = plt.subplots()\n",
    "hmap = ax.pcolor(heatmapMatrix, cmap='terrain')\n",
    "cbar = plt.colorbar(hmap)\n",
    "\n",
    "cbar.set_label('cosine similarity', rotation=270)\n",
    "a = ax.set_xticks(np.arange(heatmapMatrix.shape[1]) + 0.5, minor=False)\n",
    "a = ax.set_yticks(np.arange(heatmapMatrix.shape[0]) + 0.5, minor=False)\n",
    "\n",
    "a = ax.set_xticklabels(keywords, minor=False, rotation=270)\n",
    "a = ax.set_yticklabels(keywords, minor=False)"
   ]
  },
  {
   "cell_type": "markdown",
   "metadata": {},
   "source": [
    "Now let's look at a heatmap of similarities between the first ten documents in the corpus:"
   ]
  },
  {
   "cell_type": "code",
   "execution_count": 158,
   "metadata": {
    "collapsed": true
   },
   "outputs": [],
   "source": [
    "targetDocs = apsDF['uuid'][:10]\n",
    "\n",
    "heatmapMatrixD = []\n",
    "\n",
    "for tagOuter in targetDocs:\n",
    "    column = []\n",
    "    tagVec = apsD2V.docvecs[tagOuter].reshape(1, -1)\n",
    "    for tagInner in targetDocs:\n",
    "        column.append(sklearn.metrics.pairwise.cosine_similarity(tagVec, apsD2V.docvecs[tagInner].reshape(1, -1))[0][0])\n",
    "    heatmapMatrixD.append(column)\n",
    "heatmapMatrixD = np.array(heatmapMatrixD)"
   ]
  },
  {
   "cell_type": "code",
   "execution_count": 159,
   "metadata": {},
   "outputs": [
    {
     "data": {
      "image/png": "[encoded data removed]",
      "text/plain": [
       "<matplotlib.figure.Figure at 0x1ac8826ef0>"
      ]
     },
     "metadata": {},
     "output_type": "display_data"
    }
   ],
   "source": [
    "fig, ax = plt.subplots()\n",
    "hmap = ax.pcolor(heatmapMatrixD, cmap='terrain')\n",
    "cbar = plt.colorbar(hmap)\n",
    "\n",
    "cbar.set_label('cosine similarity', rotation=270)\n",
    "a = ax.set_xticks(np.arange(heatmapMatrixD.shape[1]) + 0.5, minor=False)\n",
    "a = ax.set_yticks(np.arange(heatmapMatrixD.shape[0]) + 0.5, minor=False)\n",
    "\n",
    "a = ax.set_xticklabels(targetDocs, minor=False, rotation=270)\n",
    "a = ax.set_yticklabels(targetDocs, minor=False)"
   ]
  },
  {
   "cell_type": "markdown",
   "metadata": {},
   "source": [
    "Now let's look at a heatmap of similarities between the first ten documents and our keywords:"
   ]
  },
  {
   "cell_type": "code",
   "execution_count": 160,
   "metadata": {
    "collapsed": true
   },
   "outputs": [],
   "source": [
    "heatmapMatrixC = []\n",
    "\n",
    "for tagOuter in targetDocs:\n",
    "    column = []\n",
    "    tagVec = apsD2V.docvecs[tagOuter].reshape(1, -1)\n",
    "    for tagInner in keywords:\n",
    "        column.append(sklearn.metrics.pairwise.cosine_similarity(tagVec, apsD2V.docvecs[tagInner].reshape(1, -1))[0][0])\n",
    "    heatmapMatrixC.append(column)\n",
    "heatmapMatrixC = np.array(heatmapMatrixC)"
   ]
  },
  {
   "cell_type": "code",
   "execution_count": 164,
   "metadata": {},
   "outputs": [
    {
     "data": {
      "text/plain": [
       "(10, 11)"
      ]
     },
     "execution_count": 164,
     "metadata": {},
     "output_type": "execute_result"
    }
   ],
   "source": [
    "heatmapMatrixC.shape"
   ]
  },
  {
   "cell_type": "code",
   "execution_count": 161,
   "metadata": {},
   "outputs": [
    {
     "data": {
      "image/png": "[encoded data removed]",
      "text/plain": [
       "<matplotlib.figure.Figure at 0x1a741e5f98>"
      ]
     },
     "metadata": {},
     "output_type": "display_data"
    }
   ],
   "source": [
    "fig, ax = plt.subplots()\n",
    "hmap = ax.pcolor(heatmapMatrixC, cmap='terrain')\n",
    "cbar = plt.colorbar(hmap)\n",
    "\n",
    "cbar.set_label('cosine similarity', rotation=270)\n",
    "a = ax.set_xticks(np.arange(heatmapMatrixC.shape[1]) + 0.5, minor=False)\n",
    "a = ax.set_yticks(np.arange(heatmapMatrixC.shape[0]) + 0.5, minor=False)\n",
    "\n",
    "a = ax.set_xticklabels(keywords, minor=False, rotation=270)\n",
    "a = ax.set_yticklabels(targetDocs, minor=False)"
   ]
  },
  {
   "cell_type": "markdown",
   "metadata": {},
   "source": [
    "We can save the model too..."
   ]
  },
  {
   "cell_type": "code",
   "execution_count": 295,
   "metadata": {
    "collapsed": true
   },
   "outputs": [],
   "source": [
    "apsD2V.save('apsW2V_heatmapData')"
   ]
  },
  {
   "cell_type": "markdown",
   "metadata": {},
   "source": [
    "### Doc-Doc distances"
   ]
  },
  {
   "cell_type": "code",
   "execution_count": null,
   "metadata": {},
   "outputs": [],
   "source": [
    "targetDocs = apsDF['uuid']\n",
    "\n",
    "heatmapMatrixD_doc_doc = []\n",
    "\n",
    "for tagOuter in targetDocs:\n",
    "    column = []\n",
    "    tagVec = apsD2V.docvecs[tagOuter].reshape(1, -1)\n",
    "    for tagInner in targetDocs:\n",
    "        column.append(sklearn.metrics.pairwise.cosine_similarity(tagVec, apsD2V.docvecs[tagInner].reshape(1, -1))[0][0])\n",
    "    heatmapMatrixD_doc_doc.append(column)\n",
    "heatmapMatrixD_doc_doc = np.array(heatmapMatrixD_doc_doc)\n",
    "heatmapMatrixD_doc_doc.shape"
   ]
  },
  {
   "cell_type": "markdown",
   "metadata": {},
   "source": [
    "The heat matrix we obtained above is the required data. Each cell corresponds to the distance between the documents indexed in the corresponding row and column."
   ]
  },
  {
   "cell_type": "markdown",
   "metadata": {},
   "source": [
    "### Doc-word distances"
   ]
  },
  {
   "cell_type": "code",
   "execution_count": 167,
   "metadata": {},
   "outputs": [
    {
     "data": {
      "text/plain": [
       "(12999, 1)"
      ]
     },
     "execution_count": 167,
     "metadata": {},
     "output_type": "execute_result"
    }
   ],
   "source": [
    "heatmapMatrixC_doc_word = []\n",
    "keywords_new=['war']\n",
    "\n",
    "for tagOuter in targetDocs:\n",
    "    column = []\n",
    "    tagVec = apsD2V.docvecs[tagOuter].reshape(1, -1)\n",
    "    for tagInner in keywords_new:\n",
    "        column.append(sklearn.metrics.pairwise.cosine_similarity(tagVec, apsD2V.docvecs[tagInner].reshape(1, -1))[0][0])\n",
    "    heatmapMatrixC_doc_word.append(column)\n",
    "heatmapMatrixC_doc_word = np.array(heatmapMatrixC_doc_word)"
   ]
  },
  {
   "cell_type": "markdown",
   "metadata": {},
   "source": [
    "The heat matrix we obtained above is the required data. Each cell corresponds to the distance between the documents and the word `war` indexed in the corresponding row and column."
   ]
  },
  {
   "cell_type": "markdown",
   "metadata": {},
   "source": [
    "## Insert analysis here"
   ]
  },
  {
   "cell_type": "markdown",
   "metadata": {},
   "source": [
    "## Projection"
   ]
  },
  {
   "cell_type": "markdown",
   "metadata": {},
   "source": [
    "We can also project word vectors to an arbitray semantic dimension. For this purpose, we are going to use our already trained model"
   ]
  },
  {
   "cell_type": "code",
   "execution_count": 248,
   "metadata": {},
   "outputs": [],
   "source": [
    "final_W2V = gensim.models.word2vec.Word2Vec(all_news['normalized_sents'].sum())  ##creating for req in Q3."
   ]
  },
  {
   "cell_type": "code",
   "execution_count": 296,
   "metadata": {
    "collapsed": true
   },
   "outputs": [],
   "source": [
    "final_W2V.save('projectionData_q3')"
   ]
  },
  {
   "cell_type": "markdown",
   "metadata": {},
   "source": [
    "First we can visualize with dimension reduction"
   ]
  },
  {
   "cell_type": "code",
   "execution_count": 249,
   "metadata": {},
   "outputs": [
    {
     "data": {
      "text/plain": [
       "array([[ 0.19747917, -0.45808238,  0.74382532, ...,  1.12340486,\n",
       "        -2.00511026,  0.32741049],\n",
       "       [ 0.00381735,  0.06964204, -0.05785301, ...,  1.19125342,\n",
       "         0.45082492,  0.77319425],\n",
       "       [ 1.1775521 , -1.32009971,  1.04646337, ...,  2.31835222,\n",
       "         0.63242376, -0.7112568 ],\n",
       "       ..., \n",
       "       [ 0.33031023,  0.35608962,  0.04387065, ..., -0.35647172,\n",
       "        -0.8416813 , -0.5071075 ],\n",
       "       [-0.12341268, -0.93584013,  0.5594396 , ..., -0.05828715,\n",
       "        -0.89575654,  0.2254519 ],\n",
       "       [-1.55349922, -1.42011404,  0.08174808, ...,  0.7894761 ,\n",
       "        -0.22321624,  0.1610751 ]], dtype=float32)"
      ]
     },
     "execution_count": 249,
     "metadata": {},
     "output_type": "execute_result"
    }
   ],
   "source": [
    "#words to create dimensions\n",
    "##tnytTargetWords = ['man','he', 'woman', 'her', 'she', 'black','blacks','African', 'white', 'whites', 'Caucasian', 'rich', 'richer', 'richest', 'expensive', 'wealthy', 'poor', 'poorer', 'poorest', 'cheap', 'inexpensive']\n",
    "#words we will be mapping\n",
    "#tnytTargetWords += [\"doctor\",\"lawyer\",\"plumber\",\"scientist\",\"hairdresser\", \"nanny\",\"carpenter\",\"entrepreneur\",\"musician\",\"writer\", \"banker\",\"poet\",\"nurse\", \"steak\", \"bacon\", \"croissant\", \"cheesecake\", \"salad\", \"cheeseburger\", \"vegetables\", \"beer\", \"wine\", \"pastry\", \"basketball\", \"baseball\", \"boxing\", \"softball\", \"volleyball\", \"tennis\", \"golf\", \"hockey\", \"soccer\"]\n",
    "\n",
    "numWords = 200\n",
    "targetWords = final_W2V.wv.index2word[:numWords]\n",
    "\n",
    "wordsSubMatrix = []\n",
    "for word in targetWords:\n",
    "    wordsSubMatrix.append(final_W2V[word])\n",
    "wordsSubMatrix = np.array(wordsSubMatrix)\n",
    "wordsSubMatrix"
   ]
  },
  {
   "cell_type": "code",
   "execution_count": 250,
   "metadata": {
    "collapsed": true
   },
   "outputs": [],
   "source": [
    "pcaWordsNYT = sklearn.decomposition.PCA(n_components = 50).fit(wordsSubMatrix)\n",
    "reducedPCA_dataNYT = pcaWordsNYT.transform(wordsSubMatrix)\n",
    "#T-SNE is theoretically better, but you should experiment\n",
    "tsneWordsNYT = sklearn.manifold.TSNE(n_components = 2).fit_transform(reducedPCA_dataNYT)"
   ]
  },
  {
   "cell_type": "code",
   "execution_count": 251,
   "metadata": {},
   "outputs": [
    {
     "data": {
      "image/png": "[encoded data removed]",
      "text/plain": [
       "<matplotlib.figure.Figure at 0x1a806d1a20>"
      ]
     },
     "metadata": {},
     "output_type": "display_data"
    }
   ],
   "source": [
    "fig = plt.figure(figsize = (20,15))\n",
    "ax = fig.add_subplot(111)\n",
    "ax.set_frame_on(False)\n",
    "plt.scatter(tsneWordsNYT[:, 0], tsneWordsNYT[:, 1], alpha = 0) #Making the points invisible\n",
    "for i, word in enumerate(targetWords):\n",
    "    ax.annotate(word, (tsneWordsNYT[:, 0][i],tsneWordsNYT[:, 1][i]), size =  20 * (len(targetWords) - i) / len(targetWords))\n",
    "plt.xticks(())\n",
    "plt.yticks(())\n",
    "plt.show()"
   ]
  },
  {
   "cell_type": "markdown",
   "metadata": {},
   "source": [
    "Define some convenient functions for getting dimensions. "
   ]
  },
  {
   "cell_type": "code",
   "execution_count": 252,
   "metadata": {
    "collapsed": true
   },
   "outputs": [],
   "source": [
    "def normalize(vector):\n",
    "    normalized_vector = vector / np.linalg.norm(vector,np.inf) ## using the 'inf' norm due to bug issues with Frobenius norm\n",
    "    return normalized_vector\n",
    "\n",
    "def dimension(model, positives, negatives):\n",
    "    diff = sum([normalize(model[x]) for x in positives]) - sum([normalize(model[y]) for y in negatives])\n",
    "    return diff"
   ]
  },
  {
   "cell_type": "markdown",
   "metadata": {},
   "source": [
    "Let's calculate three dimensions: gender, race, and class."
   ]
  },
  {
   "cell_type": "code",
   "execution_count": 278,
   "metadata": {},
   "outputs": [],
   "source": [
    "Political_Orientation = dimension(final_W2V, ['republican','republicans','conservative'], ['liberal','progressive','leftist'])\n",
    "Truthfullness = dimension(final_W2V,['finest','straight','cooperating','heartfelt','plead'],['terrorism','stealing','fraud','scamming','incriminating']) ##somalis, muslim\n",
    "Race = dimension(final_W2V, ['black','blacks'], ['white', 'whites'])\n",
    "Institution = dimension(final_W2V, ['federal','government','military'], ['media','paper','judge','fbi'])"
   ]
  },
  {
   "cell_type": "markdown",
   "metadata": {},
   "source": [
    "Now we define some words to be projected onto the semantic dimensions defined earlier."
   ]
  },
  {
   "cell_type": "code",
   "execution_count": 290,
   "metadata": {
    "collapsed": true
   },
   "outputs": [],
   "source": [
    "plot_words = ['trump','hillary','obama','mueller','lynch','loretta','fbi','military']\n"
   ]
  },
  {
   "cell_type": "code",
   "execution_count": 291,
   "metadata": {
    "collapsed": true
   },
   "outputs": [],
   "source": [
    "def makeDF(model, word_list):\n",
    "    g = []\n",
    "    t = []\n",
    "    r = []\n",
    "    c = []\n",
    "    for word in word_list:\n",
    "        g.append(sklearn.metrics.pairwise.cosine_similarity(all_news_W2V[word].reshape(1,-1), Political_Orientation.reshape(1,-1))[0][0])\n",
    "        t.append(sklearn.metrics.pairwise.cosine_similarity(all_news_W2V[word].reshape(1,-1), Truthfullness.reshape(1,-1))[0][0])\n",
    "        r.append(sklearn.metrics.pairwise.cosine_similarity(all_news_W2V[word].reshape(1,-1), Race.reshape(1,-1))[0][0])\n",
    "        c.append(sklearn.metrics.pairwise.cosine_similarity(all_news_W2V[word].reshape(1,-1), Institutions.reshape(1,-1))[0][0])\n",
    "    df = pandas.DataFrame({'politics': g, 'honesty':t,'race': r, 'institution': c}, index = word_list)\n",
    "    return df"
   ]
  },
  {
   "cell_type": "code",
   "execution_count": 292,
   "metadata": {},
   "outputs": [],
   "source": [
    "imp_people_df = makeDF(final_W2V, plot_words) \n"
   ]
  },
  {
   "cell_type": "markdown",
   "metadata": {},
   "source": [
    "Define some useful functions for plotting."
   ]
  },
  {
   "cell_type": "code",
   "execution_count": 293,
   "metadata": {
    "collapsed": true
   },
   "outputs": [],
   "source": [
    "def Coloring(Series):\n",
    "    x = Series.values\n",
    "    y = x-x.min()\n",
    "    z = y/y.max()\n",
    "    c = list(plt.cm.rainbow(z))\n",
    "    return c\n",
    "\n",
    "def PlotDimension(ax,df, dim):\n",
    "    ax.set_frame_on(False)\n",
    "    ax.set_title(dim, fontsize = 20)\n",
    "    colors = Coloring(df[dim])\n",
    "    for i, word in enumerate(df.index):\n",
    "        ax.annotate(word, (0, df[dim][i]), color = colors[i], alpha = 0.6, fontsize = 12)\n",
    "    MaxY = df[dim].max()\n",
    "    MinY = df[dim].min()\n",
    "    plt.ylim(MinY,MaxY)\n",
    "    plt.yticks(())\n",
    "    plt.xticks(())"
   ]
  },
  {
   "cell_type": "code",
   "execution_count": 294,
   "metadata": {},
   "outputs": [
    {
     "data": {
      "image/png": "[encoded data removed]",
      "text/plain": [
       "<matplotlib.figure.Figure at 0x1a81a3e630>"
      ]
     },
     "metadata": {},
     "output_type": "display_data"
    }
   ],
   "source": [
    "fig = plt.figure(figsize = (20,7))\n",
    "ax1 = fig.add_subplot(131)\n",
    "PlotDimension(ax1, imp_people_df, 'politics')\n",
    "ax2 = fig.add_subplot(132)\n",
    "PlotDimension(ax2, imp_people_df, 'honesty')\n",
    "ax3 = fig.add_subplot(133)\n",
    "PlotDimension(ax3, imp_people_df, 'race')\n",
    "plt.show()"
   ]
  },
  {
   "cell_type": "markdown",
   "metadata": {},
   "source": [
    "We see that the words are strongly polarized under the dimension of `politics` and `honesty`. We observe the most variation under `race`. "
   ]
  }
 ],
 "metadata": {
  "kernelspec": {
   "display_name": "Python 3",
   "language": "python",
   "name": "python3"
  },
  "language_info": {
   "codemirror_mode": {
    "name": "ipython",
    "version": 3
   },
   "file_extension": ".py",
   "mimetype": "text/x-python",
   "name": "python",
   "nbconvert_exporter": "python",
   "pygments_lexer": "ipython3",
   "version": "3.6.3"
  }
 },
 "nbformat": 4,
 "nbformat_minor": 2
}
