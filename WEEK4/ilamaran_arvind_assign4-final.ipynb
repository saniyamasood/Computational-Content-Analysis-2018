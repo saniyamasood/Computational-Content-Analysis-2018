{
 "cells": [
  {
   "cell_type": "code",
   "execution_count": 10,
   "metadata": {
    "collapsed": true
   },
   "outputs": [],
   "source": [
    "#Special module written for this class\n",
    "#This provides access to data and to helper functions from previous weeks\n",
    "#Make sure you update it before starting this notebook\n",
    "import lucem_illud #pip install -U git+git://github.com/Computational-Content-Analysis-2018/lucem_illud.git\n",
    "\n",
    "#All these packages need to be installed from pip\n",
    "import pickle\n",
    "import gensim#For word2vec, etc\n",
    "import requests #For downloading our datasets\n",
    "import nltk #For stop words and stemmers\n",
    "import numpy as np #For arrays\n",
    "import pandas #Gives us DataFrames\n",
    "import matplotlib.pyplot as plt #For graphics\n",
    "import seaborn #Makes the graphics look nicer\n",
    "import sklearn.metrics.pairwise #For cosine similarity\n",
    "import sklearn.manifold #For T-SNE\n",
    "import sklearn.decomposition #For PCA\n",
    "\n",
    "#gensim uses a couple of deprecated features\n",
    "#we can't do anything about them so lets ignore them \n",
    "import warnings\n",
    "warnings.filterwarnings(\"ignore\", category=DeprecationWarning) \n",
    "\n",
    "#This 'magic' command makes the plots work better\n",
    "#in the notebook, don't use it outside of a notebook.\n",
    "#Also you can ignore the warning\n",
    "%matplotlib inline\n",
    "\n",
    "import os #For looking through files\n",
    "import os.path #For managing file paths"
   ]
  },
  {
   "cell_type": "markdown",
   "metadata": {},
   "source": [
    "Construct cells immediately below this that **build a word2vec model** with your corpus. Interrogate word relationships in the resulting space, including **estimating 90% confidence intervals** for specific word cosine distances of interest. **Plot a subset of your words**. What do these word relationships reveal about the social and cultural game underlying your corpus? What was surprising--what violated your prior understanding of the corpus? What was expected--what confirmed your knowledge about this domain?"
   ]
  },
  {
   "cell_type": "code",
   "execution_count": 2,
   "metadata": {},
   "outputs": [
    {
     "data": {
      "text/html": [
       "<div>\n",
       "<style scoped>\n",
       "    .dataframe tbody tr th:only-of-type {\n",
       "        vertical-align: middle;\n",
       "    }\n",
       "\n",
       "    .dataframe tbody tr th {\n",
       "        vertical-align: top;\n",
       "    }\n",
       "\n",
       "    .dataframe thead th {\n",
       "        text-align: right;\n",
       "    }\n",
       "</style>\n",
       "<table border=\"1\" class=\"dataframe\">\n",
       "  <thead>\n",
       "    <tr style=\"text-align: right;\">\n",
       "      <th></th>\n",
       "      <th>uuid</th>\n",
       "      <th>ord_in_thread</th>\n",
       "      <th>author</th>\n",
       "      <th>published</th>\n",
       "      <th>title</th>\n",
       "      <th>text</th>\n",
       "      <th>language</th>\n",
       "      <th>crawled</th>\n",
       "      <th>site_url</th>\n",
       "      <th>country</th>\n",
       "      <th>domain_rank</th>\n",
       "      <th>thread_title</th>\n",
       "      <th>spam_score</th>\n",
       "      <th>main_img_url</th>\n",
       "      <th>replies_count</th>\n",
       "      <th>participants_count</th>\n",
       "      <th>likes</th>\n",
       "      <th>comments</th>\n",
       "      <th>shares</th>\n",
       "      <th>type</th>\n",
       "    </tr>\n",
       "  </thead>\n",
       "  <tbody>\n",
       "    <tr>\n",
       "      <th>0</th>\n",
       "      <td>6a175f46bcd24d39b3e962ad0f29936721db70db</td>\n",
       "      <td>0</td>\n",
       "      <td>Barracuda Brigade</td>\n",
       "      <td>2016-10-26T21:41:00.000+03:00</td>\n",
       "      <td>Muslims BUSTED: They Stole Millions In Gov’t B...</td>\n",
       "      <td>Print They should pay all the back all the mon...</td>\n",
       "      <td>english</td>\n",
       "      <td>2016-10-27T01:49:27.168+03:00</td>\n",
       "      <td>100percentfedup.com</td>\n",
       "      <td>US</td>\n",
       "      <td>25689.0</td>\n",
       "      <td>Muslims BUSTED: They Stole Millions In Gov’t B...</td>\n",
       "      <td>0.000</td>\n",
       "      <td>http://bb4sp.com/wp-content/uploads/2016/10/Fu...</td>\n",
       "      <td>0</td>\n",
       "      <td>1</td>\n",
       "      <td>0</td>\n",
       "      <td>0</td>\n",
       "      <td>0</td>\n",
       "      <td>bias</td>\n",
       "    </tr>\n",
       "    <tr>\n",
       "      <th>1</th>\n",
       "      <td>2bdc29d12605ef9cf3f09f9875040a7113be5d5b</td>\n",
       "      <td>0</td>\n",
       "      <td>reasoning with facts</td>\n",
       "      <td>2016-10-29T08:47:11.259+03:00</td>\n",
       "      <td>Re: Why Did Attorney General Loretta Lynch Ple...</td>\n",
       "      <td>Why Did Attorney General Loretta Lynch Plead T...</td>\n",
       "      <td>english</td>\n",
       "      <td>2016-10-29T08:47:11.259+03:00</td>\n",
       "      <td>100percentfedup.com</td>\n",
       "      <td>US</td>\n",
       "      <td>25689.0</td>\n",
       "      <td>Re: Why Did Attorney General Loretta Lynch Ple...</td>\n",
       "      <td>0.000</td>\n",
       "      <td>http://bb4sp.com/wp-content/uploads/2016/10/Fu...</td>\n",
       "      <td>0</td>\n",
       "      <td>1</td>\n",
       "      <td>0</td>\n",
       "      <td>0</td>\n",
       "      <td>0</td>\n",
       "      <td>bias</td>\n",
       "    </tr>\n",
       "    <tr>\n",
       "      <th>2</th>\n",
       "      <td>c70e149fdd53de5e61c29281100b9de0ed268bc3</td>\n",
       "      <td>0</td>\n",
       "      <td>Barracuda Brigade</td>\n",
       "      <td>2016-10-31T01:41:49.479+02:00</td>\n",
       "      <td>BREAKING: Weiner Cooperating With FBI On Hilla...</td>\n",
       "      <td>Red State : \\nFox News Sunday reported this mo...</td>\n",
       "      <td>english</td>\n",
       "      <td>2016-10-31T01:41:49.479+02:00</td>\n",
       "      <td>100percentfedup.com</td>\n",
       "      <td>US</td>\n",
       "      <td>25689.0</td>\n",
       "      <td>BREAKING: Weiner Cooperating With FBI On Hilla...</td>\n",
       "      <td>0.000</td>\n",
       "      <td>http://bb4sp.com/wp-content/uploads/2016/10/Fu...</td>\n",
       "      <td>0</td>\n",
       "      <td>1</td>\n",
       "      <td>0</td>\n",
       "      <td>0</td>\n",
       "      <td>0</td>\n",
       "      <td>bias</td>\n",
       "    </tr>\n",
       "    <tr>\n",
       "      <th>3</th>\n",
       "      <td>7cf7c15731ac2a116dd7f629bd57ea468ed70284</td>\n",
       "      <td>0</td>\n",
       "      <td>Fed Up</td>\n",
       "      <td>2016-11-01T05:22:00.000+02:00</td>\n",
       "      <td>PIN DROP SPEECH BY FATHER OF DAUGHTER Kidnappe...</td>\n",
       "      <td>Email Kayla Mueller was a prisoner and torture...</td>\n",
       "      <td>english</td>\n",
       "      <td>2016-11-01T15:46:26.304+02:00</td>\n",
       "      <td>100percentfedup.com</td>\n",
       "      <td>US</td>\n",
       "      <td>25689.0</td>\n",
       "      <td>PIN DROP SPEECH BY FATHER OF DAUGHTER Kidnappe...</td>\n",
       "      <td>0.068</td>\n",
       "      <td>http://100percentfedup.com/wp-content/uploads/...</td>\n",
       "      <td>0</td>\n",
       "      <td>0</td>\n",
       "      <td>0</td>\n",
       "      <td>0</td>\n",
       "      <td>0</td>\n",
       "      <td>bias</td>\n",
       "    </tr>\n",
       "    <tr>\n",
       "      <th>4</th>\n",
       "      <td>0206b54719c7e241ffe0ad4315b808290dbe6c0f</td>\n",
       "      <td>0</td>\n",
       "      <td>Fed Up</td>\n",
       "      <td>2016-11-01T21:56:00.000+02:00</td>\n",
       "      <td>FANTASTIC! TRUMP'S 7 POINT PLAN To Reform Heal...</td>\n",
       "      <td>Email HEALTHCARE REFORM TO MAKE AMERICA GREAT ...</td>\n",
       "      <td>english</td>\n",
       "      <td>2016-11-01T23:59:42.266+02:00</td>\n",
       "      <td>100percentfedup.com</td>\n",
       "      <td>US</td>\n",
       "      <td>25689.0</td>\n",
       "      <td>FANTASTIC! TRUMP'S 7 POINT PLAN To Reform Heal...</td>\n",
       "      <td>0.865</td>\n",
       "      <td>http://100percentfedup.com/wp-content/uploads/...</td>\n",
       "      <td>0</td>\n",
       "      <td>0</td>\n",
       "      <td>0</td>\n",
       "      <td>0</td>\n",
       "      <td>0</td>\n",
       "      <td>bias</td>\n",
       "    </tr>\n",
       "  </tbody>\n",
       "</table>\n",
       "</div>"
      ],
      "text/plain": [
       "                                       uuid  ord_in_thread  \\\n",
       "0  6a175f46bcd24d39b3e962ad0f29936721db70db              0   \n",
       "1  2bdc29d12605ef9cf3f09f9875040a7113be5d5b              0   \n",
       "2  c70e149fdd53de5e61c29281100b9de0ed268bc3              0   \n",
       "3  7cf7c15731ac2a116dd7f629bd57ea468ed70284              0   \n",
       "4  0206b54719c7e241ffe0ad4315b808290dbe6c0f              0   \n",
       "\n",
       "                 author                      published  \\\n",
       "0     Barracuda Brigade  2016-10-26T21:41:00.000+03:00   \n",
       "1  reasoning with facts  2016-10-29T08:47:11.259+03:00   \n",
       "2     Barracuda Brigade  2016-10-31T01:41:49.479+02:00   \n",
       "3                Fed Up  2016-11-01T05:22:00.000+02:00   \n",
       "4                Fed Up  2016-11-01T21:56:00.000+02:00   \n",
       "\n",
       "                                               title  \\\n",
       "0  Muslims BUSTED: They Stole Millions In Gov’t B...   \n",
       "1  Re: Why Did Attorney General Loretta Lynch Ple...   \n",
       "2  BREAKING: Weiner Cooperating With FBI On Hilla...   \n",
       "3  PIN DROP SPEECH BY FATHER OF DAUGHTER Kidnappe...   \n",
       "4  FANTASTIC! TRUMP'S 7 POINT PLAN To Reform Heal...   \n",
       "\n",
       "                                                text language  \\\n",
       "0  Print They should pay all the back all the mon...  english   \n",
       "1  Why Did Attorney General Loretta Lynch Plead T...  english   \n",
       "2  Red State : \\nFox News Sunday reported this mo...  english   \n",
       "3  Email Kayla Mueller was a prisoner and torture...  english   \n",
       "4  Email HEALTHCARE REFORM TO MAKE AMERICA GREAT ...  english   \n",
       "\n",
       "                         crawled             site_url country  domain_rank  \\\n",
       "0  2016-10-27T01:49:27.168+03:00  100percentfedup.com      US      25689.0   \n",
       "1  2016-10-29T08:47:11.259+03:00  100percentfedup.com      US      25689.0   \n",
       "2  2016-10-31T01:41:49.479+02:00  100percentfedup.com      US      25689.0   \n",
       "3  2016-11-01T15:46:26.304+02:00  100percentfedup.com      US      25689.0   \n",
       "4  2016-11-01T23:59:42.266+02:00  100percentfedup.com      US      25689.0   \n",
       "\n",
       "                                        thread_title  spam_score  \\\n",
       "0  Muslims BUSTED: They Stole Millions In Gov’t B...       0.000   \n",
       "1  Re: Why Did Attorney General Loretta Lynch Ple...       0.000   \n",
       "2  BREAKING: Weiner Cooperating With FBI On Hilla...       0.000   \n",
       "3  PIN DROP SPEECH BY FATHER OF DAUGHTER Kidnappe...       0.068   \n",
       "4  FANTASTIC! TRUMP'S 7 POINT PLAN To Reform Heal...       0.865   \n",
       "\n",
       "                                        main_img_url  replies_count  \\\n",
       "0  http://bb4sp.com/wp-content/uploads/2016/10/Fu...              0   \n",
       "1  http://bb4sp.com/wp-content/uploads/2016/10/Fu...              0   \n",
       "2  http://bb4sp.com/wp-content/uploads/2016/10/Fu...              0   \n",
       "3  http://100percentfedup.com/wp-content/uploads/...              0   \n",
       "4  http://100percentfedup.com/wp-content/uploads/...              0   \n",
       "\n",
       "   participants_count  likes  comments  shares  type  \n",
       "0                   1      0         0       0  bias  \n",
       "1                   1      0         0       0  bias  \n",
       "2                   1      0         0       0  bias  \n",
       "3                   0      0         0       0  bias  \n",
       "4                   0      0         0       0  bias  "
      ]
     },
     "execution_count": 2,
     "metadata": {},
     "output_type": "execute_result"
    }
   ],
   "source": [
    "all_news = pandas.read_csv(\"fake.csv\")\n",
    "all_news.head(5)"
   ]
  },
  {
   "cell_type": "code",
   "execution_count": 3,
   "metadata": {},
   "outputs": [
    {
     "name": "stdout",
     "output_type": "stream",
     "text": [
      "Types and counts of stories type\n",
      "bias            443\n",
      "bs            11492\n",
      "conspiracy      430\n",
      "fake             19\n",
      "hate            246\n",
      "junksci         102\n",
      "satire          146\n",
      "state           121\n",
      "dtype: int64\n"
     ]
    }
   ],
   "source": [
    "print(\"Types and counts of stories\", all_news.groupby([\"type\"]).size())\n"
   ]
  },
  {
   "cell_type": "code",
   "execution_count": 4,
   "metadata": {},
   "outputs": [
    {
     "data": {
      "text/plain": [
       "<matplotlib.axes._subplots.AxesSubplot at 0x113499940>"
      ]
     },
     "execution_count": 4,
     "metadata": {},
     "output_type": "execute_result"
    },
    {
     "data": {
      "image/png": "[encoded data removed]",
      "text/plain": [
       "<matplotlib.figure.Figure at 0x113499e48>"
      ]
     },
     "metadata": {},
     "output_type": "display_data"
    }
   ],
   "source": [
    "all_news.groupby(['type']).size().plot(kind='barh')"
   ]
  },
  {
   "cell_type": "code",
   "execution_count": 5,
   "metadata": {
    "collapsed": true
   },
   "outputs": [],
   "source": [
    "#fake_news = all_news[all_news[\"type\"] == \"fake\"]"
   ]
  },
  {
   "cell_type": "code",
   "execution_count": 6,
   "metadata": {
    "collapsed": true
   },
   "outputs": [],
   "source": [
    "\n",
    "# Fill any blank fields\n",
    "all_news.title.fillna(\"\", inplace=True)\n",
    "all_news.text.fillna(\"\", inplace=True)"
   ]
  },
  {
   "cell_type": "markdown",
   "metadata": {},
   "source": [
    "There is some issue with the Lucem package. Therefore, I am declaring the necessary functions below."
   ]
  },
  {
   "cell_type": "code",
   "execution_count": 7,
   "metadata": {
    "collapsed": true
   },
   "outputs": [],
   "source": [
    "stop_words_basic = nltk.corpus.stopwords.words('english')\n",
    "stemmer_basic = nltk.stem.snowball.SnowballStemmer('english')\n",
    "lemmer_basic = nltk.stem.WordNetLemmatizer()\n",
    "\n",
    "\n",
    "def normalizeTokens(tokenLst,stopwordLst = None,stemmer = None,lemmer = None):\n",
    "    #We can use a generator here as we just need to iterate over it\n",
    "\n",
    "    #Lowering the case and removing non-words\n",
    "    workingIter = (w.lower() for w in tokenLst if w.isalpha())\n",
    "\n",
    "    #Now we can use the semmer, if provided\n",
    "    if stemmer is not None:\n",
    "        workingIter = (stemmer.stem(w) for w in workingIter)\n",
    "\n",
    "    #And the lemmer\n",
    "    if lemmer is not None:\n",
    "        workingIter = (lemmer.lemmatize(w) for w in workingIter)\n",
    "\n",
    "    #And remove the stopwords\n",
    "    if stopwordLst is not None:\n",
    "        workingIter = (w for w in workingIter if w not in stopwordLst)\n",
    "    #We will return a list with the stopwords removed\n",
    "    return list(workingIter)"
   ]
  },
  {
   "cell_type": "code",
   "execution_count": 8,
   "metadata": {},
   "outputs": [
    {
     "data": {
      "text/html": [
       "<div>\n",
       "<style scoped>\n",
       "    .dataframe tbody tr th:only-of-type {\n",
       "        vertical-align: middle;\n",
       "    }\n",
       "\n",
       "    .dataframe tbody tr th {\n",
       "        vertical-align: top;\n",
       "    }\n",
       "\n",
       "    .dataframe thead th {\n",
       "        text-align: right;\n",
       "    }\n",
       "</style>\n",
       "<table border=\"1\" class=\"dataframe\">\n",
       "  <thead>\n",
       "    <tr style=\"text-align: right;\">\n",
       "      <th></th>\n",
       "      <th>uuid</th>\n",
       "      <th>ord_in_thread</th>\n",
       "      <th>author</th>\n",
       "      <th>published</th>\n",
       "      <th>title</th>\n",
       "      <th>text</th>\n",
       "      <th>language</th>\n",
       "      <th>crawled</th>\n",
       "      <th>site_url</th>\n",
       "      <th>country</th>\n",
       "      <th>...</th>\n",
       "      <th>spam_score</th>\n",
       "      <th>main_img_url</th>\n",
       "      <th>replies_count</th>\n",
       "      <th>participants_count</th>\n",
       "      <th>likes</th>\n",
       "      <th>comments</th>\n",
       "      <th>shares</th>\n",
       "      <th>type</th>\n",
       "      <th>tokenized_sents</th>\n",
       "      <th>normalized_sents</th>\n",
       "    </tr>\n",
       "  </thead>\n",
       "  <tbody>\n",
       "    <tr>\n",
       "      <th>0</th>\n",
       "      <td>6a175f46bcd24d39b3e962ad0f29936721db70db</td>\n",
       "      <td>0</td>\n",
       "      <td>Barracuda Brigade</td>\n",
       "      <td>2016-10-26T21:41:00.000+03:00</td>\n",
       "      <td>Muslims BUSTED: They Stole Millions In Gov’t B...</td>\n",
       "      <td>Print They should pay all the back all the mon...</td>\n",
       "      <td>english</td>\n",
       "      <td>2016-10-27T01:49:27.168+03:00</td>\n",
       "      <td>100percentfedup.com</td>\n",
       "      <td>US</td>\n",
       "      <td>...</td>\n",
       "      <td>0.000</td>\n",
       "      <td>http://bb4sp.com/wp-content/uploads/2016/10/Fu...</td>\n",
       "      <td>0</td>\n",
       "      <td>1</td>\n",
       "      <td>0</td>\n",
       "      <td>0</td>\n",
       "      <td>0</td>\n",
       "      <td>bias</td>\n",
       "      <td>[[Print, They, should, pay, all, the, back, al...</td>\n",
       "      <td>[[print, pay, back, money, plus, interest], [e...</td>\n",
       "    </tr>\n",
       "    <tr>\n",
       "      <th>1</th>\n",
       "      <td>2bdc29d12605ef9cf3f09f9875040a7113be5d5b</td>\n",
       "      <td>0</td>\n",
       "      <td>reasoning with facts</td>\n",
       "      <td>2016-10-29T08:47:11.259+03:00</td>\n",
       "      <td>Re: Why Did Attorney General Loretta Lynch Ple...</td>\n",
       "      <td>Why Did Attorney General Loretta Lynch Plead T...</td>\n",
       "      <td>english</td>\n",
       "      <td>2016-10-29T08:47:11.259+03:00</td>\n",
       "      <td>100percentfedup.com</td>\n",
       "      <td>US</td>\n",
       "      <td>...</td>\n",
       "      <td>0.000</td>\n",
       "      <td>http://bb4sp.com/wp-content/uploads/2016/10/Fu...</td>\n",
       "      <td>0</td>\n",
       "      <td>1</td>\n",
       "      <td>0</td>\n",
       "      <td>0</td>\n",
       "      <td>0</td>\n",
       "      <td>bias</td>\n",
       "      <td>[[Why, Did, Attorney, General, Loretta, Lynch,...</td>\n",
       "      <td>[[attorney, general, loretta, lynch, plead, fi...</td>\n",
       "    </tr>\n",
       "    <tr>\n",
       "      <th>2</th>\n",
       "      <td>c70e149fdd53de5e61c29281100b9de0ed268bc3</td>\n",
       "      <td>0</td>\n",
       "      <td>Barracuda Brigade</td>\n",
       "      <td>2016-10-31T01:41:49.479+02:00</td>\n",
       "      <td>BREAKING: Weiner Cooperating With FBI On Hilla...</td>\n",
       "      <td>Red State : \\nFox News Sunday reported this mo...</td>\n",
       "      <td>english</td>\n",
       "      <td>2016-10-31T01:41:49.479+02:00</td>\n",
       "      <td>100percentfedup.com</td>\n",
       "      <td>US</td>\n",
       "      <td>...</td>\n",
       "      <td>0.000</td>\n",
       "      <td>http://bb4sp.com/wp-content/uploads/2016/10/Fu...</td>\n",
       "      <td>0</td>\n",
       "      <td>1</td>\n",
       "      <td>0</td>\n",
       "      <td>0</td>\n",
       "      <td>0</td>\n",
       "      <td>bias</td>\n",
       "      <td>[[Red, State, :, Fox, News, Sunday, reported, ...</td>\n",
       "      <td>[[red, state, fox, news, sunday, reported, mor...</td>\n",
       "    </tr>\n",
       "    <tr>\n",
       "      <th>3</th>\n",
       "      <td>7cf7c15731ac2a116dd7f629bd57ea468ed70284</td>\n",
       "      <td>0</td>\n",
       "      <td>Fed Up</td>\n",
       "      <td>2016-11-01T05:22:00.000+02:00</td>\n",
       "      <td>PIN DROP SPEECH BY FATHER OF DAUGHTER Kidnappe...</td>\n",
       "      <td>Email Kayla Mueller was a prisoner and torture...</td>\n",
       "      <td>english</td>\n",
       "      <td>2016-11-01T15:46:26.304+02:00</td>\n",
       "      <td>100percentfedup.com</td>\n",
       "      <td>US</td>\n",
       "      <td>...</td>\n",
       "      <td>0.068</td>\n",
       "      <td>http://100percentfedup.com/wp-content/uploads/...</td>\n",
       "      <td>0</td>\n",
       "      <td>0</td>\n",
       "      <td>0</td>\n",
       "      <td>0</td>\n",
       "      <td>0</td>\n",
       "      <td>bias</td>\n",
       "      <td>[[Email, Kayla, Mueller, was, a, prisoner, and...</td>\n",
       "      <td>[[email, kayla, mueller, prisoner, tortured, i...</td>\n",
       "    </tr>\n",
       "    <tr>\n",
       "      <th>4</th>\n",
       "      <td>0206b54719c7e241ffe0ad4315b808290dbe6c0f</td>\n",
       "      <td>0</td>\n",
       "      <td>Fed Up</td>\n",
       "      <td>2016-11-01T21:56:00.000+02:00</td>\n",
       "      <td>FANTASTIC! TRUMP'S 7 POINT PLAN To Reform Heal...</td>\n",
       "      <td>Email HEALTHCARE REFORM TO MAKE AMERICA GREAT ...</td>\n",
       "      <td>english</td>\n",
       "      <td>2016-11-01T23:59:42.266+02:00</td>\n",
       "      <td>100percentfedup.com</td>\n",
       "      <td>US</td>\n",
       "      <td>...</td>\n",
       "      <td>0.865</td>\n",
       "      <td>http://100percentfedup.com/wp-content/uploads/...</td>\n",
       "      <td>0</td>\n",
       "      <td>0</td>\n",
       "      <td>0</td>\n",
       "      <td>0</td>\n",
       "      <td>0</td>\n",
       "      <td>bias</td>\n",
       "      <td>[[Email, HEALTHCARE, REFORM, TO, MAKE, AMERICA...</td>\n",
       "      <td>[[email, healthcare, reform, make, america, gr...</td>\n",
       "    </tr>\n",
       "  </tbody>\n",
       "</table>\n",
       "<p>5 rows × 22 columns</p>\n",
       "</div>"
      ],
      "text/plain": [
       "                                       uuid  ord_in_thread  \\\n",
       "0  6a175f46bcd24d39b3e962ad0f29936721db70db              0   \n",
       "1  2bdc29d12605ef9cf3f09f9875040a7113be5d5b              0   \n",
       "2  c70e149fdd53de5e61c29281100b9de0ed268bc3              0   \n",
       "3  7cf7c15731ac2a116dd7f629bd57ea468ed70284              0   \n",
       "4  0206b54719c7e241ffe0ad4315b808290dbe6c0f              0   \n",
       "\n",
       "                 author                      published  \\\n",
       "0     Barracuda Brigade  2016-10-26T21:41:00.000+03:00   \n",
       "1  reasoning with facts  2016-10-29T08:47:11.259+03:00   \n",
       "2     Barracuda Brigade  2016-10-31T01:41:49.479+02:00   \n",
       "3                Fed Up  2016-11-01T05:22:00.000+02:00   \n",
       "4                Fed Up  2016-11-01T21:56:00.000+02:00   \n",
       "\n",
       "                                               title  \\\n",
       "0  Muslims BUSTED: They Stole Millions In Gov’t B...   \n",
       "1  Re: Why Did Attorney General Loretta Lynch Ple...   \n",
       "2  BREAKING: Weiner Cooperating With FBI On Hilla...   \n",
       "3  PIN DROP SPEECH BY FATHER OF DAUGHTER Kidnappe...   \n",
       "4  FANTASTIC! TRUMP'S 7 POINT PLAN To Reform Heal...   \n",
       "\n",
       "                                                text language  \\\n",
       "0  Print They should pay all the back all the mon...  english   \n",
       "1  Why Did Attorney General Loretta Lynch Plead T...  english   \n",
       "2  Red State : \\nFox News Sunday reported this mo...  english   \n",
       "3  Email Kayla Mueller was a prisoner and torture...  english   \n",
       "4  Email HEALTHCARE REFORM TO MAKE AMERICA GREAT ...  english   \n",
       "\n",
       "                         crawled             site_url country  \\\n",
       "0  2016-10-27T01:49:27.168+03:00  100percentfedup.com      US   \n",
       "1  2016-10-29T08:47:11.259+03:00  100percentfedup.com      US   \n",
       "2  2016-10-31T01:41:49.479+02:00  100percentfedup.com      US   \n",
       "3  2016-11-01T15:46:26.304+02:00  100percentfedup.com      US   \n",
       "4  2016-11-01T23:59:42.266+02:00  100percentfedup.com      US   \n",
       "\n",
       "                         ...                          spam_score  \\\n",
       "0                        ...                               0.000   \n",
       "1                        ...                               0.000   \n",
       "2                        ...                               0.000   \n",
       "3                        ...                               0.068   \n",
       "4                        ...                               0.865   \n",
       "\n",
       "                                        main_img_url  replies_count  \\\n",
       "0  http://bb4sp.com/wp-content/uploads/2016/10/Fu...              0   \n",
       "1  http://bb4sp.com/wp-content/uploads/2016/10/Fu...              0   \n",
       "2  http://bb4sp.com/wp-content/uploads/2016/10/Fu...              0   \n",
       "3  http://100percentfedup.com/wp-content/uploads/...              0   \n",
       "4  http://100percentfedup.com/wp-content/uploads/...              0   \n",
       "\n",
       "  participants_count  likes  comments  shares  type  \\\n",
       "0                  1      0         0       0  bias   \n",
       "1                  1      0         0       0  bias   \n",
       "2                  1      0         0       0  bias   \n",
       "3                  0      0         0       0  bias   \n",
       "4                  0      0         0       0  bias   \n",
       "\n",
       "                                     tokenized_sents  \\\n",
       "0  [[Print, They, should, pay, all, the, back, al...   \n",
       "1  [[Why, Did, Attorney, General, Loretta, Lynch,...   \n",
       "2  [[Red, State, :, Fox, News, Sunday, reported, ...   \n",
       "3  [[Email, Kayla, Mueller, was, a, prisoner, and...   \n",
       "4  [[Email, HEALTHCARE, REFORM, TO, MAKE, AMERICA...   \n",
       "\n",
       "                                    normalized_sents  \n",
       "0  [[print, pay, back, money, plus, interest], [e...  \n",
       "1  [[attorney, general, loretta, lynch, plead, fi...  \n",
       "2  [[red, state, fox, news, sunday, reported, mor...  \n",
       "3  [[email, kayla, mueller, prisoner, tortured, i...  \n",
       "4  [[email, healthcare, reform, make, america, gr...  \n",
       "\n",
       "[5 rows x 22 columns]"
      ]
     },
     "execution_count": 8,
     "metadata": {},
     "output_type": "execute_result"
    }
   ],
   "source": [
    "#Apply our functions, notice each row is a list of lists now\n",
    "all_news['tokenized_sents'] = all_news['text'].apply(lambda x: \n",
    "                                                               [nltk.word_tokenize(s) for s in nltk.sent_tokenize(x)])\n",
    "all_news['normalized_sents'] = all_news['tokenized_sents'].apply(lambda x: \n",
    "                                                                           [normalizeTokens(s, \n",
    "                                                                                           stopwordLst = stop_words_basic, \n",
    "                                                                                           stemmer = None) \n",
    "                                                                            for s in x])\n",
    "\n",
    "all_news[:5]\n",
    "all_news.save('sentence_tokanized_fullData')"
   ]
  },
  {
   "cell_type": "code",
   "execution_count": 14,
   "metadata": {},
   "outputs": [],
   "source": [
    "## Saving the data frame of the combined and tokenized data as a Python Pickle object\n",
    "pickle.dump(all_news,open('sentence_tokanized_fullData.p','wb'))"
   ]
  },
  {
   "cell_type": "code",
   "execution_count": 16,
   "metadata": {},
   "outputs": [],
   "source": [
    "## If needed we can load this object\n",
    "#pickle.load(open('sentence_tokanized_fullData.p','rb'))"
   ]
  },
  {
   "cell_type": "markdown",
   "metadata": {},
   "source": [
    "# Word2Vec\n",
    "\n",
    "We will be using the gensim implementation of [Word2Vec](https://radimrehurek.com/gensim/models/word2vec.html#gensim.models.word2vec.Word2Vec).\n",
    "\n",
    "To load our data, we give all the sentences to the trainer. We just need to add the words as a list of sentences"
   ]
  },
  {
   "cell_type": "code",
   "execution_count": 21,
   "metadata": {},
   "outputs": [],
   "source": [
    "all_news_W2V = gensim.models.word2vec.Word2Vec(all_news['normalized_sents'].sum())"
   ]
  },
  {
   "cell_type": "code",
   "execution_count": 24,
   "metadata": {},
   "outputs": [],
   "source": [
    "## Saving the vectorized object as a pickle object\n",
    "pickle.dump(all_news_W2V,open('sentence_tokanized_fullData_word2vec.p','wb'))\n",
    "\n",
    "## You can load the same if needed\n",
    "#pickle.load(open('sentence_tokanized_fullData_word2vec.p','rb'))"
   ]
  },
  {
   "cell_type": "markdown",
   "metadata": {},
   "source": [
    "Taking a preliminary look..."
   ]
  },
  {
   "cell_type": "code",
   "execution_count": 25,
   "metadata": {},
   "outputs": [
    {
     "name": "stdout",
     "output_type": "stream",
     "text": [
      "A 100 dimesional vector:\n"
     ]
    },
    {
     "data": {
      "text/plain": [
       "array([-0.25829127, -1.2870502 , -0.5357403 ,  0.16234419,  1.502155  ,\n",
       "        1.5082155 ,  0.8865964 , -0.37568924, -0.21430926, -0.04447124,\n",
       "       -0.8318944 , -1.5058469 ,  2.0023496 , -1.7141815 ,  0.08661301,\n",
       "        0.23598428,  0.45770836,  1.3821644 , -0.44924045, -1.9911013 ,\n",
       "       -0.21761297,  0.06932911,  0.6909907 ,  1.8963397 ,  0.02404431,\n",
       "        0.05427451, -0.75541234, -0.24088755,  1.034619  ,  0.55538946,\n",
       "        1.2784245 , -0.23631658,  0.00326188, -0.6298228 ,  0.35627916,\n",
       "        0.12175144, -0.07967851,  0.0505533 ,  0.82734036,  1.2239702 ,\n",
       "       -0.23859538, -1.334899  ,  0.84204364, -0.77563864, -0.6970034 ,\n",
       "        1.2098391 , -0.16250521, -0.367589  , -0.68329495, -0.37998915,\n",
       "        1.1472567 ,  1.5669847 ,  0.4004936 , -1.0952631 ,  0.3344684 ,\n",
       "        0.3468996 , -1.0409083 , -1.5823423 ,  0.5219799 , -1.4242065 ,\n",
       "       -0.13483441,  0.47984856,  0.8672655 ,  0.37477234,  0.77051103,\n",
       "        0.23545271,  0.19159196, -1.2158452 , -1.9751467 ,  0.5335063 ,\n",
       "       -0.26268062,  0.9216341 , -0.09431158,  0.8693252 , -0.29219306,\n",
       "        1.5855004 , -0.73275054, -0.18004008, -0.87761164,  0.5411256 ,\n",
       "       -0.9665636 ,  0.03394295, -0.12715568, -0.37057737,  1.8304348 ,\n",
       "        1.8055065 , -0.91939294, -0.21868224, -0.7381483 , -0.00574567,\n",
       "        0.6092295 , -0.4360756 , -0.118083  ,  1.2060947 , -0.19222885,\n",
       "       -0.17585927, -1.1915289 , -0.76224816,  0.28115293,  0.5616698 ],\n",
       "      dtype=float32)"
      ]
     },
     "execution_count": 25,
     "metadata": {},
     "output_type": "execute_result"
    }
   ],
   "source": [
    "print(\"A {} dimesional vector:\".format(all_news_W2V['fake'].shape[0]))\n",
    "all_news_W2V['fake']"
   ]
  },
  {
   "cell_type": "markdown",
   "metadata": {},
   "source": [
    "Then, `index2word` lets you translate from the matrix to words"
   ]
  },
  {
   "cell_type": "code",
   "execution_count": 26,
   "metadata": {},
   "outputs": [
    {
     "data": {
      "text/plain": [
       "'foreign'"
      ]
     },
     "execution_count": 26,
     "metadata": {},
     "output_type": "execute_result"
    }
   ],
   "source": [
    "all_news_W2V.wv.index2word[111]"
   ]
  },
  {
   "cell_type": "markdown",
   "metadata": {},
   "source": [
    "Now we can look at a few things that come from the word vectors. The first is to find similar vectors (cosine similarity):"
   ]
  },
  {
   "cell_type": "code",
   "execution_count": 27,
   "metadata": {},
   "outputs": [
    {
     "data": {
      "text/plain": [
       "[('hilary', 0.678429901599884),\n",
       " ('mrs', 0.6155436038970947),\n",
       " ('scandal', 0.5506254434585571),\n",
       " ('characterizations', 0.5458673238754272),\n",
       " ('scandals', 0.5120568871498108),\n",
       " ('hrc', 0.5113691687583923),\n",
       " ('hawkishness', 0.5108758211135864),\n",
       " ('lying', 0.5068767070770264),\n",
       " ('exonerate', 0.501846969127655),\n",
       " ('aides', 0.49967503547668457)]"
      ]
     },
     "execution_count": 27,
     "metadata": {},
     "output_type": "execute_result"
    }
   ],
   "source": [
    "all_news_W2V.most_similar('hillary')"
   ]
  },
  {
   "cell_type": "code",
   "execution_count": 28,
   "metadata": {
    "collapsed": true
   },
   "outputs": [],
   "source": [
    "def cos_difference(embedding,word1,word2):\n",
    "    return sklearn.metrics.pairwise.cosine_similarity(embedding[word1].reshape(1,-1),embedding[word2].reshape(1,-1))"
   ]
  },
  {
   "cell_type": "code",
   "execution_count": 29,
   "metadata": {},
   "outputs": [
    {
     "data": {
      "text/plain": [
       "array([[-0.03708942]], dtype=float32)"
      ]
     },
     "execution_count": 29,
     "metadata": {},
     "output_type": "execute_result"
    }
   ],
   "source": [
    "cos_difference(all_news_W2V, 'fake', 'president')"
   ]
  },
  {
   "cell_type": "markdown",
   "metadata": {},
   "source": [
    "We can also find which word least matches the others within a word set (cosine similarity):"
   ]
  },
  {
   "cell_type": "code",
   "execution_count": 30,
   "metadata": {},
   "outputs": [
    {
     "data": {
      "text/plain": [
       "'president'"
      ]
     },
     "execution_count": 30,
     "metadata": {},
     "output_type": "execute_result"
    }
   ],
   "source": [
    "all_news_W2V.doesnt_match(['false', 'fake', 'president', 'clinton', 'republican'])"
   ]
  },
  {
   "cell_type": "markdown",
   "metadata": {},
   "source": [
    "It is interesting to note that in the corpus of fake news analyzed, the most dissimilar word from the list presented above is `president`. The observation is interesting because given that `republican` is in the word list, it should have been intuitively the odd word out. But the fact that `clinton` or `republican` does not stand out says that Clinton may be associated more with negative narratives as shown in the result above.  "
   ]
  },
  {
   "cell_type": "markdown",
   "metadata": {},
   "source": [
    "Find which word best matches the result of a semantic *equation* (here, we seek the words whose vectors best fit the missing entry from the equation: **X + Y - Z = _**."
   ]
  },
  {
   "cell_type": "code",
   "execution_count": 31,
   "metadata": {},
   "outputs": [
    {
     "data": {
      "text/plain": [
       "[('liberal', 0.5704671740531921),\n",
       " ('leftist', 0.5484572649002075),\n",
       " ('leaning', 0.5026602149009705),\n",
       " ('libertarian', 0.5003174543380737),\n",
       " ('progressive', 0.4992406964302063),\n",
       " ('promoted', 0.49792489409446716),\n",
       " ('prominent', 0.4892479181289673),\n",
       " ('loyalist', 0.479084849357605),\n",
       " ('pundits', 0.4722115695476532),\n",
       " ('favoring', 0.47057321667671204)]"
      ]
     },
     "execution_count": 31,
     "metadata": {},
     "output_type": "execute_result"
    }
   ],
   "source": [
    "all_news_W2V.most_similar(positive=['hillary', 'conservative'], negative = ['trump'])"
   ]
  },
  {
   "cell_type": "markdown",
   "metadata": {},
   "source": [
    "The most intuitive check is as we find, Hillary is to Liberal and Progressive as Trump is to conservatives. It is interesting to note that `libertarian` also somehow features in this relation."
   ]
  },
  {
   "cell_type": "markdown",
   "metadata": {},
   "source": [
    "What happens instead we consider Trump as a centrist? What would that make Hillary?"
   ]
  },
  {
   "cell_type": "code",
   "execution_count": 32,
   "metadata": {},
   "outputs": [
    {
     "data": {
      "text/plain": [
       "[('leaning', 0.5890109539031982),\n",
       " ('warmongering', 0.581747829914093),\n",
       " ('interventionists', 0.5765830874443054),\n",
       " ('promoted', 0.5725589394569397),\n",
       " ('eligibility', 0.5716364979743958),\n",
       " ('whiners', 0.5661028623580933),\n",
       " ('loyalists', 0.5636740922927856),\n",
       " ('favoring', 0.5606131553649902),\n",
       " ('disliked', 0.5584880113601685),\n",
       " ('nominating', 0.5546388626098633)]"
      ]
     },
     "execution_count": 32,
     "metadata": {},
     "output_type": "execute_result"
    }
   ],
   "source": [
    "all_news_W2V.most_similar(positive=['hillary', 'centrist'], negative = ['trump'])"
   ]
  },
  {
   "cell_type": "markdown",
   "metadata": {},
   "source": [
    "We see that the closest relevant match is where Hillary is related to `warmongering` and `interventionist`."
   ]
  },
  {
   "cell_type": "markdown",
   "metadata": {},
   "source": [
    "Looking at their relationships to `war`. If we assume Trump is strongly related to `war`, how does Hillary fare? Also notice the most simlar words to Hillary. They all reflect the terms usually associated with "
   ]
  },
  {
   "cell_type": "code",
   "execution_count": 33,
   "metadata": {},
   "outputs": [
    {
     "data": {
      "text/plain": [
       "[('wars', 0.5822746157646179),\n",
       " ('invasion', 0.472918301820755),\n",
       " ('wmd', 0.4514364004135132),\n",
       " ('unrest', 0.43409737944602966),\n",
       " ('committed', 0.4280559718608856),\n",
       " ('disobedience', 0.41684573888778687),\n",
       " ('forfeiture', 0.41679999232292175),\n",
       " ('libya', 0.41614484786987305),\n",
       " ('población', 0.41578879952430725),\n",
       " ('ww', 0.4140954911708832)]"
      ]
     },
     "execution_count": 33,
     "metadata": {},
     "output_type": "execute_result"
    }
   ],
   "source": [
    "all_news_W2V.most_similar(positive=['hillary', 'war'], negative = ['trump'])"
   ]
  },
  {
   "cell_type": "markdown",
   "metadata": {},
   "source": [
    "Not very different. Both Hillary and Trump are therefore associated with `war`. "
   ]
  },
  {
   "cell_type": "markdown",
   "metadata": {},
   "source": [
    " But how do we argue that these are stable distances or associations?"
   ]
  },
  {
   "cell_type": "markdown",
   "metadata": {},
   "source": [
    "## Establishing Credible or Confidence Intervals\n"
   ]
  },
  {
   "cell_type": "markdown",
   "metadata": {},
   "source": [
    "### Bootstrapping approach"
   ]
  },
  {
   "cell_type": "markdown",
   "metadata": {},
   "source": [
    "We propose well-established bootstrapping and subsampling methods to nonparametrically demonstrate the stability and significance of word associations within our embedding model. These allow us to establish conservative confidence intervals to both (a) distances between words in a model and (b) projections of words onto an induced dimension (e.g., man-woman). If we assume that the texts (e.g., newspapers, books) underlying our word embedding model are observations drawn from an independent and identically distributed (i.i.d.) population of cultural observations, then bootstrapping allows us to estimate the variance of word distances and projections by measuring those properties through sampling the empirical distribution of texts with replacement (Efron and Tibshirani 1994; Efron 2003). Operationally, if we wanted to bootstrap a 90% confidence interval of a word-word distance or word-dimension projection, we would sample a corpus the same size as the original corpus, but with replacement, 20 times, estimate word embedding models on each sample. Then we take the 2nd order (2nd smallest) statistic $s_{(2)}$--either distance or projection--as our confidence interval’s lower bound, and 19th order statistic $s_{(19)}$ as its upper bound. The distance between $s_{(2)}$ and $s_{(19)}$ across 20 bootstrap samples span the 5th to the 95th percentiles of the statistic’s variance, bounding the 90th confidence interval. A 95% confidence interval would span $s_{(2)}$ and $s_{(39)}$ in word embedding distances or projections estimated on 40 bootstrap samples of a corpus, tracing the 2.5th to 97.5th percentiles. "
   ]
  },
  {
   "cell_type": "code",
   "execution_count": 35,
   "metadata": {
    "collapsed": true
   },
   "outputs": [],
   "source": [
    "## Subsetting to for analysis because the full dataset needs parallel cores for analysis.\n",
    "all_news_df=all_news[:1000]"
   ]
  },
  {
   "cell_type": "code",
   "execution_count": 36,
   "metadata": {},
   "outputs": [
    {
     "data": {
      "text/plain": [
       "[0.72071624,\n",
       " 0.76362425,\n",
       " 0.7799354,\n",
       " 0.7808314,\n",
       " 0.7911789,\n",
       " 0.7961634,\n",
       " 0.7986046,\n",
       " 0.8029777,\n",
       " 0.8046167,\n",
       " 0.8055088,\n",
       " 0.8067816,\n",
       " 0.81830126,\n",
       " 0.8230737,\n",
       " 0.8291406,\n",
       " 0.8532179,\n",
       " 0.8704285,\n",
       " 0.92040175,\n",
       " 0.92254716,\n",
       " 0.924268,\n",
       " 0.93636215]"
      ]
     },
     "execution_count": 36,
     "metadata": {},
     "output_type": "execute_result"
    }
   ],
   "source": [
    "estimatesB=[]\n",
    "for x in range(20):\n",
    "    all_news_W2VB = gensim.models.word2vec.Word2Vec(all_news_df['normalized_sents'].sample(frac=1.0, replace=True).sum())\n",
    "    try:\n",
    "        estimatesB.append(cos_difference(all_news_W2VB, 'fake', 'trump')[0,0])\n",
    "    except KeyError:\n",
    "        #Missing one of the words from the vocab\n",
    "        pass\n",
    "                                                      \n",
    "estimatesB.sort()         \n",
    "estimatesB"
   ]
  },
  {
   "cell_type": "code",
   "execution_count": 37,
   "metadata": {},
   "outputs": [
    {
     "name": "stdout",
     "output_type": "stream",
     "text": [
      "The 90% confidence interval for the cosine distance between fake and trump is:\n",
      " 0.76362425 0.924268\n"
     ]
    }
   ],
   "source": [
    "print(\"The 90% confidence interval for the cosine distance between fake and trump is:\\n\",estimatesB[1], estimatesB[-2])"
   ]
  },
  {
   "cell_type": "markdown",
   "metadata": {},
   "source": [
    "### Subsampling approach"
   ]
  },
  {
   "cell_type": "markdown",
   "metadata": {},
   "source": [
    "If the corpus is large, then we may take a subsampling approach, which randomly partitions the corpus into non-overlapping samples, then estimates the word-embedding models on these subsets and calculates confidence intervals as a function of the empirical distribution of distance or projection statistics and number of texts in the subsample (Politis and Romano 1997). Subsampling requires the same i.i.d. assumption as the bootrap (Politis and Romano 1992; Politis and Romano 1994). For 90% confidence intervals, we randomly partition the corpus into 20 subcorpora, then calculate $B^k=\\sqrt{\\tau_k}\\left(s^k-\\bar{s}\\right)$ for each $k$th sample, where $k$ is the number of texts and $s^k$ is the embedding distance or projection for the $k$th sample, and $\\bar{s}$ is the average statistic for all samples. The 90% confidence interval spans the 5th to 95th percentile variances, inscribed by $\\bar{s}-\\frac{B_{(19)}^k}{\\sqrt{\\tau}}$ and $\\bar{s}-\\frac{B_{(2)}^k}{\\sqrt{\\tau}}$, where $\\tau$ the number of texts in the total corpus and $s$ is the average statistic across all subsamples. As with bootrapping, a 95% confidence interval would require 40 subsamples; a 99% confidence would require 200 (.5th to 99.5th percentiles)."
   ]
  },
  {
   "cell_type": "code",
   "execution_count": 41,
   "metadata": {},
   "outputs": [
    {
     "name": "stdout",
     "output_type": "stream",
     "text": [
      "[0.99706715 0.99926841 0.99964011 0.99907738 0.99961674 0.99886006\n",
      " 0.99951375 0.99957728 0.97574586 0.99973077 0.99943    0.98124152\n",
      " 0.99900097 0.999336   0.9943099  0.99946558 0.99964833 0.99898297\n",
      " 0.99840683 0.9994095  0.99825525 0.99852216 0.99930936 0.99961722\n",
      " 0.9996143  0.99866259 0.99939024 0.99940127 0.99949968 0.9962346\n",
      " 0.99924356 0.99948055 0.99920642 0.99921262 0.99963671 0.99934912\n",
      " 0.99888134 0.99850053]\n",
      "[294. 372. 332. 311. 344. 317. 356. 317. 312. 321. 329. 336. 332. 341.\n",
      " 314. 350. 337. 335. 336. 307. 341. 338. 328. 315. 337. 368. 311. 314.\n",
      " 312. 319. 315. 318. 360. 315. 332. 293. 291. 281.]\n"
     ]
    }
   ],
   "source": [
    "n_samples = 40\n",
    "sample_indices = np.random.randint(0,n_samples,(len(all_news),))\n",
    "\n",
    "s_k =np.array([])\n",
    "tau_k=np.array([])\n",
    "\n",
    "for i in range(n_samples):\n",
    "    sample_w2v = gensim.models.word2vec.Word2Vec(all_news[sample_indices == i]['normalized_sents'].sum())\n",
    "    try:\n",
    "        #Need to use words present in most samples\n",
    "        s_k = np.append(s_k, cos_difference(sample_w2v, 'fake', 'trump')[0,0])\n",
    "    except KeyError:\n",
    "        pass\n",
    "    else:\n",
    "        tau_k = np.append(tau_k, len(all_news[sample_indices == i]))\n",
    "\n",
    "print(s_k)\n",
    "print(tau_k)\n",
    "\n",
    "tau = tau_k.sum()\n",
    "s = s_k.mean()\n",
    "B_k = np.sqrt(tau_k) * s_k-s_k.mean()"
   ]
  },
  {
   "cell_type": "code",
   "execution_count": 42,
   "metadata": {},
   "outputs": [
    {
     "name": "stdout",
     "output_type": "stream",
     "text": [
      "The 90% confidence interval for the cosine distance between Trump and Fake is:\n",
      " 0.8537077755528348 0.8336345020829455\n"
     ]
    }
   ],
   "source": [
    "print(\"The 90% confidence interval for the cosine distance between Trump and Fake is:\\n\",s-B_k[-2]/np.sqrt(tau), s-B_k[1]/np.sqrt(tau))"
   ]
  },
  {
   "cell_type": "markdown",
   "metadata": {},
   "source": [
    "We can also save the vectors for later use:"
   ]
  },
  {
   "cell_type": "code",
   "execution_count": 43,
   "metadata": {
    "collapsed": true
   },
   "outputs": [],
   "source": [
    "pickle.dump(all_news_W2V,open('sentence_tokanized_fullData_word2vec_bootstrap.p','wb'))\n",
    "#pickle.load(open('sentence_tokanized_fullData_word2vec_bootstrap.p','rb')"
   ]
  },
  {
   "cell_type": "markdown",
   "metadata": {},
   "source": [
    "## Visualize"
   ]
  },
  {
   "cell_type": "markdown",
   "metadata": {},
   "source": [
    "We can also use dimension reduction to visulize the vectors. We will start by selecting a subset we want to plot. Let's look at the top words from the set:"
   ]
  },
  {
   "cell_type": "code",
   "execution_count": 44,
   "metadata": {
    "collapsed": true
   },
   "outputs": [],
   "source": [
    "numWords = 150\n",
    "targetWords = all_news_W2V.wv.index2word[:numWords]"
   ]
  },
  {
   "cell_type": "markdown",
   "metadata": {},
   "source": [
    "We can then extract their vectors and create our own smaller matrix that preserved the distances from the original:"
   ]
  },
  {
   "cell_type": "code",
   "execution_count": 45,
   "metadata": {},
   "outputs": [
    {
     "data": {
      "text/plain": [
       "array([[ 0.15055794, -2.476882  , -3.9428072 , ..., -0.20665768,\n",
       "        -1.9691129 , -1.2357075 ],\n",
       "       [ 2.154239  ,  0.06800149, -1.2912873 , ..., -3.1244266 ,\n",
       "        -1.5715054 ,  1.3103681 ],\n",
       "       [-0.7189401 , -2.018778  , -1.9624524 , ..., -1.336571  ,\n",
       "        -0.5741287 ,  0.43786767],\n",
       "       ...,\n",
       "       [-0.7015661 ,  2.075632  ,  0.07930896, ..., -0.8872818 ,\n",
       "         1.0712512 , -0.31556526],\n",
       "       [-2.1075392 ,  0.19220808, -0.07235956, ..., -0.53860855,\n",
       "         0.21114203, -0.17725037],\n",
       "       [ 0.6291522 , -0.31352875,  0.91605484, ..., -1.4305693 ,\n",
       "        -1.4056909 ,  0.47306126]], dtype=float32)"
      ]
     },
     "execution_count": 45,
     "metadata": {},
     "output_type": "execute_result"
    }
   ],
   "source": [
    "wordsSubMatrix = []\n",
    "for word in targetWords:\n",
    "    wordsSubMatrix.append(all_news_W2V[word])\n",
    "wordsSubMatrix = np.array(wordsSubMatrix)\n",
    "wordsSubMatrix"
   ]
  },
  {
   "cell_type": "markdown",
   "metadata": {},
   "source": [
    "Then we can use PCA to reduce the dimesions (e.g., to 50), and T-SNE to project them down to the two we will visualize. We note that this is nondeterministic process, and so you can repeat and achieve alternative projectsions/visualizations of the words:"
   ]
  },
  {
   "cell_type": "code",
   "execution_count": 46,
   "metadata": {
    "collapsed": true
   },
   "outputs": [],
   "source": [
    "pcaWords = sklearn.decomposition.PCA(n_components = 50).fit(wordsSubMatrix)\n",
    "reducedPCA_data = pcaWords.transform(wordsSubMatrix)\n",
    "#T-SNE is theoretically better, but you should experiment\n",
    "tsneWords = sklearn.manifold.TSNE(n_components = 2, early_exaggeration = 25).fit_transform(reducedPCA_data)"
   ]
  },
  {
   "cell_type": "markdown",
   "metadata": {},
   "source": [
    "We now can plot the points"
   ]
  },
  {
   "cell_type": "code",
   "execution_count": 47,
   "metadata": {},
   "outputs": [
    {
     "data": {
      "image/png": "[encoded data removed]",
      "text/plain": [
       "<matplotlib.figure.Figure at 0x1505ed1d0>"
      ]
     },
     "metadata": {},
     "output_type": "display_data"
    }
   ],
   "source": [
    "fig = plt.figure(figsize = (35,40))\n",
    "ax = fig.add_subplot(111)\n",
    "ax.set_frame_on(False)\n",
    "plt.scatter(tsneWords[:, 0], tsneWords[:, 1], alpha = 0)#Making the points invisible \n",
    "for i, word in enumerate(targetWords):\n",
    "    ax.annotate(word, \n",
    "                (tsneWords[:, 0][i],tsneWords[:, 1][i]), \n",
    "                size =  25 * (numWords - i) / numWords, \n",
    "                alpha = .8 * (numWords - i) / numWords + .2)\n",
    "plt.xticks(())\n",
    "plt.yticks(())\n",
    "plt.show()"
   ]
  },
  {
   "cell_type": "markdown",
   "metadata": {},
   "source": [
    "We see that `Trump`, `Hillary` and `Clinton` are close to each other. This is not surprising since most of the fake news content pitched the conservative Trump against warmongering and interventionist Hillary. "
   ]
  },
  {
   "cell_type": "markdown",
   "metadata": {},
   "source": [
    "## Doc2Vec and related heatmap analysis"
   ]
  },
  {
   "cell_type": "markdown",
   "metadata": {},
   "source": [
    "Construct cells immediately below this that **build a doc2vec model** with your corpus. **Interrogate** document and word relationships in the resulting space. **Construct a heatmap** that plots the distances between a subset of your documents against each other, and against a set of informative words. **Find distances between every document in your corpus and a word or query of interest**. What do these doc-doc proximities reveal about your corpus? What do these word-doc proximities highlight? Demonstrate and document one reasonable way to select a defensible subset of query-relevant documents for subsequent analysis."
   ]
  },
  {
   "cell_type": "markdown",
   "metadata": {},
   "source": [
    "## Doc2Vec"
   ]
  },
  {
   "cell_type": "code",
   "execution_count": 48,
   "metadata": {},
   "outputs": [],
   "source": [
    "apsDF = pandas.read_csv('fake.csv', index_col = 0,parse_dates=True)"
   ]
  },
  {
   "cell_type": "markdown",
   "metadata": {},
   "source": [
    "We will load these as documents into Word2Vec, but first we need to normalize and pick some tags"
   ]
  },
  {
   "cell_type": "code",
   "execution_count": 49,
   "metadata": {
    "collapsed": true
   },
   "outputs": [],
   "source": [
    "keywords=['corruption','scandal','war','trump','hillary','republicans','liberal','military','russia','money','washington']"
   ]
  },
  {
   "cell_type": "code",
   "execution_count": 51,
   "metadata": {
    "collapsed": true
   },
   "outputs": [],
   "source": [
    "## Converting the data type of 'text' column to string for downstream analysis.\n",
    "apsDF['text'] = apsDF['text'].astype(str)"
   ]
  },
  {
   "cell_type": "code",
   "execution_count": 52,
   "metadata": {
    "scrolled": true
   },
   "outputs": [
    {
     "data": {
      "text/html": [
       "<div>\n",
       "<style scoped>\n",
       "    .dataframe tbody tr th:only-of-type {\n",
       "        vertical-align: middle;\n",
       "    }\n",
       "\n",
       "    .dataframe tbody tr th {\n",
       "        vertical-align: top;\n",
       "    }\n",
       "\n",
       "    .dataframe thead th {\n",
       "        text-align: right;\n",
       "    }\n",
       "</style>\n",
       "<table border=\"1\" class=\"dataframe\">\n",
       "  <thead>\n",
       "    <tr style=\"text-align: right;\">\n",
       "      <th></th>\n",
       "      <th>ord_in_thread</th>\n",
       "      <th>author</th>\n",
       "      <th>published</th>\n",
       "      <th>title</th>\n",
       "      <th>text</th>\n",
       "      <th>language</th>\n",
       "      <th>crawled</th>\n",
       "      <th>site_url</th>\n",
       "      <th>country</th>\n",
       "      <th>domain_rank</th>\n",
       "      <th>thread_title</th>\n",
       "      <th>spam_score</th>\n",
       "      <th>main_img_url</th>\n",
       "      <th>replies_count</th>\n",
       "      <th>participants_count</th>\n",
       "      <th>likes</th>\n",
       "      <th>comments</th>\n",
       "      <th>shares</th>\n",
       "      <th>type</th>\n",
       "      <th>uuid</th>\n",
       "    </tr>\n",
       "    <tr>\n",
       "      <th>uuid</th>\n",
       "      <th></th>\n",
       "      <th></th>\n",
       "      <th></th>\n",
       "      <th></th>\n",
       "      <th></th>\n",
       "      <th></th>\n",
       "      <th></th>\n",
       "      <th></th>\n",
       "      <th></th>\n",
       "      <th></th>\n",
       "      <th></th>\n",
       "      <th></th>\n",
       "      <th></th>\n",
       "      <th></th>\n",
       "      <th></th>\n",
       "      <th></th>\n",
       "      <th></th>\n",
       "      <th></th>\n",
       "      <th></th>\n",
       "      <th></th>\n",
       "    </tr>\n",
       "  </thead>\n",
       "  <tbody>\n",
       "    <tr>\n",
       "      <th>6a175f46bcd24d39b3e962ad0f29936721db70db</th>\n",
       "      <td>0</td>\n",
       "      <td>Barracuda Brigade</td>\n",
       "      <td>2016-10-26T21:41:00.000+03:00</td>\n",
       "      <td>Muslims BUSTED: They Stole Millions In Gov’t B...</td>\n",
       "      <td>Print They should pay all the back all the mon...</td>\n",
       "      <td>english</td>\n",
       "      <td>2016-10-27T01:49:27.168+03:00</td>\n",
       "      <td>100percentfedup.com</td>\n",
       "      <td>US</td>\n",
       "      <td>25689.0</td>\n",
       "      <td>Muslims BUSTED: They Stole Millions In Gov’t B...</td>\n",
       "      <td>0.0</td>\n",
       "      <td>http://bb4sp.com/wp-content/uploads/2016/10/Fu...</td>\n",
       "      <td>0</td>\n",
       "      <td>1</td>\n",
       "      <td>0</td>\n",
       "      <td>0</td>\n",
       "      <td>0</td>\n",
       "      <td>bias</td>\n",
       "      <td>6a175f46bcd24d39b3e962ad0f29936721db70db</td>\n",
       "    </tr>\n",
       "    <tr>\n",
       "      <th>2bdc29d12605ef9cf3f09f9875040a7113be5d5b</th>\n",
       "      <td>0</td>\n",
       "      <td>reasoning with facts</td>\n",
       "      <td>2016-10-29T08:47:11.259+03:00</td>\n",
       "      <td>Re: Why Did Attorney General Loretta Lynch Ple...</td>\n",
       "      <td>Why Did Attorney General Loretta Lynch Plead T...</td>\n",
       "      <td>english</td>\n",
       "      <td>2016-10-29T08:47:11.259+03:00</td>\n",
       "      <td>100percentfedup.com</td>\n",
       "      <td>US</td>\n",
       "      <td>25689.0</td>\n",
       "      <td>Re: Why Did Attorney General Loretta Lynch Ple...</td>\n",
       "      <td>0.0</td>\n",
       "      <td>http://bb4sp.com/wp-content/uploads/2016/10/Fu...</td>\n",
       "      <td>0</td>\n",
       "      <td>1</td>\n",
       "      <td>0</td>\n",
       "      <td>0</td>\n",
       "      <td>0</td>\n",
       "      <td>bias</td>\n",
       "      <td>2bdc29d12605ef9cf3f09f9875040a7113be5d5b</td>\n",
       "    </tr>\n",
       "    <tr>\n",
       "      <th>c70e149fdd53de5e61c29281100b9de0ed268bc3</th>\n",
       "      <td>0</td>\n",
       "      <td>Barracuda Brigade</td>\n",
       "      <td>2016-10-31T01:41:49.479+02:00</td>\n",
       "      <td>BREAKING: Weiner Cooperating With FBI On Hilla...</td>\n",
       "      <td>Red State : \\nFox News Sunday reported this mo...</td>\n",
       "      <td>english</td>\n",
       "      <td>2016-10-31T01:41:49.479+02:00</td>\n",
       "      <td>100percentfedup.com</td>\n",
       "      <td>US</td>\n",
       "      <td>25689.0</td>\n",
       "      <td>BREAKING: Weiner Cooperating With FBI On Hilla...</td>\n",
       "      <td>0.0</td>\n",
       "      <td>http://bb4sp.com/wp-content/uploads/2016/10/Fu...</td>\n",
       "      <td>0</td>\n",
       "      <td>1</td>\n",
       "      <td>0</td>\n",
       "      <td>0</td>\n",
       "      <td>0</td>\n",
       "      <td>bias</td>\n",
       "      <td>c70e149fdd53de5e61c29281100b9de0ed268bc3</td>\n",
       "    </tr>\n",
       "  </tbody>\n",
       "</table>\n",
       "</div>"
      ],
      "text/plain": [
       "                                          ord_in_thread                author  \\\n",
       "uuid                                                                            \n",
       "6a175f46bcd24d39b3e962ad0f29936721db70db              0     Barracuda Brigade   \n",
       "2bdc29d12605ef9cf3f09f9875040a7113be5d5b              0  reasoning with facts   \n",
       "c70e149fdd53de5e61c29281100b9de0ed268bc3              0     Barracuda Brigade   \n",
       "\n",
       "                                                              published  \\\n",
       "uuid                                                                      \n",
       "6a175f46bcd24d39b3e962ad0f29936721db70db  2016-10-26T21:41:00.000+03:00   \n",
       "2bdc29d12605ef9cf3f09f9875040a7113be5d5b  2016-10-29T08:47:11.259+03:00   \n",
       "c70e149fdd53de5e61c29281100b9de0ed268bc3  2016-10-31T01:41:49.479+02:00   \n",
       "\n",
       "                                                                                      title  \\\n",
       "uuid                                                                                          \n",
       "6a175f46bcd24d39b3e962ad0f29936721db70db  Muslims BUSTED: They Stole Millions In Gov’t B...   \n",
       "2bdc29d12605ef9cf3f09f9875040a7113be5d5b  Re: Why Did Attorney General Loretta Lynch Ple...   \n",
       "c70e149fdd53de5e61c29281100b9de0ed268bc3  BREAKING: Weiner Cooperating With FBI On Hilla...   \n",
       "\n",
       "                                                                                       text  \\\n",
       "uuid                                                                                          \n",
       "6a175f46bcd24d39b3e962ad0f29936721db70db  Print They should pay all the back all the mon...   \n",
       "2bdc29d12605ef9cf3f09f9875040a7113be5d5b  Why Did Attorney General Loretta Lynch Plead T...   \n",
       "c70e149fdd53de5e61c29281100b9de0ed268bc3  Red State : \\nFox News Sunday reported this mo...   \n",
       "\n",
       "                                         language  \\\n",
       "uuid                                                \n",
       "6a175f46bcd24d39b3e962ad0f29936721db70db  english   \n",
       "2bdc29d12605ef9cf3f09f9875040a7113be5d5b  english   \n",
       "c70e149fdd53de5e61c29281100b9de0ed268bc3  english   \n",
       "\n",
       "                                                                crawled  \\\n",
       "uuid                                                                      \n",
       "6a175f46bcd24d39b3e962ad0f29936721db70db  2016-10-27T01:49:27.168+03:00   \n",
       "2bdc29d12605ef9cf3f09f9875040a7113be5d5b  2016-10-29T08:47:11.259+03:00   \n",
       "c70e149fdd53de5e61c29281100b9de0ed268bc3  2016-10-31T01:41:49.479+02:00   \n",
       "\n",
       "                                                     site_url country  \\\n",
       "uuid                                                                    \n",
       "6a175f46bcd24d39b3e962ad0f29936721db70db  100percentfedup.com      US   \n",
       "2bdc29d12605ef9cf3f09f9875040a7113be5d5b  100percentfedup.com      US   \n",
       "c70e149fdd53de5e61c29281100b9de0ed268bc3  100percentfedup.com      US   \n",
       "\n",
       "                                          domain_rank  \\\n",
       "uuid                                                    \n",
       "6a175f46bcd24d39b3e962ad0f29936721db70db      25689.0   \n",
       "2bdc29d12605ef9cf3f09f9875040a7113be5d5b      25689.0   \n",
       "c70e149fdd53de5e61c29281100b9de0ed268bc3      25689.0   \n",
       "\n",
       "                                                                               thread_title  \\\n",
       "uuid                                                                                          \n",
       "6a175f46bcd24d39b3e962ad0f29936721db70db  Muslims BUSTED: They Stole Millions In Gov’t B...   \n",
       "2bdc29d12605ef9cf3f09f9875040a7113be5d5b  Re: Why Did Attorney General Loretta Lynch Ple...   \n",
       "c70e149fdd53de5e61c29281100b9de0ed268bc3  BREAKING: Weiner Cooperating With FBI On Hilla...   \n",
       "\n",
       "                                          spam_score  \\\n",
       "uuid                                                   \n",
       "6a175f46bcd24d39b3e962ad0f29936721db70db         0.0   \n",
       "2bdc29d12605ef9cf3f09f9875040a7113be5d5b         0.0   \n",
       "c70e149fdd53de5e61c29281100b9de0ed268bc3         0.0   \n",
       "\n",
       "                                                                               main_img_url  \\\n",
       "uuid                                                                                          \n",
       "6a175f46bcd24d39b3e962ad0f29936721db70db  http://bb4sp.com/wp-content/uploads/2016/10/Fu...   \n",
       "2bdc29d12605ef9cf3f09f9875040a7113be5d5b  http://bb4sp.com/wp-content/uploads/2016/10/Fu...   \n",
       "c70e149fdd53de5e61c29281100b9de0ed268bc3  http://bb4sp.com/wp-content/uploads/2016/10/Fu...   \n",
       "\n",
       "                                          replies_count  participants_count  \\\n",
       "uuid                                                                          \n",
       "6a175f46bcd24d39b3e962ad0f29936721db70db              0                   1   \n",
       "2bdc29d12605ef9cf3f09f9875040a7113be5d5b              0                   1   \n",
       "c70e149fdd53de5e61c29281100b9de0ed268bc3              0                   1   \n",
       "\n",
       "                                          likes  comments  shares  type  \\\n",
       "uuid                                                                      \n",
       "6a175f46bcd24d39b3e962ad0f29936721db70db      0         0       0  bias   \n",
       "2bdc29d12605ef9cf3f09f9875040a7113be5d5b      0         0       0  bias   \n",
       "c70e149fdd53de5e61c29281100b9de0ed268bc3      0         0       0  bias   \n",
       "\n",
       "                                                                              uuid  \n",
       "uuid                                                                                \n",
       "6a175f46bcd24d39b3e962ad0f29936721db70db  6a175f46bcd24d39b3e962ad0f29936721db70db  \n",
       "2bdc29d12605ef9cf3f09f9875040a7113be5d5b  2bdc29d12605ef9cf3f09f9875040a7113be5d5b  \n",
       "c70e149fdd53de5e61c29281100b9de0ed268bc3  c70e149fdd53de5e61c29281100b9de0ed268bc3  "
      ]
     },
     "execution_count": 52,
     "metadata": {},
     "output_type": "execute_result"
    }
   ],
   "source": [
    "apsDF['uuid'] = apsDF.index ##document ids are stored as index in the original data frame\n",
    "apsDF[:3]"
   ]
  },
  {
   "cell_type": "code",
   "execution_count": 53,
   "metadata": {
    "collapsed": true
   },
   "outputs": [],
   "source": [
    "apsDF['tokenized_words'] = apsDF['text'].apply(lambda x: nltk.word_tokenize(x))\n",
    "apsDF['normalized_words'] = apsDF['tokenized_words'].apply(lambda x: normalizeTokens(x, stopwordLst = stop_words_basic, stemmer = None))"
   ]
  },
  {
   "cell_type": "code",
   "execution_count": 54,
   "metadata": {
    "collapsed": true
   },
   "outputs": [],
   "source": [
    "## Converting the data type of date information to Python datetime object.\n",
    "apsDF['published'] = pandas.to_datetime(apsDF['published'])"
   ]
  },
  {
   "cell_type": "code",
   "execution_count": 55,
   "metadata": {
    "collapsed": true
   },
   "outputs": [],
   "source": [
    "## After the previous step, now we can extract the year of publishing and create a new column for 'year'\n",
    "apsDF['year'] = apsDF['published'].dt.year"
   ]
  },
  {
   "cell_type": "code",
   "execution_count": 56,
   "metadata": {
    "collapsed": true
   },
   "outputs": [],
   "source": [
    "## Saving the data object as a pickle object\n",
    "pickle.dump(apsDF,open('word_tokenized_fullData.p','wb'))"
   ]
  },
  {
   "cell_type": "code",
   "execution_count": 57,
   "metadata": {
    "collapsed": true
   },
   "outputs": [],
   "source": [
    "## To load the object saved above\n",
    "#pickle.load(open('word_tokenized_fullData.p','rb'))"
   ]
  },
  {
   "cell_type": "code",
   "execution_count": 58,
   "metadata": {
    "collapsed": true
   },
   "outputs": [],
   "source": [
    "taggedDocs = []\n",
    "for index, row in apsDF.iterrows():\n",
    "    #Just doing a simple keyword assignment\n",
    "    docKeywords = [s for s in keywords if s in row['normalized_words']]\n",
    "    docKeywords.append(row['year'])\n",
    "    docKeywords.append(row['uuid']) #This lets us extract individual documnets since doi's are unique\n",
    "    taggedDocs.append(gensim.models.doc2vec.LabeledSentence(words = row['normalized_words'], tags = docKeywords))\n",
    "apsDF['TaggedAbstracts'] = taggedDocs"
   ]
  },
  {
   "cell_type": "markdown",
   "metadata": {},
   "source": [
    "Now we can train a Doc2Vec model:"
   ]
  },
  {
   "cell_type": "code",
   "execution_count": 59,
   "metadata": {
    "collapsed": true
   },
   "outputs": [],
   "source": [
    "apsD2V = gensim.models.doc2vec.Doc2Vec(apsDF['TaggedAbstracts'], size = 100) #Limiting to 100 dimensions"
   ]
  },
  {
   "cell_type": "code",
   "execution_count": 60,
   "metadata": {
    "collapsed": true
   },
   "outputs": [],
   "source": [
    "## Saving the data object as pickle object\n",
    "pickle.dump(apsD2V,open('docVector_fullData.p','wb'))"
   ]
  },
  {
   "cell_type": "code",
   "execution_count": 61,
   "metadata": {
    "collapsed": true
   },
   "outputs": [],
   "source": [
    "## To load the pickle object saved above\n",
    "#pickle.dump(open('docVector_fullData.p','rb'))"
   ]
  },
  {
   "cell_type": "markdown",
   "metadata": {},
   "source": [
    "We can get vectors for the tags/documents, just as we did with words. Documents are actually the centroids (high dimensional average points) of their words. "
   ]
  },
  {
   "cell_type": "code",
   "execution_count": 62,
   "metadata": {},
   "outputs": [
    {
     "data": {
      "text/plain": [
       "array([-1.4968078e-03,  4.5984089e-03,  2.7201832e-03, -3.2345264e-03,\n",
       "        2.8445600e-03, -3.1403441e-03,  3.9990498e-03, -2.6602219e-04,\n",
       "       -1.3406969e-03, -4.3492243e-03,  1.9193634e-03,  9.1145048e-04,\n",
       "        3.0491846e-03,  2.0188480e-03, -3.5346076e-03, -3.6347162e-03,\n",
       "       -2.2706436e-03, -3.1085771e-03,  4.3018064e-03,  2.2075341e-04,\n",
       "        1.1305996e-03, -1.4401911e-03,  4.4099027e-03,  2.5911410e-03,\n",
       "        2.0836263e-03, -1.2114587e-03,  4.2075203e-03, -3.4670199e-03,\n",
       "        4.6457169e-03,  4.5463312e-03,  2.5189416e-03, -4.5159506e-03,\n",
       "       -2.8575254e-03,  3.5175316e-03,  4.3655159e-03,  7.3949143e-04,\n",
       "        2.4653214e-03,  8.1206829e-04, -3.6091593e-03,  2.2905492e-03,\n",
       "        4.7248439e-03,  1.6444540e-03,  3.7675453e-03,  1.3443602e-03,\n",
       "       -4.5576096e-03, -3.5334078e-03,  2.1716019e-03, -9.5624028e-04,\n",
       "       -1.6678642e-03,  3.3525331e-03,  2.8760433e-03,  4.4285688e-03,\n",
       "        1.0868136e-03, -2.7178305e-03,  4.8362422e-03,  2.4103578e-03,\n",
       "        1.8238659e-03,  1.1888589e-03,  4.2449832e-03,  8.6115283e-04,\n",
       "        1.5303325e-03, -2.8531374e-03, -1.3453068e-03,  2.5578947e-03,\n",
       "       -8.9278293e-04, -1.7108773e-03, -3.0249879e-03,  3.3557001e-03,\n",
       "       -3.4475203e-03, -2.9722790e-03, -6.8526031e-05,  3.4147908e-03,\n",
       "        3.1764593e-03,  1.7913862e-03, -3.9060994e-03, -3.1312953e-03,\n",
       "        5.4960250e-04, -4.2158199e-04, -2.4216478e-03, -3.1448153e-04,\n",
       "        4.9219676e-03,  4.4087428e-03, -6.8511808e-04,  3.5866727e-03,\n",
       "       -3.0569006e-03, -3.1619063e-03, -2.4790748e-03, -1.8284039e-03,\n",
       "        1.0552602e-03, -1.6250763e-03,  4.6148757e-03, -7.6118321e-04,\n",
       "       -1.0416982e-03,  1.9412080e-03,  1.7868864e-03,  4.8441105e-03,\n",
       "        1.8558505e-03,  4.7000125e-03, -4.8465673e-03,  3.1826980e-03],\n",
       "      dtype=float32)"
      ]
     },
     "execution_count": 62,
     "metadata": {},
     "output_type": "execute_result"
    }
   ],
   "source": [
    "apsD2V.docvecs[1952]"
   ]
  },
  {
   "cell_type": "markdown",
   "metadata": {},
   "source": [
    "We can still use the ``most_similar`` command to perform simple semantic equations:"
   ]
  },
  {
   "cell_type": "code",
   "execution_count": 65,
   "metadata": {},
   "outputs": [
    {
     "data": {
      "text/plain": [
       "[('tusk', 0.5480690598487854),\n",
       " ('racist', 0.49466004967689514),\n",
       " ('sexists', 0.48960432410240173),\n",
       " ('irredeemable', 0.47363999485969543),\n",
       " ('undersigned', 0.4722849726676941)]"
      ]
     },
     "execution_count": 65,
     "metadata": {},
     "output_type": "execute_result"
    }
   ],
   "source": [
    "apsD2V.most_similar(positive = ['hillary','trump'], negative = ['scandal'], topn = 5)"
   ]
  },
  {
   "cell_type": "markdown",
   "metadata": {},
   "source": [
    "We observe that **hillary**+**trump**-**scandal** equals `racist`. This is broadly in line with the larger understanding of the two personalities. If `hillary` is associated with `scandal` then `trump` is associated with being `racist` and `sexist`. "
   ]
  },
  {
   "cell_type": "code",
   "execution_count": 66,
   "metadata": {},
   "outputs": [
    {
     "data": {
      "text/plain": [
       "[('fdef8bba74e059a710927a8152a23d4daac095dc', 0.6607590913772583),\n",
       " ('3f634b42846ca94488af5416f50ca3bea13797e0', 0.6591946482658386),\n",
       " ('059f9f913ae6c7f27db8c532cd4884cc21b6aff4', 0.6377910375595093),\n",
       " ('74451b836723cf4535f7508df2abf2575061a844', 0.6279181838035583),\n",
       " ('bcc05a50273009b83d5ff47b9b4f9680777eee32', 0.6273650527000427)]"
      ]
     },
     "execution_count": 66,
     "metadata": {},
     "output_type": "execute_result"
    }
   ],
   "source": [
    "apsD2V.docvecs.most_similar([ apsD2V['fake'] ], topn=5 )"
   ]
  },
  {
   "cell_type": "markdown",
   "metadata": {},
   "source": [
    "Now let's plot some words and documents against one another with a heatmap:"
   ]
  },
  {
   "cell_type": "code",
   "execution_count": 67,
   "metadata": {
    "collapsed": true
   },
   "outputs": [],
   "source": [
    "heatmapMatrix = []\n",
    "for tagOuter in keywords:\n",
    "    column = []\n",
    "    tagVec = apsD2V.docvecs[tagOuter].reshape(1, -1)\n",
    "    for tagInner in keywords:\n",
    "        column.append(sklearn.metrics.pairwise.cosine_similarity(tagVec, apsD2V.docvecs[tagInner].reshape(1, -1))[0][0])\n",
    "    heatmapMatrix.append(column)\n",
    "heatmapMatrix = np.array(heatmapMatrix)"
   ]
  },
  {
   "cell_type": "code",
   "execution_count": 68,
   "metadata": {},
   "outputs": [
    {
     "data": {
      "image/png": "[encoded data removed]",
      "text/plain": [
       "<matplotlib.figure.Figure at 0x1cbcb09e8>"
      ]
     },
     "metadata": {},
     "output_type": "display_data"
    }
   ],
   "source": [
    "fig, ax = plt.subplots()\n",
    "hmap = ax.pcolor(heatmapMatrix, cmap='terrain')\n",
    "cbar = plt.colorbar(hmap)\n",
    "\n",
    "cbar.set_label('cosine similarity', rotation=270)\n",
    "a = ax.set_xticks(np.arange(heatmapMatrix.shape[1]) + 0.5, minor=False)\n",
    "a = ax.set_yticks(np.arange(heatmapMatrix.shape[0]) + 0.5, minor=False)\n",
    "\n",
    "a = ax.set_xticklabels(keywords, minor=False, rotation=270)\n",
    "a = ax.set_yticklabels(keywords, minor=False)"
   ]
  },
  {
   "cell_type": "markdown",
   "metadata": {},
   "source": [
    "Now let's look at a heatmap of similarities between the first ten documents in the corpus:"
   ]
  },
  {
   "cell_type": "code",
   "execution_count": 69,
   "metadata": {
    "collapsed": true
   },
   "outputs": [],
   "source": [
    "targetDocs = apsDF['uuid'][:10]\n",
    "\n",
    "heatmapMatrixD = []\n",
    "\n",
    "for tagOuter in targetDocs:\n",
    "    column = []\n",
    "    tagVec = apsD2V.docvecs[tagOuter].reshape(1, -1)\n",
    "    for tagInner in targetDocs:\n",
    "        column.append(sklearn.metrics.pairwise.cosine_similarity(tagVec, apsD2V.docvecs[tagInner].reshape(1, -1))[0][0])\n",
    "    heatmapMatrixD.append(column)\n",
    "heatmapMatrixD = np.array(heatmapMatrixD)"
   ]
  },
  {
   "cell_type": "code",
   "execution_count": 70,
   "metadata": {},
   "outputs": [
    {
     "data": {
      "image/png": "[encoded data removed]",
      "text/plain": [
       "<matplotlib.figure.Figure at 0x1c55ab588>"
      ]
     },
     "metadata": {},
     "output_type": "display_data"
    }
   ],
   "source": [
    "fig, ax = plt.subplots()\n",
    "hmap = ax.pcolor(heatmapMatrixD, cmap='terrain')\n",
    "cbar = plt.colorbar(hmap)\n",
    "\n",
    "cbar.set_label('cosine similarity', rotation=270)\n",
    "a = ax.set_xticks(np.arange(heatmapMatrixD.shape[1]) + 0.5, minor=False)\n",
    "a = ax.set_yticks(np.arange(heatmapMatrixD.shape[0]) + 0.5, minor=False)\n",
    "\n",
    "a = ax.set_xticklabels(targetDocs, minor=False, rotation=270)\n",
    "a = ax.set_yticklabels(targetDocs, minor=False)"
   ]
  },
  {
   "cell_type": "markdown",
   "metadata": {},
   "source": [
    "Now let's look at a heatmap of similarities between the first ten documents and our keywords:"
   ]
  },
  {
   "cell_type": "code",
   "execution_count": 71,
   "metadata": {
    "collapsed": true
   },
   "outputs": [],
   "source": [
    "heatmapMatrixC = []\n",
    "\n",
    "for tagOuter in targetDocs:\n",
    "    column = []\n",
    "    tagVec = apsD2V.docvecs[tagOuter].reshape(1, -1)\n",
    "    for tagInner in keywords:\n",
    "        column.append(sklearn.metrics.pairwise.cosine_similarity(tagVec, apsD2V.docvecs[tagInner].reshape(1, -1))[0][0])\n",
    "    heatmapMatrixC.append(column)\n",
    "heatmapMatrixC = np.array(heatmapMatrixC)"
   ]
  },
  {
   "cell_type": "code",
   "execution_count": 72,
   "metadata": {},
   "outputs": [
    {
     "data": {
      "text/plain": [
       "(10, 11)"
      ]
     },
     "execution_count": 72,
     "metadata": {},
     "output_type": "execute_result"
    }
   ],
   "source": [
    "heatmapMatrixC.shape"
   ]
  },
  {
   "cell_type": "code",
   "execution_count": 73,
   "metadata": {},
   "outputs": [
    {
     "data": {
      "image/png": "[encoded data removed]",
      "text/plain": [
       "<matplotlib.figure.Figure at 0x1c56a7c88>"
      ]
     },
     "metadata": {},
     "output_type": "display_data"
    }
   ],
   "source": [
    "fig, ax = plt.subplots()\n",
    "hmap = ax.pcolor(heatmapMatrixC, cmap='terrain')\n",
    "cbar = plt.colorbar(hmap)\n",
    "\n",
    "cbar.set_label('cosine similarity', rotation=270)\n",
    "a = ax.set_xticks(np.arange(heatmapMatrixC.shape[1]) + 0.5, minor=False)\n",
    "a = ax.set_yticks(np.arange(heatmapMatrixC.shape[0]) + 0.5, minor=False)\n",
    "\n",
    "a = ax.set_xticklabels(keywords, minor=False, rotation=270)\n",
    "a = ax.set_yticklabels(targetDocs, minor=False)"
   ]
  },
  {
   "cell_type": "markdown",
   "metadata": {},
   "source": [
    "We can save the model too..."
   ]
  },
  {
   "cell_type": "code",
   "execution_count": 78,
   "metadata": {},
   "outputs": [],
   "source": [
    "apsD2V.save('apsD2V_docVectorized')"
   ]
  },
  {
   "cell_type": "markdown",
   "metadata": {},
   "source": [
    "### Doc-Doc distances"
   ]
  },
  {
   "cell_type": "code",
   "execution_count": 80,
   "metadata": {},
   "outputs": [
    {
     "data": {
      "text/plain": [
       "(1000, 1000)"
      ]
     },
     "execution_count": 80,
     "metadata": {},
     "output_type": "execute_result"
    }
   ],
   "source": [
    "## Subsetting for quicker computation\n",
    "targetDocs = apsDF['uuid'][:1000]\n",
    "\n",
    "heatmapMatrixD_doc_doc = []\n",
    "\n",
    "for tagOuter in targetDocs:\n",
    "    column = []\n",
    "    tagVec = apsD2V.docvecs[tagOuter].reshape(1, -1)\n",
    "    for tagInner in targetDocs:\n",
    "        column.append(sklearn.metrics.pairwise.cosine_similarity(tagVec, apsD2V.docvecs[tagInner].reshape(1, -1))[0][0])\n",
    "    heatmapMatrixD_doc_doc.append(column)\n",
    "heatmapMatrixD_doc_doc = np.array(heatmapMatrixD_doc_doc)\n",
    "heatmapMatrixD_doc_doc.shape"
   ]
  },
  {
   "cell_type": "markdown",
   "metadata": {},
   "source": [
    "The heat matrix we obtained above is the required data. Each cell corresponds to the distance between the documents indexed in the corresponding row and column."
   ]
  },
  {
   "cell_type": "code",
   "execution_count": 88,
   "metadata": {
    "collapsed": true
   },
   "outputs": [],
   "source": [
    "## Saving the heatmap data as a pickle objectb\n",
    "pickle.dump(heatmapMatrixD_doc_doc,open('doc_doc_distance_heatmap.p','wb'))"
   ]
  },
  {
   "cell_type": "code",
   "execution_count": null,
   "metadata": {
    "collapsed": true
   },
   "outputs": [],
   "source": [
    "## To load the data saved above\n",
    "#pickle.load(open('doc_doc_distance_heatmap','rb'))"
   ]
  },
  {
   "cell_type": "markdown",
   "metadata": {},
   "source": [
    "### Doc-word distances"
   ]
  },
  {
   "cell_type": "code",
   "execution_count": 83,
   "metadata": {},
   "outputs": [],
   "source": [
    "heatmapMatrixC_doc_word = []\n",
    "targetDocs = apsDF['uuid']\n",
    "keywords_new=['war']\n",
    "\n",
    "for tagOuter in targetDocs:\n",
    "    column = []\n",
    "    tagVec = apsD2V.docvecs[tagOuter].reshape(1, -1)\n",
    "    for tagInner in keywords_new:\n",
    "        column.append(sklearn.metrics.pairwise.cosine_similarity(tagVec, apsD2V.docvecs[tagInner].reshape(1, -1))[0][0])\n",
    "    heatmapMatrixC_doc_word.append(column)\n",
    "heatmapMatrixC_doc_word = np.array(heatmapMatrixC_doc_word)"
   ]
  },
  {
   "cell_type": "markdown",
   "metadata": {},
   "source": [
    "The heat matrix we obtained above is the required data. Each cell corresponds to the distance between the documents and the word `war` indexed in the corresponding row and column."
   ]
  },
  {
   "cell_type": "code",
   "execution_count": 87,
   "metadata": {
    "collapsed": true
   },
   "outputs": [],
   "source": [
    "## Saving the heatmap data as a pickle objectb\n",
    "pickle.dump(heatmapMatrixC_doc_word,open('doc_word_distance_heatmap.p','wb'))"
   ]
  },
  {
   "cell_type": "code",
   "execution_count": 85,
   "metadata": {
    "collapsed": true
   },
   "outputs": [],
   "source": [
    "## To load the data saved above\n",
    "#pickle.load(open('doc_word_distance_heatmap','rb'))"
   ]
  },
  {
   "cell_type": "markdown",
   "metadata": {},
   "source": [
    "## Projection"
   ]
  },
  {
   "cell_type": "markdown",
   "metadata": {},
   "source": [
    "We can also project word vectors to an arbitray semantic dimension. For this purpose, we are going to use our already trained model"
   ]
  },
  {
   "cell_type": "code",
   "execution_count": 86,
   "metadata": {
    "collapsed": true
   },
   "outputs": [],
   "source": [
    "final_W2V = gensim.models.word2vec.Word2Vec(all_news['normalized_sents'].sum())  ##creating for req in this question"
   ]
  },
  {
   "cell_type": "code",
   "execution_count": 89,
   "metadata": {
    "collapsed": true
   },
   "outputs": [],
   "source": [
    "## Saving the model as a pickle object\n",
    "pickle.dump(final_W2V,open('projectionData_q3.p','wb'))"
   ]
  },
  {
   "cell_type": "code",
   "execution_count": 90,
   "metadata": {
    "collapsed": true
   },
   "outputs": [],
   "source": [
    "## To load the object saved above\n",
    "#pickle.load(open('projectionData_q3.p','rb'))"
   ]
  },
  {
   "cell_type": "markdown",
   "metadata": {},
   "source": [
    "First we can visualize with dimension reduction"
   ]
  },
  {
   "cell_type": "code",
   "execution_count": 91,
   "metadata": {},
   "outputs": [
    {
     "data": {
      "text/plain": [
       "array([[-0.4905794 , -2.0793965 , -2.7700303 , ..., -1.4831102 ,\n",
       "        -2.9686022 ,  0.04323005],\n",
       "       [ 0.5059305 ,  0.262688  , -0.25401866, ..., -2.6603246 ,\n",
       "        -2.3049111 ,  0.12724997],\n",
       "       [-0.3136427 , -2.1744761 , -2.8129287 , ..., -1.8048176 ,\n",
       "        -0.55486184,  0.7131148 ],\n",
       "       ...,\n",
       "       [-0.9959467 , -0.23360032, -2.7864175 , ..., -0.46196648,\n",
       "        -0.48421004, -1.0411971 ],\n",
       "       [-0.29301363,  0.3587723 ,  1.5927702 , ..., -1.9268513 ,\n",
       "         1.0351288 , -0.95023346],\n",
       "       [ 0.4984436 ,  0.22546057, -0.5397533 , ..., -0.42147204,\n",
       "         1.0120292 , -1.2703334 ]], dtype=float32)"
      ]
     },
     "execution_count": 91,
     "metadata": {},
     "output_type": "execute_result"
    }
   ],
   "source": [
    "#words to create dimensions\n",
    "##tnytTargetWords = ['man','he', 'woman', 'her', 'she', 'black','blacks','African', 'white', 'whites', 'Caucasian', 'rich', 'richer', 'richest', 'expensive', 'wealthy', 'poor', 'poorer', 'poorest', 'cheap', 'inexpensive']\n",
    "#words we will be mapping\n",
    "#tnytTargetWords += [\"doctor\",\"lawyer\",\"plumber\",\"scientist\",\"hairdresser\", \"nanny\",\"carpenter\",\"entrepreneur\",\"musician\",\"writer\", \"banker\",\"poet\",\"nurse\", \"steak\", \"bacon\", \"croissant\", \"cheesecake\", \"salad\", \"cheeseburger\", \"vegetables\", \"beer\", \"wine\", \"pastry\", \"basketball\", \"baseball\", \"boxing\", \"softball\", \"volleyball\", \"tennis\", \"golf\", \"hockey\", \"soccer\"]\n",
    "\n",
    "numWords = 200\n",
    "targetWords = final_W2V.wv.index2word[:numWords]\n",
    "\n",
    "wordsSubMatrix = []\n",
    "for word in targetWords:\n",
    "    wordsSubMatrix.append(final_W2V[word])\n",
    "wordsSubMatrix = np.array(wordsSubMatrix)\n",
    "wordsSubMatrix"
   ]
  },
  {
   "cell_type": "code",
   "execution_count": 92,
   "metadata": {
    "collapsed": true
   },
   "outputs": [],
   "source": [
    "pcaWordsNYT = sklearn.decomposition.PCA(n_components = 50).fit(wordsSubMatrix)\n",
    "reducedPCA_dataNYT = pcaWordsNYT.transform(wordsSubMatrix)\n",
    "#T-SNE is theoretically better, but you should experiment\n",
    "tsneWordsNYT = sklearn.manifold.TSNE(n_components = 2).fit_transform(reducedPCA_dataNYT)"
   ]
  },
  {
   "cell_type": "code",
   "execution_count": 93,
   "metadata": {},
   "outputs": [
    {
     "data": {
      "image/png": "[encoded data removed]",
      "text/plain": [
       "<matplotlib.figure.Figure at 0x1bd37b828>"
      ]
     },
     "metadata": {},
     "output_type": "display_data"
    }
   ],
   "source": [
    "fig = plt.figure(figsize = (20,15))\n",
    "ax = fig.add_subplot(111)\n",
    "ax.set_frame_on(False)\n",
    "plt.scatter(tsneWordsNYT[:, 0], tsneWordsNYT[:, 1], alpha = 0) #Making the points invisible\n",
    "for i, word in enumerate(targetWords):\n",
    "    ax.annotate(word, (tsneWordsNYT[:, 0][i],tsneWordsNYT[:, 1][i]), size =  20 * (len(targetWords) - i) / len(targetWords))\n",
    "plt.xticks(())\n",
    "plt.yticks(())\n",
    "plt.show()"
   ]
  },
  {
   "cell_type": "markdown",
   "metadata": {},
   "source": [
    "Observe how `media`, `news` and `article` are clustered. Also interestingly `russia` is close to `syria` and at the same time to `election` and `vote`"
   ]
  },
  {
   "cell_type": "markdown",
   "metadata": {},
   "source": [
    "Define some convenient functions for getting dimensions. "
   ]
  },
  {
   "cell_type": "code",
   "execution_count": 94,
   "metadata": {
    "collapsed": true
   },
   "outputs": [],
   "source": [
    "def normalize(vector):\n",
    "    normalized_vector = vector / np.linalg.norm(vector,np.inf) ## using the 'inf' norm due to bug issues with Frobenius norm\n",
    "    return normalized_vector\n",
    "\n",
    "def dimension(model, positives, negatives):\n",
    "    diff = sum([normalize(model[x]) for x in positives]) - sum([normalize(model[y]) for y in negatives])\n",
    "    return diff"
   ]
  },
  {
   "cell_type": "markdown",
   "metadata": {},
   "source": [
    "Let's calculate three dimensions: gender, race, and class."
   ]
  },
  {
   "cell_type": "code",
   "execution_count": 95,
   "metadata": {
    "collapsed": true
   },
   "outputs": [],
   "source": [
    "Political_Orientation = dimension(final_W2V, ['republican','republicans','conservative'], ['liberal','progressive','leftist'])\n",
    "Truthfullness = dimension(final_W2V,['finest','straight','cooperating','heartfelt','plead'],['terrorism','stealing','fraud','scamming','incriminating']) ##somalis, muslim\n",
    "Race = dimension(final_W2V, ['black','blacks'], ['white', 'whites'])\n",
    "Institution = dimension(final_W2V, ['federal','government','military'], ['media','paper','judge','fbi'])"
   ]
  },
  {
   "cell_type": "markdown",
   "metadata": {},
   "source": [
    "Now we define some words to be projected onto the semantic dimensions defined earlier."
   ]
  },
  {
   "cell_type": "code",
   "execution_count": 96,
   "metadata": {
    "collapsed": true
   },
   "outputs": [],
   "source": [
    "plot_words = ['trump','hillary','obama','mueller','lynch','loretta','fbi','military']\n"
   ]
  },
  {
   "cell_type": "code",
   "execution_count": 99,
   "metadata": {
    "collapsed": true
   },
   "outputs": [],
   "source": [
    "def makeDF(model, word_list):\n",
    "    g = []\n",
    "    t = []\n",
    "    r = []\n",
    "    c = []\n",
    "    for word in word_list:\n",
    "        g.append(sklearn.metrics.pairwise.cosine_similarity(all_news_W2V[word].reshape(1,-1), Political_Orientation.reshape(1,-1))[0][0])\n",
    "        t.append(sklearn.metrics.pairwise.cosine_similarity(all_news_W2V[word].reshape(1,-1), Truthfullness.reshape(1,-1))[0][0])\n",
    "        r.append(sklearn.metrics.pairwise.cosine_similarity(all_news_W2V[word].reshape(1,-1), Race.reshape(1,-1))[0][0])\n",
    "        c.append(sklearn.metrics.pairwise.cosine_similarity(all_news_W2V[word].reshape(1,-1), Institution.reshape(1,-1))[0][0])\n",
    "    df = pandas.DataFrame({'politics': g, 'honesty':t,'race': r, 'institution': c}, index = word_list)\n",
    "    return df"
   ]
  },
  {
   "cell_type": "code",
   "execution_count": 100,
   "metadata": {},
   "outputs": [],
   "source": [
    "imp_people_df = makeDF(final_W2V, plot_words) \n"
   ]
  },
  {
   "cell_type": "markdown",
   "metadata": {},
   "source": [
    "Define some useful functions for plotting."
   ]
  },
  {
   "cell_type": "code",
   "execution_count": 101,
   "metadata": {
    "collapsed": true
   },
   "outputs": [],
   "source": [
    "def Coloring(Series):\n",
    "    x = Series.values\n",
    "    y = x-x.min()\n",
    "    z = y/y.max()\n",
    "    c = list(plt.cm.rainbow(z))\n",
    "    return c\n",
    "\n",
    "def PlotDimension(ax,df, dim):\n",
    "    ax.set_frame_on(False)\n",
    "    ax.set_title(dim, fontsize = 20)\n",
    "    colors = Coloring(df[dim])\n",
    "    for i, word in enumerate(df.index):\n",
    "        ax.annotate(word, (0, df[dim][i]), color = colors[i], alpha = 0.6, fontsize = 12)\n",
    "    MaxY = df[dim].max()\n",
    "    MinY = df[dim].min()\n",
    "    plt.ylim(MinY,MaxY)\n",
    "    plt.yticks(())\n",
    "    plt.xticks(())"
   ]
  },
  {
   "cell_type": "code",
   "execution_count": 102,
   "metadata": {},
   "outputs": [
    {
     "data": {
      "image/png": "[encoded data removed]",
      "text/plain": [
       "<matplotlib.figure.Figure at 0x1bd95d208>"
      ]
     },
     "metadata": {},
     "output_type": "display_data"
    }
   ],
   "source": [
    "fig = plt.figure(figsize = (20,7))\n",
    "ax1 = fig.add_subplot(131)\n",
    "PlotDimension(ax1, imp_people_df, 'politics')\n",
    "ax2 = fig.add_subplot(132)\n",
    "PlotDimension(ax2, imp_people_df, 'honesty')\n",
    "ax3 = fig.add_subplot(133)\n",
    "PlotDimension(ax3, imp_people_df, 'race')\n",
    "plt.show()"
   ]
  },
  {
   "cell_type": "markdown",
   "metadata": {},
   "source": [
    "We see that the words arsimilarly distributed under the dimension of `politics`, `race` and `honesty`. We observe the most variation under `race` though. Despite the fact that we are using fake news data, `mueller` is to being honest while unsurprisingly `hillary` is observed at the bottom. What is surprisingly to me was that on the political scale, `trump` and `hillary` are closeby. This could means that in terms of their political leanings both are more or less left of center or centrist. Further analysis of this dataset could provide interesting additional insights. "
   ]
  },
  {
   "cell_type": "code",
   "execution_count": null,
   "metadata": {
    "collapsed": true
   },
   "outputs": [],
   "source": []
  }
 ],
 "metadata": {
  "kernelspec": {
   "display_name": "Python 3",
   "language": "python",
   "name": "python3"
  },
  "language_info": {
   "codemirror_mode": {
    "name": "ipython",
    "version": 3
   },
   "file_extension": ".py",
   "mimetype": "text/x-python",
   "name": "python",
   "nbconvert_exporter": "python",
   "pygments_lexer": "ipython3",
   "version": "3.6.3"
  }
 },
 "nbformat": 4,
 "nbformat_minor": 2
}
